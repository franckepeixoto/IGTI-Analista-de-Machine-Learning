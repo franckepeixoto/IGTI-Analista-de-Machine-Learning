{
  "nbformat": 4,
  "nbformat_minor": 0,
  "metadata": {
    "colab": {
      "name": "Módulo 2 Trabalho Prático - Francke Peixoto",
      "provenance": [],
      "collapsed_sections": [
        "ZCVbPPGE8_u5"
      ],
      "authorship_tag": "ABX9TyOiD5WTW2pk8ct87RiJrbA+",
      "include_colab_link": true
    },
    "kernelspec": {
      "name": "python3",
      "display_name": "Python 3"
    },
    "widgets": {
      "application/vnd.jupyter.widget-state+json": {
        "fd83b3b1ac2d404e83d739dc11747733": {
          "model_module": "@jupyter-widgets/controls",
          "model_name": "ButtonModel",
          "state": {
            "_view_name": "ButtonView",
            "style": "IPY_MODEL_89bd6275cde14f0b922c6519a05e7abf",
            "_dom_classes": [],
            "description": "Ver resposta",
            "_model_name": "ButtonModel",
            "button_style": "",
            "_view_module": "@jupyter-widgets/controls",
            "_model_module_version": "1.5.0",
            "tooltip": "",
            "_view_count": null,
            "disabled": false,
            "_view_module_version": "1.5.0",
            "layout": "IPY_MODEL_e028d3191df148eca06fd5034a0fde15",
            "_model_module": "@jupyter-widgets/controls",
            "icon": ""
          }
        },
        "89bd6275cde14f0b922c6519a05e7abf": {
          "model_module": "@jupyter-widgets/controls",
          "model_name": "ButtonStyleModel",
          "state": {
            "_view_name": "StyleView",
            "_model_name": "ButtonStyleModel",
            "_view_module": "@jupyter-widgets/base",
            "_model_module_version": "1.5.0",
            "_view_count": null,
            "button_color": null,
            "font_weight": "",
            "_view_module_version": "1.2.0",
            "_model_module": "@jupyter-widgets/controls"
          }
        },
        "e028d3191df148eca06fd5034a0fde15": {
          "model_module": "@jupyter-widgets/base",
          "model_name": "LayoutModel",
          "state": {
            "_view_name": "LayoutView",
            "grid_template_rows": null,
            "right": null,
            "justify_content": null,
            "_view_module": "@jupyter-widgets/base",
            "overflow": null,
            "_model_module_version": "1.2.0",
            "_view_count": null,
            "flex_flow": null,
            "width": null,
            "min_width": null,
            "border": null,
            "align_items": null,
            "bottom": null,
            "_model_module": "@jupyter-widgets/base",
            "top": null,
            "grid_column": null,
            "overflow_y": null,
            "overflow_x": null,
            "grid_auto_flow": null,
            "grid_area": null,
            "grid_template_columns": null,
            "flex": null,
            "_model_name": "LayoutModel",
            "justify_items": null,
            "grid_row": null,
            "max_height": null,
            "align_content": null,
            "visibility": null,
            "align_self": null,
            "height": null,
            "min_height": null,
            "padding": null,
            "grid_auto_rows": null,
            "grid_gap": null,
            "max_width": null,
            "order": null,
            "_view_module_version": "1.2.0",
            "grid_template_areas": null,
            "object_position": null,
            "object_fit": null,
            "grid_auto_columns": null,
            "margin": null,
            "display": null,
            "left": null
          }
        },
        "68446ef34ebf4236a926a9b369c550fa": {
          "model_module": "@jupyter-widgets/controls",
          "model_name": "ButtonModel",
          "state": {
            "_view_name": "ButtonView",
            "style": "IPY_MODEL_40949cca232a413d87f28090d7797a08",
            "_dom_classes": [],
            "description": "Ver resposta",
            "_model_name": "ButtonModel",
            "button_style": "",
            "_view_module": "@jupyter-widgets/controls",
            "_model_module_version": "1.5.0",
            "tooltip": "",
            "_view_count": null,
            "disabled": false,
            "_view_module_version": "1.5.0",
            "layout": "IPY_MODEL_291a79c738d34d638e39426b5eeda464",
            "_model_module": "@jupyter-widgets/controls",
            "icon": ""
          }
        },
        "40949cca232a413d87f28090d7797a08": {
          "model_module": "@jupyter-widgets/controls",
          "model_name": "ButtonStyleModel",
          "state": {
            "_view_name": "StyleView",
            "_model_name": "ButtonStyleModel",
            "_view_module": "@jupyter-widgets/base",
            "_model_module_version": "1.5.0",
            "_view_count": null,
            "button_color": null,
            "font_weight": "",
            "_view_module_version": "1.2.0",
            "_model_module": "@jupyter-widgets/controls"
          }
        },
        "291a79c738d34d638e39426b5eeda464": {
          "model_module": "@jupyter-widgets/base",
          "model_name": "LayoutModel",
          "state": {
            "_view_name": "LayoutView",
            "grid_template_rows": null,
            "right": null,
            "justify_content": null,
            "_view_module": "@jupyter-widgets/base",
            "overflow": null,
            "_model_module_version": "1.2.0",
            "_view_count": null,
            "flex_flow": null,
            "width": null,
            "min_width": null,
            "border": null,
            "align_items": null,
            "bottom": null,
            "_model_module": "@jupyter-widgets/base",
            "top": null,
            "grid_column": null,
            "overflow_y": null,
            "overflow_x": null,
            "grid_auto_flow": null,
            "grid_area": null,
            "grid_template_columns": null,
            "flex": null,
            "_model_name": "LayoutModel",
            "justify_items": null,
            "grid_row": null,
            "max_height": null,
            "align_content": null,
            "visibility": null,
            "align_self": null,
            "height": null,
            "min_height": null,
            "padding": null,
            "grid_auto_rows": null,
            "grid_gap": null,
            "max_width": null,
            "order": null,
            "_view_module_version": "1.2.0",
            "grid_template_areas": null,
            "object_position": null,
            "object_fit": null,
            "grid_auto_columns": null,
            "margin": null,
            "display": null,
            "left": null
          }
        },
        "fda54c2b2cd9400b8324d3e36f9e6f2a": {
          "model_module": "@jupyter-widgets/controls",
          "model_name": "ButtonModel",
          "state": {
            "_view_name": "ButtonView",
            "style": "IPY_MODEL_81eea3133178439baa6cd5fb4b9a834b",
            "_dom_classes": [],
            "description": "Ver resposta",
            "_model_name": "ButtonModel",
            "button_style": "",
            "_view_module": "@jupyter-widgets/controls",
            "_model_module_version": "1.5.0",
            "tooltip": "",
            "_view_count": null,
            "disabled": false,
            "_view_module_version": "1.5.0",
            "layout": "IPY_MODEL_ca42e101631c4164bc408d3b297fe9ba",
            "_model_module": "@jupyter-widgets/controls",
            "icon": ""
          }
        },
        "81eea3133178439baa6cd5fb4b9a834b": {
          "model_module": "@jupyter-widgets/controls",
          "model_name": "ButtonStyleModel",
          "state": {
            "_view_name": "StyleView",
            "_model_name": "ButtonStyleModel",
            "_view_module": "@jupyter-widgets/base",
            "_model_module_version": "1.5.0",
            "_view_count": null,
            "button_color": null,
            "font_weight": "",
            "_view_module_version": "1.2.0",
            "_model_module": "@jupyter-widgets/controls"
          }
        },
        "ca42e101631c4164bc408d3b297fe9ba": {
          "model_module": "@jupyter-widgets/base",
          "model_name": "LayoutModel",
          "state": {
            "_view_name": "LayoutView",
            "grid_template_rows": null,
            "right": null,
            "justify_content": null,
            "_view_module": "@jupyter-widgets/base",
            "overflow": null,
            "_model_module_version": "1.2.0",
            "_view_count": null,
            "flex_flow": null,
            "width": null,
            "min_width": null,
            "border": null,
            "align_items": null,
            "bottom": null,
            "_model_module": "@jupyter-widgets/base",
            "top": null,
            "grid_column": null,
            "overflow_y": null,
            "overflow_x": null,
            "grid_auto_flow": null,
            "grid_area": null,
            "grid_template_columns": null,
            "flex": null,
            "_model_name": "LayoutModel",
            "justify_items": null,
            "grid_row": null,
            "max_height": null,
            "align_content": null,
            "visibility": null,
            "align_self": null,
            "height": null,
            "min_height": null,
            "padding": null,
            "grid_auto_rows": null,
            "grid_gap": null,
            "max_width": null,
            "order": null,
            "_view_module_version": "1.2.0",
            "grid_template_areas": null,
            "object_position": null,
            "object_fit": null,
            "grid_auto_columns": null,
            "margin": null,
            "display": null,
            "left": null
          }
        },
        "81430cb057b14ab09ffbc640f2305cdb": {
          "model_module": "@jupyter-widgets/controls",
          "model_name": "ButtonModel",
          "state": {
            "_view_name": "ButtonView",
            "style": "IPY_MODEL_898ee06858824e00ad086122fa4399a0",
            "_dom_classes": [],
            "description": "Ver resposta",
            "_model_name": "ButtonModel",
            "button_style": "",
            "_view_module": "@jupyter-widgets/controls",
            "_model_module_version": "1.5.0",
            "tooltip": "",
            "_view_count": null,
            "disabled": false,
            "_view_module_version": "1.5.0",
            "layout": "IPY_MODEL_0e3054901efe4a5799490a250f617088",
            "_model_module": "@jupyter-widgets/controls",
            "icon": ""
          }
        },
        "898ee06858824e00ad086122fa4399a0": {
          "model_module": "@jupyter-widgets/controls",
          "model_name": "ButtonStyleModel",
          "state": {
            "_view_name": "StyleView",
            "_model_name": "ButtonStyleModel",
            "_view_module": "@jupyter-widgets/base",
            "_model_module_version": "1.5.0",
            "_view_count": null,
            "button_color": null,
            "font_weight": "",
            "_view_module_version": "1.2.0",
            "_model_module": "@jupyter-widgets/controls"
          }
        },
        "0e3054901efe4a5799490a250f617088": {
          "model_module": "@jupyter-widgets/base",
          "model_name": "LayoutModel",
          "state": {
            "_view_name": "LayoutView",
            "grid_template_rows": null,
            "right": null,
            "justify_content": null,
            "_view_module": "@jupyter-widgets/base",
            "overflow": null,
            "_model_module_version": "1.2.0",
            "_view_count": null,
            "flex_flow": null,
            "width": null,
            "min_width": null,
            "border": null,
            "align_items": null,
            "bottom": null,
            "_model_module": "@jupyter-widgets/base",
            "top": null,
            "grid_column": null,
            "overflow_y": null,
            "overflow_x": null,
            "grid_auto_flow": null,
            "grid_area": null,
            "grid_template_columns": null,
            "flex": null,
            "_model_name": "LayoutModel",
            "justify_items": null,
            "grid_row": null,
            "max_height": null,
            "align_content": null,
            "visibility": null,
            "align_self": null,
            "height": null,
            "min_height": null,
            "padding": null,
            "grid_auto_rows": null,
            "grid_gap": null,
            "max_width": null,
            "order": null,
            "_view_module_version": "1.2.0",
            "grid_template_areas": null,
            "object_position": null,
            "object_fit": null,
            "grid_auto_columns": null,
            "margin": null,
            "display": null,
            "left": null
          }
        },
        "5cdab3301eb74d5a8146f83059cf255a": {
          "model_module": "@jupyter-widgets/controls",
          "model_name": "ButtonModel",
          "state": {
            "_view_name": "ButtonView",
            "style": "IPY_MODEL_08089f4bb5274c10a501a7a773fe5fe2",
            "_dom_classes": [],
            "description": "Ver resposta",
            "_model_name": "ButtonModel",
            "button_style": "",
            "_view_module": "@jupyter-widgets/controls",
            "_model_module_version": "1.5.0",
            "tooltip": "",
            "_view_count": null,
            "disabled": false,
            "_view_module_version": "1.5.0",
            "layout": "IPY_MODEL_8313de4820134e4aaade480b10e7366e",
            "_model_module": "@jupyter-widgets/controls",
            "icon": ""
          }
        },
        "08089f4bb5274c10a501a7a773fe5fe2": {
          "model_module": "@jupyter-widgets/controls",
          "model_name": "ButtonStyleModel",
          "state": {
            "_view_name": "StyleView",
            "_model_name": "ButtonStyleModel",
            "_view_module": "@jupyter-widgets/base",
            "_model_module_version": "1.5.0",
            "_view_count": null,
            "button_color": null,
            "font_weight": "",
            "_view_module_version": "1.2.0",
            "_model_module": "@jupyter-widgets/controls"
          }
        },
        "8313de4820134e4aaade480b10e7366e": {
          "model_module": "@jupyter-widgets/base",
          "model_name": "LayoutModel",
          "state": {
            "_view_name": "LayoutView",
            "grid_template_rows": null,
            "right": null,
            "justify_content": null,
            "_view_module": "@jupyter-widgets/base",
            "overflow": null,
            "_model_module_version": "1.2.0",
            "_view_count": null,
            "flex_flow": null,
            "width": null,
            "min_width": null,
            "border": null,
            "align_items": null,
            "bottom": null,
            "_model_module": "@jupyter-widgets/base",
            "top": null,
            "grid_column": null,
            "overflow_y": null,
            "overflow_x": null,
            "grid_auto_flow": null,
            "grid_area": null,
            "grid_template_columns": null,
            "flex": null,
            "_model_name": "LayoutModel",
            "justify_items": null,
            "grid_row": null,
            "max_height": null,
            "align_content": null,
            "visibility": null,
            "align_self": null,
            "height": null,
            "min_height": null,
            "padding": null,
            "grid_auto_rows": null,
            "grid_gap": null,
            "max_width": null,
            "order": null,
            "_view_module_version": "1.2.0",
            "grid_template_areas": null,
            "object_position": null,
            "object_fit": null,
            "grid_auto_columns": null,
            "margin": null,
            "display": null,
            "left": null
          }
        },
        "4c5946a7f8ce494b9219b84155da8195": {
          "model_module": "@jupyter-widgets/controls",
          "model_name": "ButtonModel",
          "state": {
            "_view_name": "ButtonView",
            "style": "IPY_MODEL_8d8fb725155d4b9b92c810fd759938f2",
            "_dom_classes": [],
            "description": "Ver resposta",
            "_model_name": "ButtonModel",
            "button_style": "",
            "_view_module": "@jupyter-widgets/controls",
            "_model_module_version": "1.5.0",
            "tooltip": "",
            "_view_count": null,
            "disabled": false,
            "_view_module_version": "1.5.0",
            "layout": "IPY_MODEL_70572aa566b94b69bb82a846fcd461bd",
            "_model_module": "@jupyter-widgets/controls",
            "icon": ""
          }
        },
        "8d8fb725155d4b9b92c810fd759938f2": {
          "model_module": "@jupyter-widgets/controls",
          "model_name": "ButtonStyleModel",
          "state": {
            "_view_name": "StyleView",
            "_model_name": "ButtonStyleModel",
            "_view_module": "@jupyter-widgets/base",
            "_model_module_version": "1.5.0",
            "_view_count": null,
            "button_color": null,
            "font_weight": "",
            "_view_module_version": "1.2.0",
            "_model_module": "@jupyter-widgets/controls"
          }
        },
        "70572aa566b94b69bb82a846fcd461bd": {
          "model_module": "@jupyter-widgets/base",
          "model_name": "LayoutModel",
          "state": {
            "_view_name": "LayoutView",
            "grid_template_rows": null,
            "right": null,
            "justify_content": null,
            "_view_module": "@jupyter-widgets/base",
            "overflow": null,
            "_model_module_version": "1.2.0",
            "_view_count": null,
            "flex_flow": null,
            "width": null,
            "min_width": null,
            "border": null,
            "align_items": null,
            "bottom": null,
            "_model_module": "@jupyter-widgets/base",
            "top": null,
            "grid_column": null,
            "overflow_y": null,
            "overflow_x": null,
            "grid_auto_flow": null,
            "grid_area": null,
            "grid_template_columns": null,
            "flex": null,
            "_model_name": "LayoutModel",
            "justify_items": null,
            "grid_row": null,
            "max_height": null,
            "align_content": null,
            "visibility": null,
            "align_self": null,
            "height": null,
            "min_height": null,
            "padding": null,
            "grid_auto_rows": null,
            "grid_gap": null,
            "max_width": null,
            "order": null,
            "_view_module_version": "1.2.0",
            "grid_template_areas": null,
            "object_position": null,
            "object_fit": null,
            "grid_auto_columns": null,
            "margin": null,
            "display": null,
            "left": null
          }
        },
        "4882e538a7494549a8c53c2bfa3712b3": {
          "model_module": "@jupyter-widgets/controls",
          "model_name": "ButtonModel",
          "state": {
            "_view_name": "ButtonView",
            "style": "IPY_MODEL_34a159b583c9413fa3fe86f0c63eb9d1",
            "_dom_classes": [],
            "description": "Ver resposta",
            "_model_name": "ButtonModel",
            "button_style": "",
            "_view_module": "@jupyter-widgets/controls",
            "_model_module_version": "1.5.0",
            "tooltip": "",
            "_view_count": null,
            "disabled": false,
            "_view_module_version": "1.5.0",
            "layout": "IPY_MODEL_9395de34442146f5915cc014b8804af5",
            "_model_module": "@jupyter-widgets/controls",
            "icon": ""
          }
        },
        "34a159b583c9413fa3fe86f0c63eb9d1": {
          "model_module": "@jupyter-widgets/controls",
          "model_name": "ButtonStyleModel",
          "state": {
            "_view_name": "StyleView",
            "_model_name": "ButtonStyleModel",
            "_view_module": "@jupyter-widgets/base",
            "_model_module_version": "1.5.0",
            "_view_count": null,
            "button_color": null,
            "font_weight": "",
            "_view_module_version": "1.2.0",
            "_model_module": "@jupyter-widgets/controls"
          }
        },
        "9395de34442146f5915cc014b8804af5": {
          "model_module": "@jupyter-widgets/base",
          "model_name": "LayoutModel",
          "state": {
            "_view_name": "LayoutView",
            "grid_template_rows": null,
            "right": null,
            "justify_content": null,
            "_view_module": "@jupyter-widgets/base",
            "overflow": null,
            "_model_module_version": "1.2.0",
            "_view_count": null,
            "flex_flow": null,
            "width": null,
            "min_width": null,
            "border": null,
            "align_items": null,
            "bottom": null,
            "_model_module": "@jupyter-widgets/base",
            "top": null,
            "grid_column": null,
            "overflow_y": null,
            "overflow_x": null,
            "grid_auto_flow": null,
            "grid_area": null,
            "grid_template_columns": null,
            "flex": null,
            "_model_name": "LayoutModel",
            "justify_items": null,
            "grid_row": null,
            "max_height": null,
            "align_content": null,
            "visibility": null,
            "align_self": null,
            "height": null,
            "min_height": null,
            "padding": null,
            "grid_auto_rows": null,
            "grid_gap": null,
            "max_width": null,
            "order": null,
            "_view_module_version": "1.2.0",
            "grid_template_areas": null,
            "object_position": null,
            "object_fit": null,
            "grid_auto_columns": null,
            "margin": null,
            "display": null,
            "left": null
          }
        },
        "004199bc8ae74b6f824af85a3ebdd2db": {
          "model_module": "@jupyter-widgets/controls",
          "model_name": "ButtonModel",
          "state": {
            "_view_name": "ButtonView",
            "style": "IPY_MODEL_e30168fa7b16400592135ee8a076c110",
            "_dom_classes": [],
            "description": "Ver resposta",
            "_model_name": "ButtonModel",
            "button_style": "",
            "_view_module": "@jupyter-widgets/controls",
            "_model_module_version": "1.5.0",
            "tooltip": "",
            "_view_count": null,
            "disabled": false,
            "_view_module_version": "1.5.0",
            "layout": "IPY_MODEL_9ce59750431f46f5963813595824c90f",
            "_model_module": "@jupyter-widgets/controls",
            "icon": ""
          }
        },
        "e30168fa7b16400592135ee8a076c110": {
          "model_module": "@jupyter-widgets/controls",
          "model_name": "ButtonStyleModel",
          "state": {
            "_view_name": "StyleView",
            "_model_name": "ButtonStyleModel",
            "_view_module": "@jupyter-widgets/base",
            "_model_module_version": "1.5.0",
            "_view_count": null,
            "button_color": null,
            "font_weight": "",
            "_view_module_version": "1.2.0",
            "_model_module": "@jupyter-widgets/controls"
          }
        },
        "9ce59750431f46f5963813595824c90f": {
          "model_module": "@jupyter-widgets/base",
          "model_name": "LayoutModel",
          "state": {
            "_view_name": "LayoutView",
            "grid_template_rows": null,
            "right": null,
            "justify_content": null,
            "_view_module": "@jupyter-widgets/base",
            "overflow": null,
            "_model_module_version": "1.2.0",
            "_view_count": null,
            "flex_flow": null,
            "width": null,
            "min_width": null,
            "border": null,
            "align_items": null,
            "bottom": null,
            "_model_module": "@jupyter-widgets/base",
            "top": null,
            "grid_column": null,
            "overflow_y": null,
            "overflow_x": null,
            "grid_auto_flow": null,
            "grid_area": null,
            "grid_template_columns": null,
            "flex": null,
            "_model_name": "LayoutModel",
            "justify_items": null,
            "grid_row": null,
            "max_height": null,
            "align_content": null,
            "visibility": null,
            "align_self": null,
            "height": null,
            "min_height": null,
            "padding": null,
            "grid_auto_rows": null,
            "grid_gap": null,
            "max_width": null,
            "order": null,
            "_view_module_version": "1.2.0",
            "grid_template_areas": null,
            "object_position": null,
            "object_fit": null,
            "grid_auto_columns": null,
            "margin": null,
            "display": null,
            "left": null
          }
        },
        "abc3ddb148a74ab2bf93dcea54d6c4ec": {
          "model_module": "@jupyter-widgets/controls",
          "model_name": "ButtonModel",
          "state": {
            "_view_name": "ButtonView",
            "style": "IPY_MODEL_b27ceae480b74f87bdf146ce8c0c7727",
            "_dom_classes": [],
            "description": "Ver resposta",
            "_model_name": "ButtonModel",
            "button_style": "",
            "_view_module": "@jupyter-widgets/controls",
            "_model_module_version": "1.5.0",
            "tooltip": "",
            "_view_count": null,
            "disabled": false,
            "_view_module_version": "1.5.0",
            "layout": "IPY_MODEL_6aaeaf8a3f9b413d95cac9f5e0b11a51",
            "_model_module": "@jupyter-widgets/controls",
            "icon": ""
          }
        },
        "b27ceae480b74f87bdf146ce8c0c7727": {
          "model_module": "@jupyter-widgets/controls",
          "model_name": "ButtonStyleModel",
          "state": {
            "_view_name": "StyleView",
            "_model_name": "ButtonStyleModel",
            "_view_module": "@jupyter-widgets/base",
            "_model_module_version": "1.5.0",
            "_view_count": null,
            "button_color": null,
            "font_weight": "",
            "_view_module_version": "1.2.0",
            "_model_module": "@jupyter-widgets/controls"
          }
        },
        "6aaeaf8a3f9b413d95cac9f5e0b11a51": {
          "model_module": "@jupyter-widgets/base",
          "model_name": "LayoutModel",
          "state": {
            "_view_name": "LayoutView",
            "grid_template_rows": null,
            "right": null,
            "justify_content": null,
            "_view_module": "@jupyter-widgets/base",
            "overflow": null,
            "_model_module_version": "1.2.0",
            "_view_count": null,
            "flex_flow": null,
            "width": null,
            "min_width": null,
            "border": null,
            "align_items": null,
            "bottom": null,
            "_model_module": "@jupyter-widgets/base",
            "top": null,
            "grid_column": null,
            "overflow_y": null,
            "overflow_x": null,
            "grid_auto_flow": null,
            "grid_area": null,
            "grid_template_columns": null,
            "flex": null,
            "_model_name": "LayoutModel",
            "justify_items": null,
            "grid_row": null,
            "max_height": null,
            "align_content": null,
            "visibility": null,
            "align_self": null,
            "height": null,
            "min_height": null,
            "padding": null,
            "grid_auto_rows": null,
            "grid_gap": null,
            "max_width": null,
            "order": null,
            "_view_module_version": "1.2.0",
            "grid_template_areas": null,
            "object_position": null,
            "object_fit": null,
            "grid_auto_columns": null,
            "margin": null,
            "display": null,
            "left": null
          }
        },
        "5fc6d34790204bff9a604df4e51e5a08": {
          "model_module": "@jupyter-widgets/controls",
          "model_name": "ButtonModel",
          "state": {
            "_view_name": "ButtonView",
            "style": "IPY_MODEL_627c66d363dd4b269d4308b7e1e26e2c",
            "_dom_classes": [],
            "description": "Ver resposta",
            "_model_name": "ButtonModel",
            "button_style": "",
            "_view_module": "@jupyter-widgets/controls",
            "_model_module_version": "1.5.0",
            "tooltip": "",
            "_view_count": null,
            "disabled": false,
            "_view_module_version": "1.5.0",
            "layout": "IPY_MODEL_7703d20c64884d098bd0b955b1150713",
            "_model_module": "@jupyter-widgets/controls",
            "icon": ""
          }
        },
        "627c66d363dd4b269d4308b7e1e26e2c": {
          "model_module": "@jupyter-widgets/controls",
          "model_name": "ButtonStyleModel",
          "state": {
            "_view_name": "StyleView",
            "_model_name": "ButtonStyleModel",
            "_view_module": "@jupyter-widgets/base",
            "_model_module_version": "1.5.0",
            "_view_count": null,
            "button_color": null,
            "font_weight": "",
            "_view_module_version": "1.2.0",
            "_model_module": "@jupyter-widgets/controls"
          }
        },
        "7703d20c64884d098bd0b955b1150713": {
          "model_module": "@jupyter-widgets/base",
          "model_name": "LayoutModel",
          "state": {
            "_view_name": "LayoutView",
            "grid_template_rows": null,
            "right": null,
            "justify_content": null,
            "_view_module": "@jupyter-widgets/base",
            "overflow": null,
            "_model_module_version": "1.2.0",
            "_view_count": null,
            "flex_flow": null,
            "width": null,
            "min_width": null,
            "border": null,
            "align_items": null,
            "bottom": null,
            "_model_module": "@jupyter-widgets/base",
            "top": null,
            "grid_column": null,
            "overflow_y": null,
            "overflow_x": null,
            "grid_auto_flow": null,
            "grid_area": null,
            "grid_template_columns": null,
            "flex": null,
            "_model_name": "LayoutModel",
            "justify_items": null,
            "grid_row": null,
            "max_height": null,
            "align_content": null,
            "visibility": null,
            "align_self": null,
            "height": null,
            "min_height": null,
            "padding": null,
            "grid_auto_rows": null,
            "grid_gap": null,
            "max_width": null,
            "order": null,
            "_view_module_version": "1.2.0",
            "grid_template_areas": null,
            "object_position": null,
            "object_fit": null,
            "grid_auto_columns": null,
            "margin": null,
            "display": null,
            "left": null
          }
        },
        "b2835a87f3124ddb80e6bae69fe0bb81": {
          "model_module": "@jupyter-widgets/controls",
          "model_name": "ButtonModel",
          "state": {
            "_view_name": "ButtonView",
            "style": "IPY_MODEL_a5ad54bb40ea4466ab183a65193a6fd0",
            "_dom_classes": [],
            "description": "Ver resposta",
            "_model_name": "ButtonModel",
            "button_style": "",
            "_view_module": "@jupyter-widgets/controls",
            "_model_module_version": "1.5.0",
            "tooltip": "",
            "_view_count": null,
            "disabled": false,
            "_view_module_version": "1.5.0",
            "layout": "IPY_MODEL_2c6a8e8d8ae148cc81428584ec389854",
            "_model_module": "@jupyter-widgets/controls",
            "icon": ""
          }
        },
        "a5ad54bb40ea4466ab183a65193a6fd0": {
          "model_module": "@jupyter-widgets/controls",
          "model_name": "ButtonStyleModel",
          "state": {
            "_view_name": "StyleView",
            "_model_name": "ButtonStyleModel",
            "_view_module": "@jupyter-widgets/base",
            "_model_module_version": "1.5.0",
            "_view_count": null,
            "button_color": null,
            "font_weight": "",
            "_view_module_version": "1.2.0",
            "_model_module": "@jupyter-widgets/controls"
          }
        },
        "2c6a8e8d8ae148cc81428584ec389854": {
          "model_module": "@jupyter-widgets/base",
          "model_name": "LayoutModel",
          "state": {
            "_view_name": "LayoutView",
            "grid_template_rows": null,
            "right": null,
            "justify_content": null,
            "_view_module": "@jupyter-widgets/base",
            "overflow": null,
            "_model_module_version": "1.2.0",
            "_view_count": null,
            "flex_flow": null,
            "width": null,
            "min_width": null,
            "border": null,
            "align_items": null,
            "bottom": null,
            "_model_module": "@jupyter-widgets/base",
            "top": null,
            "grid_column": null,
            "overflow_y": null,
            "overflow_x": null,
            "grid_auto_flow": null,
            "grid_area": null,
            "grid_template_columns": null,
            "flex": null,
            "_model_name": "LayoutModel",
            "justify_items": null,
            "grid_row": null,
            "max_height": null,
            "align_content": null,
            "visibility": null,
            "align_self": null,
            "height": null,
            "min_height": null,
            "padding": null,
            "grid_auto_rows": null,
            "grid_gap": null,
            "max_width": null,
            "order": null,
            "_view_module_version": "1.2.0",
            "grid_template_areas": null,
            "object_position": null,
            "object_fit": null,
            "grid_auto_columns": null,
            "margin": null,
            "display": null,
            "left": null
          }
        },
        "1d8d999d434f40ada22d2ecdd985a968": {
          "model_module": "@jupyter-widgets/controls",
          "model_name": "ButtonModel",
          "state": {
            "_view_name": "ButtonView",
            "style": "IPY_MODEL_466fddd81d1442028482750067d28dcb",
            "_dom_classes": [],
            "description": "Ver resposta",
            "_model_name": "ButtonModel",
            "button_style": "",
            "_view_module": "@jupyter-widgets/controls",
            "_model_module_version": "1.5.0",
            "tooltip": "",
            "_view_count": null,
            "disabled": false,
            "_view_module_version": "1.5.0",
            "layout": "IPY_MODEL_7419d9c485fc46889c9e3b9a844ed0a8",
            "_model_module": "@jupyter-widgets/controls",
            "icon": ""
          }
        },
        "466fddd81d1442028482750067d28dcb": {
          "model_module": "@jupyter-widgets/controls",
          "model_name": "ButtonStyleModel",
          "state": {
            "_view_name": "StyleView",
            "_model_name": "ButtonStyleModel",
            "_view_module": "@jupyter-widgets/base",
            "_model_module_version": "1.5.0",
            "_view_count": null,
            "button_color": null,
            "font_weight": "",
            "_view_module_version": "1.2.0",
            "_model_module": "@jupyter-widgets/controls"
          }
        },
        "7419d9c485fc46889c9e3b9a844ed0a8": {
          "model_module": "@jupyter-widgets/base",
          "model_name": "LayoutModel",
          "state": {
            "_view_name": "LayoutView",
            "grid_template_rows": null,
            "right": null,
            "justify_content": null,
            "_view_module": "@jupyter-widgets/base",
            "overflow": null,
            "_model_module_version": "1.2.0",
            "_view_count": null,
            "flex_flow": null,
            "width": null,
            "min_width": null,
            "border": null,
            "align_items": null,
            "bottom": null,
            "_model_module": "@jupyter-widgets/base",
            "top": null,
            "grid_column": null,
            "overflow_y": null,
            "overflow_x": null,
            "grid_auto_flow": null,
            "grid_area": null,
            "grid_template_columns": null,
            "flex": null,
            "_model_name": "LayoutModel",
            "justify_items": null,
            "grid_row": null,
            "max_height": null,
            "align_content": null,
            "visibility": null,
            "align_self": null,
            "height": null,
            "min_height": null,
            "padding": null,
            "grid_auto_rows": null,
            "grid_gap": null,
            "max_width": null,
            "order": null,
            "_view_module_version": "1.2.0",
            "grid_template_areas": null,
            "object_position": null,
            "object_fit": null,
            "grid_auto_columns": null,
            "margin": null,
            "display": null,
            "left": null
          }
        },
        "070ded3253584def9c085afdf028fd0b": {
          "model_module": "@jupyter-widgets/controls",
          "model_name": "ButtonModel",
          "state": {
            "_view_name": "ButtonView",
            "style": "IPY_MODEL_17ac5e69698947bd9b1892c9286e204b",
            "_dom_classes": [],
            "description": "Ver resposta",
            "_model_name": "ButtonModel",
            "button_style": "",
            "_view_module": "@jupyter-widgets/controls",
            "_model_module_version": "1.5.0",
            "tooltip": "",
            "_view_count": null,
            "disabled": false,
            "_view_module_version": "1.5.0",
            "layout": "IPY_MODEL_81e8d2cab07b442d9a57184530bf8ff8",
            "_model_module": "@jupyter-widgets/controls",
            "icon": ""
          }
        },
        "17ac5e69698947bd9b1892c9286e204b": {
          "model_module": "@jupyter-widgets/controls",
          "model_name": "ButtonStyleModel",
          "state": {
            "_view_name": "StyleView",
            "_model_name": "ButtonStyleModel",
            "_view_module": "@jupyter-widgets/base",
            "_model_module_version": "1.5.0",
            "_view_count": null,
            "button_color": null,
            "font_weight": "",
            "_view_module_version": "1.2.0",
            "_model_module": "@jupyter-widgets/controls"
          }
        },
        "81e8d2cab07b442d9a57184530bf8ff8": {
          "model_module": "@jupyter-widgets/base",
          "model_name": "LayoutModel",
          "state": {
            "_view_name": "LayoutView",
            "grid_template_rows": null,
            "right": null,
            "justify_content": null,
            "_view_module": "@jupyter-widgets/base",
            "overflow": null,
            "_model_module_version": "1.2.0",
            "_view_count": null,
            "flex_flow": null,
            "width": null,
            "min_width": null,
            "border": null,
            "align_items": null,
            "bottom": null,
            "_model_module": "@jupyter-widgets/base",
            "top": null,
            "grid_column": null,
            "overflow_y": null,
            "overflow_x": null,
            "grid_auto_flow": null,
            "grid_area": null,
            "grid_template_columns": null,
            "flex": null,
            "_model_name": "LayoutModel",
            "justify_items": null,
            "grid_row": null,
            "max_height": null,
            "align_content": null,
            "visibility": null,
            "align_self": null,
            "height": null,
            "min_height": null,
            "padding": null,
            "grid_auto_rows": null,
            "grid_gap": null,
            "max_width": null,
            "order": null,
            "_view_module_version": "1.2.0",
            "grid_template_areas": null,
            "object_position": null,
            "object_fit": null,
            "grid_auto_columns": null,
            "margin": null,
            "display": null,
            "left": null
          }
        },
        "625e92109206419b9be866fdd503629b": {
          "model_module": "@jupyter-widgets/controls",
          "model_name": "ButtonModel",
          "state": {
            "_view_name": "ButtonView",
            "style": "IPY_MODEL_023a9160da994c779e9dd7a1eada883b",
            "_dom_classes": [],
            "description": "Ver resposta",
            "_model_name": "ButtonModel",
            "button_style": "",
            "_view_module": "@jupyter-widgets/controls",
            "_model_module_version": "1.5.0",
            "tooltip": "",
            "_view_count": null,
            "disabled": false,
            "_view_module_version": "1.5.0",
            "layout": "IPY_MODEL_c9a61e6ce809458d8d1fb3b9ce5ddd96",
            "_model_module": "@jupyter-widgets/controls",
            "icon": ""
          }
        },
        "023a9160da994c779e9dd7a1eada883b": {
          "model_module": "@jupyter-widgets/controls",
          "model_name": "ButtonStyleModel",
          "state": {
            "_view_name": "StyleView",
            "_model_name": "ButtonStyleModel",
            "_view_module": "@jupyter-widgets/base",
            "_model_module_version": "1.5.0",
            "_view_count": null,
            "button_color": null,
            "font_weight": "",
            "_view_module_version": "1.2.0",
            "_model_module": "@jupyter-widgets/controls"
          }
        },
        "c9a61e6ce809458d8d1fb3b9ce5ddd96": {
          "model_module": "@jupyter-widgets/base",
          "model_name": "LayoutModel",
          "state": {
            "_view_name": "LayoutView",
            "grid_template_rows": null,
            "right": null,
            "justify_content": null,
            "_view_module": "@jupyter-widgets/base",
            "overflow": null,
            "_model_module_version": "1.2.0",
            "_view_count": null,
            "flex_flow": null,
            "width": null,
            "min_width": null,
            "border": null,
            "align_items": null,
            "bottom": null,
            "_model_module": "@jupyter-widgets/base",
            "top": null,
            "grid_column": null,
            "overflow_y": null,
            "overflow_x": null,
            "grid_auto_flow": null,
            "grid_area": null,
            "grid_template_columns": null,
            "flex": null,
            "_model_name": "LayoutModel",
            "justify_items": null,
            "grid_row": null,
            "max_height": null,
            "align_content": null,
            "visibility": null,
            "align_self": null,
            "height": null,
            "min_height": null,
            "padding": null,
            "grid_auto_rows": null,
            "grid_gap": null,
            "max_width": null,
            "order": null,
            "_view_module_version": "1.2.0",
            "grid_template_areas": null,
            "object_position": null,
            "object_fit": null,
            "grid_auto_columns": null,
            "margin": null,
            "display": null,
            "left": null
          }
        },
        "88996d3c19cc494fb57103645f0b494e": {
          "model_module": "@jupyter-widgets/controls",
          "model_name": "ButtonModel",
          "state": {
            "_view_name": "ButtonView",
            "style": "IPY_MODEL_46e31e07609c4f1484cedb31f0f7b0c5",
            "_dom_classes": [],
            "description": "Ver resposta",
            "_model_name": "ButtonModel",
            "button_style": "",
            "_view_module": "@jupyter-widgets/controls",
            "_model_module_version": "1.5.0",
            "tooltip": "",
            "_view_count": null,
            "disabled": false,
            "_view_module_version": "1.5.0",
            "layout": "IPY_MODEL_71ca8338fe1a494e937c7c4d8a7c956d",
            "_model_module": "@jupyter-widgets/controls",
            "icon": ""
          }
        },
        "46e31e07609c4f1484cedb31f0f7b0c5": {
          "model_module": "@jupyter-widgets/controls",
          "model_name": "ButtonStyleModel",
          "state": {
            "_view_name": "StyleView",
            "_model_name": "ButtonStyleModel",
            "_view_module": "@jupyter-widgets/base",
            "_model_module_version": "1.5.0",
            "_view_count": null,
            "button_color": null,
            "font_weight": "",
            "_view_module_version": "1.2.0",
            "_model_module": "@jupyter-widgets/controls"
          }
        },
        "71ca8338fe1a494e937c7c4d8a7c956d": {
          "model_module": "@jupyter-widgets/base",
          "model_name": "LayoutModel",
          "state": {
            "_view_name": "LayoutView",
            "grid_template_rows": null,
            "right": null,
            "justify_content": null,
            "_view_module": "@jupyter-widgets/base",
            "overflow": null,
            "_model_module_version": "1.2.0",
            "_view_count": null,
            "flex_flow": null,
            "width": null,
            "min_width": null,
            "border": null,
            "align_items": null,
            "bottom": null,
            "_model_module": "@jupyter-widgets/base",
            "top": null,
            "grid_column": null,
            "overflow_y": null,
            "overflow_x": null,
            "grid_auto_flow": null,
            "grid_area": null,
            "grid_template_columns": null,
            "flex": null,
            "_model_name": "LayoutModel",
            "justify_items": null,
            "grid_row": null,
            "max_height": null,
            "align_content": null,
            "visibility": null,
            "align_self": null,
            "height": null,
            "min_height": null,
            "padding": null,
            "grid_auto_rows": null,
            "grid_gap": null,
            "max_width": null,
            "order": null,
            "_view_module_version": "1.2.0",
            "grid_template_areas": null,
            "object_position": null,
            "object_fit": null,
            "grid_auto_columns": null,
            "margin": null,
            "display": null,
            "left": null
          }
        }
      }
    }
  },
  "cells": [
    {
      "cell_type": "markdown",
      "metadata": {
        "id": "view-in-github",
        "colab_type": "text"
      },
      "source": [
        "<a href=\"https://colab.research.google.com/github/franckepeixoto/igti-ml/blob/main/M%C3%B3dulo_2_Trabalho_Pr%C3%A1tico_Francke_Peixoto.ipynb\" target=\"_parent\"><img src=\"https://colab.research.google.com/assets/colab-badge.svg\" alt=\"Open In Colab\"/></a>"
      ]
    },
    {
      "cell_type": "markdown",
      "metadata": {
        "id": "ZCVbPPGE8_u5"
      },
      "source": [
        "# ![igti](https://www.igti.com.br/wp-content/themes/wp-bootstrap-4/assets/images/logos/logo-green.png) Enunciado\n",
        "*O uso de bicicletas como um meio de transporte ganhou muita força nos últimos anos, seja por questões ambientais, de saúde ou até mesmo infraestrutura de trânsito. Para incentivar o uso, cidades em todo o mundo têm implementado programas de compartilhamento de bicicleta.*\n",
        "![Bike Sharing Demand](https://storage.googleapis.com/kaggle-competitions/kaggle/3948/media/bikes.png)"
      ]
    },
    {
      "cell_type": "markdown",
      "metadata": {
        "id": "xh2gjHz30fGE"
      },
      "source": [
        "Nesses sistemas as bicicletas são retiradas e devolvidas em quiosques\n",
        "automatizados espalhados em diversos pontos da cidade.\n",
        "As plataformas de compartilhamento de bicicletas costumam coletar diversos tipos de\n",
        "dados, entre eles: duração da viagem, localização inicial e final do percurso, entre outros.\n",
        "\n",
        "\n",
        "Esses dados coletados pela plataforma, em conjunto com informações sobre o clima,\n",
        "trânsito e relevo, por exemplo, tornam possível uma análise mais robusta de\n",
        "compartilhamento de bicicletas.\n",
        "\n",
        "**A seguir, um descritivo dos dados coletados:**\n",
        "* **rec_id**: índice do registro de locação.\n",
        "* **datetime**: data.\n",
        "* **season**: estação do ano \n",
        "> 1. inverno\n",
        "> 2. primavera \n",
        "> 3. verão \n",
        "> 4. outon\n",
        "\n",
        "*Relativo ao hemisfério norte.*\n",
        "\n",
        "* **year**: ano (0: 2011, 1:2012).\n",
        "* **month**: mês (1 a 12).\n",
        "* **hour**: hora do dia (0 a 23).\n",
        "* **is_holiday**: booleano indicando feriado.\n",
        "* **weekday**: dia da semana (0: domingo, 1: segunda-feira, …, 6: sábado).\n",
        "* **is_workingday**: booleano indicando dia útil.\n",
        "* **weather_condition**: (1: limpo, 2: nublado, 3: chuva leve, 4: chuva forte).\n",
        "* **temp**: temperatura escalada entre 0 e 1. Valor original em graus Celsius: -8 a 39.\n",
        "* **atemp**: sensação térmica escalada entre 0 e 1. Valor original em graus Celsius: -16\n",
        "a 50.\n",
        "* **humidity**: humidade relativa (0 a 1).\n",
        "* **windspeed**: velocidade do vento escalada entre 0 e 1 (máximo original: 67).\n",
        "* **casual**: número de locações para usuários casuais.\n",
        "* **registered**: número de locações para usuários registrados.\n",
        "* **total_count**: contador total de aluguéis (casual+registered).\n",
        "\n"
      ]
    },
    {
      "cell_type": "markdown",
      "metadata": {
        "id": "TteWkj5YN3yH"
      },
      "source": [
        "#Perguntas / Respostas"
      ]
    },
    {
      "cell_type": "code",
      "metadata": {
        "id": "MixEbGwH8yLZ",
        "colab": {
          "base_uri": "https://localhost:8080/",
          "height": 49,
          "referenced_widgets": [
            "fd83b3b1ac2d404e83d739dc11747733",
            "89bd6275cde14f0b922c6519a05e7abf",
            "e028d3191df148eca06fd5034a0fde15"
          ]
        },
        "outputId": "2c92f31c-fc70-48d3-844e-bb3d96b70070"
      },
      "source": [
        "#@title A. Qual o tamanho desse dataset ?  { display-mode: \"form\" }\n",
        "import numpy as np\n",
        "import pandas as pd\n",
        "from IPython.display import display\n",
        "import ipywidgets as widgets\n",
        "data  = pd.read_csv(\"https://pycourse.s3.amazonaws.com/bike-sharing.csv\")\n",
        "button = widgets.Button(description=\"Ver resposta\")\n",
        "def resposta(valor):\n",
        "  print(\"R:\\t{}\".format(valor))\n",
        "button.on_click(lambda r: resposta(data.shape[0]) )\n",
        "display(button)"
      ],
      "execution_count": null,
      "outputs": [
        {
          "output_type": "display_data",
          "data": {
            "application/vnd.jupyter.widget-view+json": {
              "model_id": "fd83b3b1ac2d404e83d739dc11747733",
              "version_minor": 0,
              "version_major": 2
            },
            "text/plain": [
              "Button(description='Ver resposta', style=ButtonStyle())"
            ]
          },
          "metadata": {
            "tags": []
          }
        }
      ]
    },
    {
      "cell_type": "code",
      "metadata": {
        "id": "zZQBGNeb-qQM",
        "colab": {
          "base_uri": "https://localhost:8080/",
          "height": 49,
          "referenced_widgets": [
            "68446ef34ebf4236a926a9b369c550fa",
            "40949cca232a413d87f28090d7797a08",
            "291a79c738d34d638e39426b5eeda464"
          ]
        },
        "cellView": "form",
        "outputId": "b16aa406-5b81-49fa-bbcc-761c933fdd0d"
      },
      "source": [
        "#@title B. Qual a média da coluna windspeed?\n",
        "button = widgets.Button(description=\"Ver resposta\")\n",
        "valor = data.windspeed.mean()\n",
        "\n",
        "button = widgets.Button(description=\"Ver resposta\")\n",
        "button.on_click(lambda r: resposta(valor) )\n",
        "display(button)"
      ],
      "execution_count": null,
      "outputs": [
        {
          "output_type": "display_data",
          "data": {
            "application/vnd.jupyter.widget-view+json": {
              "model_id": "68446ef34ebf4236a926a9b369c550fa",
              "version_minor": 0,
              "version_major": 2
            },
            "text/plain": [
              "Button(description='Ver resposta', style=ButtonStyle())"
            ]
          },
          "metadata": {
            "tags": []
          }
        }
      ]
    },
    {
      "cell_type": "code",
      "metadata": {
        "id": "eInb00lF-6qs",
        "colab": {
          "base_uri": "https://localhost:8080/",
          "height": 49,
          "referenced_widgets": [
            "fda54c2b2cd9400b8324d3e36f9e6f2a",
            "81eea3133178439baa6cd5fb4b9a834b",
            "ca42e101631c4164bc408d3b297fe9ba"
          ]
        },
        "cellView": "form",
        "outputId": "aff4fa63-5383-4886-af2b-e144ae05fa2e"
      },
      "source": [
        "#@title C. .Qual a média da coluna temp?\n",
        "valor = data.temp.mean()\n",
        "\n",
        "button = widgets.Button(description=\"Ver resposta\")\n",
        "button.on_click(lambda r: resposta(valor) )\n",
        "display(button)"
      ],
      "execution_count": null,
      "outputs": [
        {
          "output_type": "display_data",
          "data": {
            "application/vnd.jupyter.widget-view+json": {
              "model_id": "fda54c2b2cd9400b8324d3e36f9e6f2a",
              "version_minor": 0,
              "version_major": 2
            },
            "text/plain": [
              "Button(description='Ver resposta', style=ButtonStyle())"
            ]
          },
          "metadata": {
            "tags": []
          }
        }
      ]
    },
    {
      "cell_type": "code",
      "metadata": {
        "id": "nInykJyw_Lrr",
        "colab": {
          "base_uri": "https://localhost:8080/",
          "height": 49,
          "referenced_widgets": [
            "81430cb057b14ab09ffbc640f2305cdb",
            "898ee06858824e00ad086122fa4399a0",
            "0e3054901efe4a5799490a250f617088"
          ]
        },
        "cellView": "form",
        "outputId": "f4dcc802-687a-49be-eafe-d7fac73f7588"
      },
      "source": [
        "#@title D. Quantos registros existem para o ano de 2011?  \n",
        "Description = '(0 = 2011 e 1 = 2012)' #@param\n",
        "valor = len(data[data.year==0])\n",
        "\n",
        "button = widgets.Button(description=\"Ver resposta\")\n",
        "button.on_click(lambda r: resposta(valor) )\n",
        "display(button)"
      ],
      "execution_count": null,
      "outputs": [
        {
          "output_type": "display_data",
          "data": {
            "application/vnd.jupyter.widget-view+json": {
              "model_id": "81430cb057b14ab09ffbc640f2305cdb",
              "version_minor": 0,
              "version_major": 2
            },
            "text/plain": [
              "Button(description='Ver resposta', style=ButtonStyle())"
            ]
          },
          "metadata": {
            "tags": []
          }
        }
      ]
    },
    {
      "cell_type": "code",
      "metadata": {
        "id": "T-DHP95aAOdG",
        "colab": {
          "base_uri": "https://localhost:8080/",
          "height": 49,
          "referenced_widgets": [
            "5cdab3301eb74d5a8146f83059cf255a",
            "08089f4bb5274c10a501a7a773fe5fe2",
            "8313de4820134e4aaade480b10e7366e"
          ]
        },
        "cellView": "form",
        "outputId": "62505564-dcde-4f85-fede-aff0b1538923"
      },
      "source": [
        "#@title E. Quantos registros existem para o ano de 2012? \n",
        "Description = '(0 = 2011 e 1 = 2012)' #@param\n",
        "valor = len(data[data.year==1])\n",
        "\n",
        "button = widgets.Button(description=\"Ver resposta\")\n",
        "button.on_click(lambda r: resposta(valor) )\n",
        "display(button)"
      ],
      "execution_count": null,
      "outputs": [
        {
          "output_type": "display_data",
          "data": {
            "application/vnd.jupyter.widget-view+json": {
              "model_id": "5cdab3301eb74d5a8146f83059cf255a",
              "version_minor": 0,
              "version_major": 2
            },
            "text/plain": [
              "Button(description='Ver resposta', style=ButtonStyle())"
            ]
          },
          "metadata": {
            "tags": []
          }
        }
      ]
    },
    {
      "cell_type": "code",
      "metadata": {
        "id": "Cdk8n2g4ATUa",
        "colab": {
          "base_uri": "https://localhost:8080/",
          "height": 49,
          "referenced_widgets": [
            "4c5946a7f8ce494b9219b84155da8195",
            "8d8fb725155d4b9b92c810fd759938f2",
            "70572aa566b94b69bb82a846fcd461bd"
          ]
        },
        "cellView": "form",
        "outputId": "cd518d54-478d-4e6c-ab74-620054b33d86"
      },
      "source": [
        "#@title F. Quantas locações de bicicletas foram efetuadas em 2011?\n",
        "\n",
        "valor = data[data.year==0].total_count.sum()\n",
        "\n",
        "button = widgets.Button(description=\"Ver resposta\")\n",
        "button.on_click(lambda r: resposta(valor) )\n",
        "display(button)"
      ],
      "execution_count": null,
      "outputs": [
        {
          "output_type": "display_data",
          "data": {
            "application/vnd.jupyter.widget-view+json": {
              "model_id": "4c5946a7f8ce494b9219b84155da8195",
              "version_minor": 0,
              "version_major": 2
            },
            "text/plain": [
              "Button(description='Ver resposta', style=ButtonStyle())"
            ]
          },
          "metadata": {
            "tags": []
          }
        }
      ]
    },
    {
      "cell_type": "code",
      "metadata": {
        "id": "E9BMV0AjAfmc",
        "colab": {
          "base_uri": "https://localhost:8080/",
          "height": 49,
          "referenced_widgets": [
            "4882e538a7494549a8c53c2bfa3712b3",
            "34a159b583c9413fa3fe86f0c63eb9d1",
            "9395de34442146f5915cc014b8804af5"
          ]
        },
        "cellView": "form",
        "outputId": "436f7025-1781-4013-e013-a3ef206c9c42"
      },
      "source": [
        "#@title G. Quantas locações de bicicletas foram efetuadas em 2012?\n",
        "valor = data[data.year==1].total_count.sum()\n",
        "\n",
        "button = widgets.Button(description=\"Ver resposta\")\n",
        "button.on_click(lambda r: resposta(valor) )\n",
        "display(button)"
      ],
      "execution_count": null,
      "outputs": [
        {
          "output_type": "display_data",
          "data": {
            "application/vnd.jupyter.widget-view+json": {
              "model_id": "4882e538a7494549a8c53c2bfa3712b3",
              "version_minor": 0,
              "version_major": 2
            },
            "text/plain": [
              "Button(description='Ver resposta', style=ButtonStyle())"
            ]
          },
          "metadata": {
            "tags": []
          }
        }
      ]
    },
    {
      "cell_type": "code",
      "metadata": {
        "id": "MqtNvTeXBYDL",
        "colab": {
          "base_uri": "https://localhost:8080/",
          "height": 49,
          "referenced_widgets": [
            "004199bc8ae74b6f824af85a3ebdd2db",
            "e30168fa7b16400592135ee8a076c110",
            "9ce59750431f46f5963813595824c90f"
          ]
        },
        "cellView": "form",
        "outputId": "baf0b4be-9ef8-46b2-fb52-8d2cb5e5823a"
      },
      "source": [
        "#@title H. Qual estação do ano contém a maior média de locações de bicicletas?\n",
        "filtro = data.groupby('season', as_index=False).agg(registered=('registered','mean'))\n",
        "estacao = filtro[filtro.registered==filtro.registered.max()].season.values[0]\n",
        "\n",
        "button = widgets.Button(description=\"Ver resposta\")\n",
        "button.on_click(lambda r: resposta(estacao) )\n",
        "display(button)"
      ],
      "execution_count": null,
      "outputs": [
        {
          "output_type": "display_data",
          "data": {
            "application/vnd.jupyter.widget-view+json": {
              "model_id": "004199bc8ae74b6f824af85a3ebdd2db",
              "version_minor": 0,
              "version_major": 2
            },
            "text/plain": [
              "Button(description='Ver resposta', style=ButtonStyle())"
            ]
          },
          "metadata": {
            "tags": []
          }
        }
      ]
    },
    {
      "cell_type": "code",
      "metadata": {
        "id": "6bqwqQYDRkVI",
        "colab": {
          "base_uri": "https://localhost:8080/",
          "height": 49,
          "referenced_widgets": [
            "abc3ddb148a74ab2bf93dcea54d6c4ec",
            "b27ceae480b74f87bdf146ce8c0c7727",
            "6aaeaf8a3f9b413d95cac9f5e0b11a51"
          ]
        },
        "cellView": "form",
        "outputId": "335a66f9-9045-411d-d409-caf9d137bb01"
      },
      "source": [
        "#@title I. Qual estação do ano contém a menor média de locações de bicicletas?\n",
        "estacao = filtro[filtro.registered==filtro.registered.min()].season.values[0]\n",
        "\n",
        "button = widgets.Button(description=\"Ver resposta\")\n",
        "button.on_click(lambda r: resposta(estacao) )\n",
        "display(button)"
      ],
      "execution_count": null,
      "outputs": [
        {
          "output_type": "display_data",
          "data": {
            "application/vnd.jupyter.widget-view+json": {
              "model_id": "abc3ddb148a74ab2bf93dcea54d6c4ec",
              "version_minor": 0,
              "version_major": 2
            },
            "text/plain": [
              "Button(description='Ver resposta', style=ButtonStyle())"
            ]
          },
          "metadata": {
            "tags": []
          }
        }
      ]
    },
    {
      "cell_type": "code",
      "metadata": {
        "id": "T2crO4GHDACt",
        "colab": {
          "base_uri": "https://localhost:8080/",
          "height": 49,
          "referenced_widgets": [
            "5fc6d34790204bff9a604df4e51e5a08",
            "627c66d363dd4b269d4308b7e1e26e2c",
            "7703d20c64884d098bd0b955b1150713"
          ]
        },
        "cellView": "form",
        "outputId": "f5d7b8d9-8bda-4609-f7f1-4a54794022b5"
      },
      "source": [
        "#@title J. Qual horário do dia contém a maior média de locações de bicicletas?\n",
        "filtro = data.drop_duplicates(subset = ['registered','hour'])\n",
        "filtro = filtro.reset_index()\n",
        "filtro = filtro.groupby('hour', as_index=False).agg(registered=('registered','mean'))\n",
        "hora = filtro[filtro.registered==filtro.registered.max()].hour.values[0]\n",
        "\n",
        "\n",
        "button = widgets.Button(description=\"Ver resposta\")\n",
        "button.on_click(lambda r: resposta(hora) )\n",
        "display(button)"
      ],
      "execution_count": null,
      "outputs": [
        {
          "output_type": "display_data",
          "data": {
            "application/vnd.jupyter.widget-view+json": {
              "model_id": "5fc6d34790204bff9a604df4e51e5a08",
              "version_minor": 0,
              "version_major": 2
            },
            "text/plain": [
              "Button(description='Ver resposta', style=ButtonStyle())"
            ]
          },
          "metadata": {
            "tags": []
          }
        }
      ]
    },
    {
      "cell_type": "code",
      "metadata": {
        "id": "6crRRkgEHbXn",
        "colab": {
          "base_uri": "https://localhost:8080/",
          "height": 49,
          "referenced_widgets": [
            "b2835a87f3124ddb80e6bae69fe0bb81",
            "a5ad54bb40ea4466ab183a65193a6fd0",
            "2c6a8e8d8ae148cc81428584ec389854"
          ]
        },
        "cellView": "form",
        "outputId": "64d67c1b-7078-49e4-84d6-ce105fe9ac27"
      },
      "source": [
        "#@title K. Qual horário do dia contém a menor média de locações de bicicletas?\n",
        "hora = filtro[filtro.registered==filtro.registered.min()].hour.values[0]\n",
        "\n",
        "button = widgets.Button(description=\"Ver resposta\")\n",
        "button.on_click(lambda r: resposta(hora) )\n",
        "display(button)"
      ],
      "execution_count": null,
      "outputs": [
        {
          "output_type": "display_data",
          "data": {
            "application/vnd.jupyter.widget-view+json": {
              "model_id": "b2835a87f3124ddb80e6bae69fe0bb81",
              "version_minor": 0,
              "version_major": 2
            },
            "text/plain": [
              "Button(description='Ver resposta', style=ButtonStyle())"
            ]
          },
          "metadata": {
            "tags": []
          }
        }
      ]
    },
    {
      "cell_type": "code",
      "metadata": {
        "id": "bS5uO_L3E1bk",
        "colab": {
          "base_uri": "https://localhost:8080/",
          "height": 49,
          "referenced_widgets": [
            "1d8d999d434f40ada22d2ecdd985a968",
            "466fddd81d1442028482750067d28dcb",
            "7419d9c485fc46889c9e3b9a844ed0a8"
          ]
        },
        "cellView": "form",
        "outputId": "b4ce9264-9911-4eca-9cd4-f87bdf7031ac"
      },
      "source": [
        "#@title L. Que dia da semana contém a maior média de locações de bicicletas?\n",
        "weekday = 'dia da semana (0: domingo, 1: segunda-feira, …, 6: sábado)'#@param\n",
        "filtro = data\n",
        "filtro = filtro.groupby('weekday', as_index=False).agg(total_count=('total_count','mean'))\n",
        "semana = filtro[filtro.total_count==filtro.total_count.max()].weekday.values[0]\n",
        "\n",
        "button = widgets.Button(description=\"Ver resposta\")\n",
        "button.on_click(lambda r: resposta(semana) )\n",
        "display(button)"
      ],
      "execution_count": null,
      "outputs": [
        {
          "output_type": "display_data",
          "data": {
            "application/vnd.jupyter.widget-view+json": {
              "model_id": "1d8d999d434f40ada22d2ecdd985a968",
              "version_minor": 0,
              "version_major": 2
            },
            "text/plain": [
              "Button(description='Ver resposta', style=ButtonStyle())"
            ]
          },
          "metadata": {
            "tags": []
          }
        }
      ]
    },
    {
      "cell_type": "code",
      "metadata": {
        "id": "DAjVb_uiOicS",
        "colab": {
          "base_uri": "https://localhost:8080/",
          "height": 49,
          "referenced_widgets": [
            "070ded3253584def9c085afdf028fd0b",
            "17ac5e69698947bd9b1892c9286e204b",
            "81e8d2cab07b442d9a57184530bf8ff8"
          ]
        },
        "cellView": "form",
        "outputId": "07e3d4ad-28ec-4b8c-b46b-e9a5be1c0828"
      },
      "source": [
        "#@title M. Que dia da semana contém a menor média de locações de bicicletas?\n",
        "weekday = 'dia da semana (0: domingo, 1: segunda-feira, …, 6: sábado)'#@param\n",
        "semana = filtro[filtro.total_count==filtro.total_count.min()].weekday.values[0]\n",
        "\n",
        "button = widgets.Button(description=\"Ver resposta\")\n",
        "button.on_click(lambda r: resposta(semana) )\n",
        "display(button)"
      ],
      "execution_count": null,
      "outputs": [
        {
          "output_type": "display_data",
          "data": {
            "application/vnd.jupyter.widget-view+json": {
              "model_id": "070ded3253584def9c085afdf028fd0b",
              "version_minor": 0,
              "version_major": 2
            },
            "text/plain": [
              "Button(description='Ver resposta', style=ButtonStyle())"
            ]
          },
          "metadata": {
            "tags": []
          }
        }
      ]
    },
    {
      "cell_type": "code",
      "metadata": {
        "id": "CxigvC1sO3FP",
        "colab": {
          "base_uri": "https://localhost:8080/",
          "height": 49,
          "referenced_widgets": [
            "625e92109206419b9be866fdd503629b",
            "023a9160da994c779e9dd7a1eada883b",
            "c9a61e6ce809458d8d1fb3b9ce5ddd96"
          ]
        },
        "cellView": "form",
        "outputId": "1bbaa556-f6fd-4f80-c28e-ce04bfd9f51b"
      },
      "source": [
        "#@title N. Às quartas-feiras (weekday = 3), qual o horário do dia contém a maior média de locações de bicicletas?\n",
        "filtro = data[(data.weekday == 3)]\n",
        "filtro = filtro.groupby('hour', as_index=False).agg(total_count=('total_count','mean'))\n",
        "hora = filtro[filtro.total_count==filtro.total_count.max()].hour.values[0]\n",
        "\n",
        "button = widgets.Button(description=\"Ver resposta\")\n",
        "button.on_click(lambda r: resposta(hora) )\n",
        "display(button)"
      ],
      "execution_count": null,
      "outputs": [
        {
          "output_type": "display_data",
          "data": {
            "application/vnd.jupyter.widget-view+json": {
              "model_id": "625e92109206419b9be866fdd503629b",
              "version_minor": 0,
              "version_major": 2
            },
            "text/plain": [
              "Button(description='Ver resposta', style=ButtonStyle())"
            ]
          },
          "metadata": {
            "tags": []
          }
        }
      ]
    },
    {
      "cell_type": "code",
      "metadata": {
        "id": "vYvpzuvaQDqv",
        "colab": {
          "base_uri": "https://localhost:8080/",
          "height": 49,
          "referenced_widgets": [
            "88996d3c19cc494fb57103645f0b494e",
            "46e31e07609c4f1484cedb31f0f7b0c5",
            "71ca8338fe1a494e937c7c4d8a7c956d"
          ]
        },
        "cellView": "form",
        "outputId": "9bb6e056-5f96-4884-e8a8-3dded889bd99"
      },
      "source": [
        "#@title O. Aos sábados (weekday = 6), qual o horário do dia contém a maior média de locações de bicicletas?\n",
        "filtro = data[(data.weekday == 6)]\n",
        "filtro = filtro.groupby('hour', as_index=False).agg(total_count=('total_count','mean'))\n",
        "hora = filtro[filtro.total_count==filtro.total_count.max()].hour.values[0]\n",
        "\n",
        "button = widgets.Button(description=\"Ver resposta\")\n",
        "button.on_click(lambda r: resposta(hora) )\n",
        "display(button)"
      ],
      "execution_count": null,
      "outputs": [
        {
          "output_type": "display_data",
          "data": {
            "application/vnd.jupyter.widget-view+json": {
              "model_id": "88996d3c19cc494fb57103645f0b494e",
              "version_minor": 0,
              "version_major": 2
            },
            "text/plain": [
              "Button(description='Ver resposta', style=ButtonStyle())"
            ]
          },
          "metadata": {
            "tags": []
          }
        }
      ]
    }
  ]
}