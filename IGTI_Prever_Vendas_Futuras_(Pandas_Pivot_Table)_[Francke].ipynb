{
  "nbformat": 4,
  "nbformat_minor": 0,
  "metadata": {
    "colab": {
      "name": "IGTI - Prever Vendas Futuras  (Pandas Pivot Table) [Francke]",
      "private_outputs": true,
      "provenance": [],
      "collapsed_sections": [
        "Cfl18NJ0Dhi0",
        "0ol_ZE7w3Xyg",
        "lnKEWU84vpUv",
        "ir5nIJ6WcsZk"
      ],
      "include_colab_link": true
    },
    "kernelspec": {
      "name": "python3",
      "display_name": "Python 3"
    },
    "accelerator": "GPU"
  },
  "cells": [
    {
      "cell_type": "markdown",
      "metadata": {
        "id": "view-in-github",
        "colab_type": "text"
      },
      "source": [
        "<a href=\"https://colab.research.google.com/github/franckepeixoto/IGTI-Analista-de-Machine-Learning/blob/main/IGTI_Prever_Vendas_Futuras_(Pandas_Pivot_Table)_%5BFrancke%5D.ipynb\" target=\"_parent\"><img src=\"https://colab.research.google.com/assets/colab-badge.svg\" alt=\"Open In Colab\"/></a>"
      ]
    },
    {
      "cell_type": "markdown",
      "metadata": {
        "id": "Cfl18NJ0Dhi0"
      },
      "source": [
        "#### O Desafio"
      ]
    },
    {
      "cell_type": "markdown",
      "metadata": {
        "id": "EdVGHiF7oRko"
      },
      "source": [
        "<p><img alt=\"Colaboratory logo\" height=\"99px\" \r\n",
        "src='https://encrypted-tbn0.gstatic.com/images?q=tbn:ANd9GcTpw-4GbEpC5PiordgozbjH7ILPI-X6NU_d7Q&usqp=CAU'\r\n",
        "align=\"left\" hspace=\"10px\" vspace=\"0px\" ></p>\r\n",
        "<h1>Prever Vendas Futuras \r\n",
        "<p>Projeto final para o curso Coursera \"Como ganhar um concurso de ciência de dados\"</p>\r\n",
        "</h1>\r\n",
        "<hr />\r\n",
        "<a href=\"https://www.kaggle.com/c/competitive-data-science-predict-future-sales/rules\">Kaggle</a>\r\n"
      ]
    },
    {
      "cell_type": "markdown",
      "metadata": {
        "id": "kPjBLRQ1pyyC"
      },
      "source": [
        "##### Descrição\r\n",
        "Este desafio serve como projeto final para o curso Coursera \"Como ganhar um concurso de ciência de dados\" .\r\n",
        "\r\n",
        "Nesta competição, você trabalhará com um conjunto de dados de série temporal desafiador que consiste em dados diários de vendas, gentilmente cedidos por uma das **maiores empresas de software da russa** - a **1C Company** . \r\n",
        "\r\n",
        "Pedimos que você preveja as vendas totais de cada produto e loja no próximo mês. Ao resolver esta competição, você poderá aplicar e aprimorar suas habilidades em ciência de dados."
      ]
    },
    {
      "cell_type": "markdown",
      "metadata": {
        "id": "gYGgZsebqTvw"
      },
      "source": [
        "\r\n",
        "<p><img alt=\"Colaboratory logo\" height=\"49px\" \r\n",
        "src='https://static.1c.ru/images/logo.png'\r\n",
        "align=\"left\" hspace=\"10px\" vspace=\"0px\" ></p>\r\n",
        "<h1> 1C COMPANY\r\n",
        "</h1>\r\n",
        "Fundada em 1991, a 1C Company é especializada em desenvolvimento, distribuição, publicação e suporte de software para o mercado de massa. \r\n",
        " <a href=\"https://1c.ru/eng/title.htm\">site daa empresa</a>"
      ]
    },
    {
      "cell_type": "markdown",
      "metadata": {
        "id": "KZnF08CyrMjp"
      },
      "source": [
        "##### Dados"
      ]
    },
    {
      "cell_type": "markdown",
      "metadata": {
        "id": "JZX8axePrPYm"
      },
      "source": [
        "Você recebe dados históricos de vendas diários. A tarefa é prever a quantidade total de produtos vendidos em cada loja para o conjunto de teste. Observe que a lista de lojas e produtos muda ligeiramente a cada mês. Criar um modelo robusto que possa lidar com tais situações é parte do desafio.\r\n",
        "\r\n",
        "**Descrições de arquivo**\r\n",
        "> * **sales_train.csv** - o conjunto de treinamento. Dados históricos diários de janeiro de 2013 a outubro de 2015.\r\n",
        "> * **test.csv** - o conjunto de teste. Você precisa prever as vendas dessas lojas e produtos para novembro de 2015.\r\n",
        "> * **sample_submission.csv** - um arquivo de envio de amostra no formato correto.\r\n",
        "> * **items.csv** - informações complementares sobre os itens / produtos.\r\n",
        "> * **item_categories.csv**  - informações complementares sobre as categorias de itens.\r\n",
        "> * **shops.csv** - informações complementares sobre as lojas.\r\n",
        "\r\n",
        "**Campos de dados**\r\n",
        "> * **ID  - um Id que representa uma tupla (Loja, Item) dentro do conjunto de teste\r\n",
        "> * **shop_id** - identificador único de uma loja\r\n",
        "> * **item_id** - identificador único de um produto\r\n",
        "> * **item_category_id** - identificador único da categoria do item\r\n",
        "> * **item_cnt_day** - número de produtos vendidos. **Você está prevendo um valor mensal desta medida**  💥\r\n",
        "> * **item_price** - preço atual de um item\r\n",
        "> * **data**  - data no formato dd / mm / aaaa\r\n",
        "> * **date_block_num** - um número de mês consecutivo, usado por conveniência. Janeiro de 2013 é 0, fevereiro de 2013 é 1, ..., outubro de 2015 é 33\r\n",
        "> * **item_name**  - nome do item\r\n",
        "> * **shop_name** - nome da loja\r\n",
        "> * **item_category_name** - nome da categoria do item"
      ]
    },
    {
      "cell_type": "markdown",
      "metadata": {
        "id": "smza0ojnr6tp"
      },
      "source": [
        "##### Regras"
      ]
    },
    {
      "cell_type": "markdown",
      "metadata": {
        "id": "C9ji6mEvr9Z-"
      },
      "source": [
        ">* **Limites de envio**: No máximo 5 inscrições por dia.\r\n",
        "\r\n",
        "[Submissions](https://www.kaggle.com/c/competitive-data-science-predict-future-sales/submissions)"
      ]
    },
    {
      "cell_type": "markdown",
      "metadata": {
        "id": "4H0gtKxcoOFI"
      },
      "source": [
        "#### Analises"
      ]
    },
    {
      "cell_type": "markdown",
      "metadata": {
        "id": "SL6hfje9Dj6g"
      },
      "source": [
        "##### Setup  (fazer upload do kaggle.json aqui)"
      ]
    },
    {
      "cell_type": "code",
      "metadata": {
        "id": "d9hum7iUBbVP"
      },
      "source": [
        "from google.colab import files\r\n",
        "from google.colab import output\r\n",
        "import warnings\r\n",
        "warnings.filterwarnings('ignore')\r\n",
        "run_setup = True\r\n",
        "if run_setup:\r\n",
        "  files.upload()\r\n",
        "  !pip install -q kaggle\r\n",
        "  !mkdir -p ~/.kaggle\r\n",
        "  !cp kaggle.json ~/.kaggle/\r\n",
        "  !ls ~/.kaggle\r\n",
        "  !chmod 600 /root/.kaggle/kaggle.json\r\n",
        "  !kaggle competitions download -c competitive-data-science-predict-future-sales\r\n",
        "output.clear()\r\n",
        "\r\n",
        "def transpose(d,l=100):\r\n",
        "  x = pd.DataFrame(d)\r\n",
        "  return x.head(l).transpose()"
      ],
      "execution_count": null,
      "outputs": []
    },
    {
      "cell_type": "code",
      "metadata": {
        "id": "Ot2tMrNiCenN"
      },
      "source": [
        "import pandas as pd\r\n",
        "import numpy as np\r\n",
        "import matplotlib.pyplot as plt\r\n",
        "import seaborn as sns\r\n",
        "import gc\r\n",
        "if run_setup:\r\n",
        "  !ls -l *.zip\r\n",
        "  !unzip items.csv.zip\r\n",
        "  !unzip sales_train.csv.zip\r\n",
        "  !unzip test.csv.zip\r\n",
        "  !unzip sample_submission.csv.zip\r\n",
        "  output.clear()\r\n",
        "!ls -l *.csv\r\n",
        "!rm *.zip"
      ],
      "execution_count": null,
      "outputs": []
    },
    {
      "cell_type": "code",
      "metadata": {
        "id": "A48CcwpQCkl1"
      },
      "source": [
        "item_categories =  pd.read_csv('./item_categories.csv')\r\n",
        "items =  pd.read_csv('./items.csv')\r\n",
        "sales_train =  pd.read_csv('./sales_train.csv')\r\n",
        "submission =  pd.read_csv('./sample_submission.csv')\r\n",
        "shops =  pd.read_csv('./shops.csv')\r\n",
        "test =  pd.read_csv('./test.csv')"
      ],
      "execution_count": null,
      "outputs": []
    },
    {
      "cell_type": "markdown",
      "metadata": {
        "id": "0ol_ZE7w3Xyg"
      },
      "source": [
        "##### Traduzir de RU > PT"
      ]
    },
    {
      "cell_type": "code",
      "metadata": {
        "id": "mqZOGirDzRuC"
      },
      "source": [
        "!pip install -U textblob\n",
        "from textblob import TextBlob\n",
        "for i in range(len(shops)):\n",
        "  text = shops.loc[i,\"shop_name\"]\n",
        "  hi_blob = TextBlob(text)\n",
        "  text_pt = hi_blob.translate(to='pt',from_lang='ru')\n",
        "  shops.loc[i,\"shop_name\"] =str(text_pt)\n",
        "output.clear()"
      ],
      "execution_count": null,
      "outputs": []
    },
    {
      "cell_type": "code",
      "metadata": {
        "id": "IVqDC7UcBkGU"
      },
      "source": [
        "#item_categories =  pd.read_csv('./items.csv')\r\n",
        "for i in range(len(item_categories)):\r\n",
        "  text = item_categories.loc[i,\"item_category_name\"]\r\n",
        "  hi_blob = TextBlob(u''+text)\r\n",
        "  text_pt = hi_blob.translate(to='pt')\r\n",
        "  item_categories.loc[i,\"item_category_name\"] =str(text_pt)\r\n",
        "output.clear()"
      ],
      "execution_count": null,
      "outputs": []
    },
    {
      "cell_type": "code",
      "metadata": {
        "id": "JxWzoNXyZuO3"
      },
      "source": [
        "d = items.drop_duplicates()\r\n",
        "print(\"duplicate rows removed\\t\",len(items)-len(d))"
      ],
      "execution_count": null,
      "outputs": []
    },
    {
      "cell_type": "markdown",
      "metadata": {
        "id": "lnKEWU84vpUv"
      },
      "source": [
        "##### Overview"
      ]
    },
    {
      "cell_type": "markdown",
      "metadata": {
        "id": "7ebeyDt_M_3h"
      },
      "source": [
        "> **shops**"
      ]
    },
    {
      "cell_type": "code",
      "metadata": {
        "id": "yyjFMq_mC3O0"
      },
      "source": [
        "shops.describe().transpose()"
      ],
      "execution_count": null,
      "outputs": []
    },
    {
      "cell_type": "code",
      "metadata": {
        "id": "GlXVaJWzNPPi"
      },
      "source": [
        "shops.info()"
      ],
      "execution_count": null,
      "outputs": []
    },
    {
      "cell_type": "code",
      "metadata": {
        "id": "lnDe-Up55PpQ"
      },
      "source": [
        "import urllib.request\r\n",
        "import codecs\r\n",
        "from bs4 import BeautifulSoup\r\n",
        "wiki = 'https://pt.wikipedia.org/wiki/Lista_de_cidades_da_R%C3%BAssia_por_popula%C3%A7%C3%A3o'\r\n",
        "page = urllib.request.urlopen(wiki)\r\n",
        "soup = BeautifulSoup(page, 'html5lib')\r\n",
        "table = soup.find('table', attrs={'class': 'wikitable'})\r\n",
        "cities = []\r\n",
        "tds = [row for row in table.findAll('tr')]\r\n",
        "for td in tds:\r\n",
        "  if len(td.findAll(\"td\"))==4:\r\n",
        "    cities.append([td.findAll(\"td\")[1].find(\"a\").text.strip().upper(),\r\n",
        "                 td.findAll(\"td\")[2].find(\"a\").text.strip().upper(),\r\n",
        "                 td.findAll(\"td\")[3].find(\"i\").text.replace('\\xa0','').strip()])\r\n",
        "#print(rows)\r\n"
      ],
      "execution_count": null,
      "outputs": []
    },
    {
      "cell_type": "code",
      "metadata": {
        "id": "10jXKo995XBH"
      },
      "source": [
        "import re\r\n",
        "from unicodedata import normalize\r\n",
        "def fn_central(n):\r\n",
        "  n if n.find('\"')==-1 else n[0:n.find('\"')].strip()\r\n",
        "  n = re.sub('[^A-Za-z]+', ' ', n).strip()\r\n",
        "  n = n.upper()\r\n",
        "  if n.find('CENTRO') >=0  or n.find('CENTRAL')>=0:\r\n",
        "    return 1\r\n",
        "  else:\r\n",
        "    return 0\r\n",
        "shops[\"shop_comercial_central\"] = 0\r\n",
        "shops[\"shop_comercial_central\"] = shops.shop_name.transform(lambda n:fn_central(n))\r\n",
        "pd.DataFrame(shops[\"shop_comercial_central\"].value_counts()).head(100)\r\n",
        "shops.head(1)\r\n"
      ],
      "execution_count": null,
      "outputs": []
    },
    {
      "cell_type": "code",
      "metadata": {
        "id": "fridebWs5Z3b"
      },
      "source": [
        "!pip install fuzzywuzzy\r\n",
        "!pip install python-Levenshtein\r\n",
        "output.clear()"
      ],
      "execution_count": null,
      "outputs": []
    },
    {
      "cell_type": "code",
      "metadata": {
        "id": "cL79tIuo5b-r"
      },
      "source": [
        "from fuzzywuzzy import fuzz \r\n",
        "from fuzzywuzzy import process \r\n",
        "\r\n",
        "def fn_city(n):\r\n",
        "  n if n.find('\"')==-1 else n[0:n.find('\"')].strip()\r\n",
        "  n = re.sub('[^A-Za-z]+', ' ', n).strip().upper()\r\n",
        "  n = n.replace(\"CENTRO\",\"\")\r\n",
        "  n = n.replace(\"CENTRAL\",\"\")\r\n",
        "  n = n.replace(\"COMERCIAL\",\"\")\r\n",
        "  n = n.replace(\"COMERCIO\",\"\")\r\n",
        "  n = n.replace(\"CENTRAL\",\"\")\r\n",
        "  n = n.replace(\"N \",\"\")\r\n",
        "  n = n.replace(\"DE \",\"\")\r\n",
        "  n = n.replace(\"MEGA \",\"\")\r\n",
        "  n = n.replace(\"COMPLEXO E \",\"\")\r\n",
        "  if n.find(\"SPB\")>=0:\r\n",
        "    n = \"Distrito Federal do Noroeste\"\r\n",
        "  else:\r\n",
        "    if n.find(\"UFA\")>=0:\r\n",
        "      n = \"Bascortostão\"\r\n",
        "    else:\r\n",
        "      if n.find(\"MOSC\")>=0:\r\n",
        "        n = \"distrito federal central\"\r\n",
        "      else:\r\n",
        "        n = n.split(' ')[0]\r\n",
        "        c = [m[1] for m in cities]\r\n",
        "        n, s= process.extractBests(n, c)[0]  \r\n",
        "  return n\r\n",
        "shops[\"shop_shortname\"] = shops.shop_name.transform(lambda n:fn_city(n))\r\n",
        "\r\n",
        "shops[\"shop_city\"] = \"\"\r\n",
        "shops[\"shop_district\"]=\"\"\r\n",
        "shops[\"shop_population\"]=0\r\n",
        "\r\n",
        "query = list(shops.shop_shortname.value_counts().index)\r\n",
        "output.clear()\r\n",
        "for q in query:\r\n",
        "  print(q.lower())\r\n",
        "  r, i = process.extractBests(q, cities)[0]\r\n",
        "  shops.loc[(shops.shop_shortname==q),\"shop_city\"] = r[0]\r\n",
        "  shops.loc[(shops.shop_shortname==q),\"shop_district\"]= r[1]\r\n",
        "  shops.loc[(shops.shop_shortname==q),\"shop_population\"]= int(r[2])"
      ],
      "execution_count": null,
      "outputs": []
    },
    {
      "cell_type": "code",
      "metadata": {
        "id": "shC6lvNB5h8z"
      },
      "source": [
        "(shops.shop_city.sort_values())"
      ],
      "execution_count": null,
      "outputs": []
    },
    {
      "cell_type": "code",
      "metadata": {
        "id": "DY7-BnVf5kTI"
      },
      "source": [
        "shops[\"category\"] = shops.shop_name.str.split(\" \").map( lambda x: x[1].replace(\"(\",\"\").replace(\",\",\"\").replace(\".\",\"\").replace('\\\"','').upper()[0:1] )\r\n",
        "cats = list(shops.category.value_counts().index)\r\n",
        "shops.loc[(shops.category.isin(cats[3:])),\"category\"]='O'\r\n",
        "transpose(shops.category.value_counts())"
      ],
      "execution_count": null,
      "outputs": []
    },
    {
      "cell_type": "code",
      "metadata": {
        "id": "K00l57VjQpyI"
      },
      "source": [
        "cols = [ 'shop_id', 'shop_comercial_central', 'shop_city', 'shop_district',  'category']\r\n",
        "shops = shops[cols]\r\n",
        "shops.shop_comercial_central = shops.shop_comercial_central.astype('category')\r\n",
        "shops.shop_comercial_central = shops.shop_comercial_central.cat.codes\r\n",
        "shops.shop_district = shops.shop_district.astype('category')\r\n",
        "shops.shop_district = shops.shop_district.cat.codes\r\n",
        "shops.category = shops.category.astype('category')\r\n",
        "shops.category = shops.category.cat.codes\r\n",
        "shops.shop_city = shops.shop_city.astype('category')\r\n",
        "shops.shop_city = shops.shop_city.cat.codes\r\n",
        "shops.head()"
      ],
      "execution_count": null,
      "outputs": []
    },
    {
      "cell_type": "markdown",
      "metadata": {
        "id": "vTgOHKmiRgtj"
      },
      "source": [
        "**item_categories**"
      ]
    },
    {
      "cell_type": "code",
      "metadata": {
        "id": "X7v8CW-RyAgg"
      },
      "source": [
        "item_categories.head(1)"
      ],
      "execution_count": null,
      "outputs": []
    },
    {
      "cell_type": "code",
      "metadata": {
        "id": "1dBRp7CbRnXK"
      },
      "source": [
        "item_categories.describe().transpose()"
      ],
      "execution_count": null,
      "outputs": []
    },
    {
      "cell_type": "code",
      "metadata": {
        "id": "6UHVsTYFR1Ur"
      },
      "source": [
        "item_categories[\"item_category_type\"] =  item_categories.item_category_name+'- '\r\n",
        "item_categories[\"item_category_type\"] = item_categories.item_category_type.transform(lambda c: c.split(\"-\")[0].strip().upper() if c.find(\" \")==-1 else c.split(\" \")[0].strip().upper()  )\r\n",
        "item_categories[\"item_category_type\"] = item_categories.item_category_type.transform(lambda c: c if c.find(\"-\")==-1 else c.split(\"-\")[0].strip().upper()  )\r\n",
        "categories = (item_categories[\"item_category_type\"].value_counts().index)\r\n",
        "item_categories.loc[(item_categories.item_category_type.isin(categories[8:])),\"item_category_type\"]='OUTROS'\r\n",
        "transpose(item_categories.item_category_type.value_counts())"
      ],
      "execution_count": null,
      "outputs": []
    },
    {
      "cell_type": "code",
      "metadata": {
        "id": "cBwSzteG6VDz"
      },
      "source": [
        "item_categories = item_categories[['item_category_id','item_category_type']]\r\n",
        "item_categories.item_category_type = item_categories.item_category_type.astype('category')\r\n",
        "item_categories.item_category_type = item_categories.item_category_type.cat.codes\r\n",
        "item_categories.head(1)"
      ],
      "execution_count": null,
      "outputs": []
    },
    {
      "cell_type": "markdown",
      "metadata": {
        "id": "X3f58z_uTinT"
      },
      "source": [
        "**items**"
      ]
    },
    {
      "cell_type": "code",
      "metadata": {
        "id": "Dd7ZJA6hTiZz"
      },
      "source": [
        "items.head(1)"
      ],
      "execution_count": null,
      "outputs": []
    },
    {
      "cell_type": "code",
      "metadata": {
        "id": "af0JW789TtV7"
      },
      "source": [
        "items.describe().transpose()"
      ],
      "execution_count": null,
      "outputs": []
    },
    {
      "cell_type": "markdown",
      "metadata": {
        "id": "MH_LJ337VJpQ"
      },
      "source": [
        "**items_categories**"
      ]
    },
    {
      "cell_type": "code",
      "metadata": {
        "id": "3V3KZeIcKWEG"
      },
      "source": [
        "items_categories = items.merge(item_categories,how='left',left_on='item_category_id', right_on='item_category_id')"
      ],
      "execution_count": null,
      "outputs": []
    },
    {
      "cell_type": "code",
      "metadata": {
        "id": "ne6dVHjRVIS8"
      },
      "source": [
        "items_categories.describe().transpose()"
      ],
      "execution_count": null,
      "outputs": []
    },
    {
      "cell_type": "code",
      "metadata": {
        "id": "qJeDepJELHpd"
      },
      "source": [
        "items_categories = items_categories[[\"item_id\",\"item_category_id\",\"item_category_type\"]]\r\n",
        "items_categories.reset_index(drop=True, inplace=True)\r\n",
        "items_categories.head(1)"
      ],
      "execution_count": null,
      "outputs": []
    },
    {
      "cell_type": "markdown",
      "metadata": {
        "id": "ooR4R9OJVqjb"
      },
      "source": [
        "**sales_train**"
      ]
    },
    {
      "cell_type": "code",
      "metadata": {
        "id": "X1Ebb0yi6ZS2"
      },
      "source": [
        "sales_train.head(1)"
      ],
      "execution_count": null,
      "outputs": []
    },
    {
      "cell_type": "code",
      "metadata": {
        "id": "94MUesxe6ce0"
      },
      "source": [
        "sales_train.describe().transpose()"
      ],
      "execution_count": null,
      "outputs": []
    },
    {
      "cell_type": "markdown",
      "metadata": {
        "id": "iF9Jq6OSV-sD"
      },
      "source": [
        "**sales**"
      ]
    },
    {
      "cell_type": "code",
      "metadata": {
        "id": "Nd3JVMv26gfh"
      },
      "source": [
        "sales = sales_train.copy()\r\n",
        "sales = items.merge(sales,how='right',left_on='item_id', right_on='item_id')\r\n",
        "len(sales),len(sales_train),len(items)"
      ],
      "execution_count": null,
      "outputs": []
    },
    {
      "cell_type": "code",
      "metadata": {
        "id": "09USTH7TY73U"
      },
      "source": [
        "sales.head(1)"
      ],
      "execution_count": null,
      "outputs": []
    },
    {
      "cell_type": "code",
      "metadata": {
        "id": "ygg4O8A0Y-pS"
      },
      "source": [
        "sales = items_categories.merge(sales,how='right',on=[\"item_id\",\"item_category_id\"])\r\n",
        "len(sales),len(sales_train),len(items_categories)"
      ],
      "execution_count": null,
      "outputs": []
    },
    {
      "cell_type": "code",
      "metadata": {
        "id": "ec7H_0ysZc3o"
      },
      "source": [
        "#sales.drop(columns=['item_name_x','item_name_y'],inplace=True)\r\n",
        "sales.reset_index(drop=True,inplace=True)\r\n",
        "sales.head(1)"
      ],
      "execution_count": null,
      "outputs": []
    },
    {
      "cell_type": "code",
      "metadata": {
        "id": "7I4tRRP6ZvUQ"
      },
      "source": [
        "import time\r\n",
        "ts = time.time()\r\n",
        "sales.date  = pd.to_datetime(sales.date,errors='coerce')\r\n",
        "years = (sales.date.dt.year.value_counts().index)\r\n",
        "months= (sales.date.dt.month.value_counts().index)\r\n",
        "years\r\n",
        "sequence = 0\r\n",
        "for i,y in enumerate(years.sort_values()):\r\n",
        "  for m in months.sort_values():\r\n",
        "    if y==2013 and m ==1:\r\n",
        "      sales.loc[(sales.date.dt.year==y)&(sales.date.dt.month==m),\"date_block_num\"]=0\r\n",
        "    else:\r\n",
        "      sequence+=1\r\n",
        "      sales.loc[(sales.date.dt.year==y)&(sales.date.dt.month==m),\"date_block_num\"]=sequence\r\n",
        "gc.collect()\r\n",
        "time.time() - ts"
      ],
      "execution_count": null,
      "outputs": []
    },
    {
      "cell_type": "markdown",
      "metadata": {
        "id": "ir5nIJ6WcsZk"
      },
      "source": [
        "##### Pivot Table"
      ]
    },
    {
      "cell_type": "code",
      "metadata": {
        "id": "aumulmtLc6ST"
      },
      "source": [
        "sales.pivot_table(index=[\"item_cnt_day\"])"
      ],
      "execution_count": null,
      "outputs": []
    },
    {
      "cell_type": "code",
      "metadata": {
        "id": "ETaDsEi_dpVN"
      },
      "source": [
        "sales.pivot_table(index=[\"shop_id\"],columns=[\"date_block_num\"], aggfunc=[\"mean\"])"
      ],
      "execution_count": null,
      "outputs": []
    },
    {
      "cell_type": "code",
      "metadata": {
        "id": "PDO5aCwZyDAw"
      },
      "source": [
        "pd.pivot_table(sales,index=[\"date_block_num\",\"shop_id\",\"item_category_id\"],values=[\"item_cnt_day\"],aggfunc=[\"sum\",\"mean\"])"
      ],
      "execution_count": null,
      "outputs": []
    },
    {
      "cell_type": "code",
      "metadata": {
        "id": "XG7Nd16Afhes"
      },
      "source": [
        "pd.pivot_table(sales,index=[\"date_block_num\",\"shop_id\",\"item_category_id\",\"item_id\"],values=[\"item_cnt_day\"],aggfunc=[\"sum\",\"mean\"])"
      ],
      "execution_count": null,
      "outputs": []
    },
    {
      "cell_type": "code",
      "metadata": {
        "id": "qZbyb8urftHU"
      },
      "source": [
        "pd.pivot_table(sales,index=[\"shop_id\"],values=[\"item_price\"],aggfunc=['mean','max','min',len])"
      ],
      "execution_count": null,
      "outputs": []
    },
    {
      "cell_type": "code",
      "metadata": {
        "id": "F7_3_E2igW28"
      },
      "source": [
        "#sales = sales[sales.item_price >=1]\r\n",
        "pd.pivot_table(sales,index=[\"shop_id\"],values=[\"item_cnt_day\"],aggfunc=['mean','max','min','count'])"
      ],
      "execution_count": null,
      "outputs": []
    },
    {
      "cell_type": "code",
      "metadata": {
        "id": "cpTgl5fsgsY5"
      },
      "source": [
        "sales_pivot = sales.pivot_table(\r\n",
        "    index=[ 'shop_id','item_id'],\r\n",
        "    values=['item_cnt_day'],\r\n",
        "    columns=['date_block_num'],\r\n",
        "    fill_value=0,\r\n",
        "    aggfunc='mean'\r\n",
        ").reset_index()\r\n",
        "\r\n",
        "sales_pivot"
      ],
      "execution_count": null,
      "outputs": []
    },
    {
      "cell_type": "code",
      "metadata": {
        "id": "Ytm7F5kILqRD"
      },
      "source": [
        "sales_pivot.head(1)"
      ],
      "execution_count": null,
      "outputs": []
    },
    {
      "cell_type": "code",
      "metadata": {
        "id": "FUgdNL46h0pD"
      },
      "source": [
        "sales_pivot.describe()"
      ],
      "execution_count": null,
      "outputs": []
    },
    {
      "cell_type": "code",
      "metadata": {
        "id": "axt7hIPuRP03"
      },
      "source": [
        "data = test.copy()\r\n",
        "data = data.merge(sales_pivot, how='left', on=['shop_id', 'item_id']).fillna(0).drop(\r\n",
        "    ['ID', 'shop_id', 'item_id'], axis=1)\r\n",
        "data"
      ],
      "execution_count": null,
      "outputs": []
    },
    {
      "cell_type": "code",
      "metadata": {
        "id": "6jLaUwewq4Nf"
      },
      "source": [
        "data"
      ],
      "execution_count": null,
      "outputs": []
    },
    {
      "cell_type": "code",
      "metadata": {
        "id": "G_Puli4OIXzY"
      },
      "source": [
        "len(data.values[:,:-2]),len(data.values[:, -2:-1]),len(data.values[:,1:-1])"
      ],
      "execution_count": null,
      "outputs": []
    },
    {
      "cell_type": "code",
      "metadata": {
        "id": "UPIzN3ddjyhO"
      },
      "source": [
        "xtrain, ytrain = data.values[:,:-2], data.values[:, -2:-1].ravel()\r\n",
        "xvalid, yvalid = data.values[:,1:-1], data.values[:, -1:].ravel()\r\n",
        "\r\n",
        "xtest = data.values[:, 2:]\r\n"
      ],
      "execution_count": null,
      "outputs": []
    },
    {
      "cell_type": "markdown",
      "metadata": {
        "id": "qEMyQQH4qJJn"
      },
      "source": [
        "#### Models"
      ]
    },
    {
      "cell_type": "code",
      "metadata": {
        "id": "jsIkZTp0kGyW"
      },
      "source": [
        "import tensorflow as tf\r\n",
        "from tensorflow import keras\r\n",
        "from tensorflow.keras.callbacks import ReduceLROnPlateau,LearningRateScheduler\r\n",
        "import os\r\n",
        "import math\r\n",
        "from sklearn.preprocessing import StandardScaler\r\n",
        "from sklearn.model_selection import train_test_split\r\n",
        "keras.backend.clear_session()\r\n",
        "\r\n",
        "xtrain = np.reshape(xtrain, (xtrain.shape[0],xtrain.shape[1], 1))\r\n",
        "xvalid = np.reshape(xvalid, (xvalid.shape[0],xvalid.shape[1], 1))\r\n",
        "\r\n",
        "\r\n",
        "def learning_rate_scheduler(self,epoch=0):\r\n",
        "  lr = 0.9\r\n",
        "  print(' Learning rate: ', lr,' - epoch: ',epoch)\r\n",
        "  return lr\r\n",
        "batch_size = 512\r\n",
        "unit = 5#int(xtrain.shape[1])/3)\r\n",
        "model = keras.Sequential()\r\n",
        "model.add(keras.layers.LSTM(unit, return_sequences=True, input_shape=(xtrain.shape[1], 1)))\r\n",
        "model.add(keras.layers.Dropout(0.1))\r\n",
        "model.add(keras.layers.LSTM(unit, return_sequences=True))\r\n",
        "model.add(keras.layers.Dropout(0.1))\r\n",
        "model.add(keras.layers.LSTM(unit))\r\n",
        "model.add(keras.layers.Dense(1))\r\n",
        "train_size = xtrain.shape[0]\r\n",
        "model.compile(optimizer='RMSprop', loss='mse', metrics=[tf.keras.metrics.RootMeanSquaredError(name='root_mean_squared_error', dtype=None)])\r\n",
        "\r\n",
        "lr_scheduler = LearningRateScheduler(learning_rate_scheduler)\r\n",
        "lr_reducer = ReduceLROnPlateau(factor=np.sqrt(0.1),\r\n",
        "                            cooldown=1,\r\n",
        "                            patience=2,\r\n",
        "                            min_lr=0.5e-2)\r\n",
        "callbacks = [ lr_scheduler, lr_reducer]\r\n",
        "\r\n",
        "gc.collect()\r\n"
      ],
      "execution_count": null,
      "outputs": []
    },
    {
      "cell_type": "code",
      "metadata": {
        "id": "CaLcbJVNkUCm"
      },
      "source": [
        "steps_per_epoch =  math.ceil(train_size / batch_size )\r\n",
        "history = model.fit(xtrain, ytrain,  \r\n",
        "                            epochs=1, verbose=1, \r\n",
        "                            steps_per_epoch=steps_per_epoch, \r\n",
        "                            batch_size=batch_size, \r\n",
        "                            validation_data=(xvalid, yvalid),\r\n",
        "                            callbacks=callbacks)"
      ],
      "execution_count": null,
      "outputs": []
    },
    {
      "cell_type": "code",
      "metadata": {
        "id": "xChBe9yHnqWt"
      },
      "source": [
        "name=\"IGTI\"\r\n",
        "epochs = list(range(1,(np.array(history.history['root_mean_squared_error']).shape[0])+1))\r\n",
        "plt.clf()\r\n",
        "fig = plt.figure(figsize=(15, 2))\r\n",
        "ax = fig.add_subplot(121)\r\n",
        "ax2 = fig.add_subplot(122)\r\n",
        "\r\n",
        "ax.set_title(name+' - RMSE')\r\n",
        "ax.plot(epochs,history.history['root_mean_squared_error'], \"r.-\")\r\n",
        "ax.plot(epochs,history.history['val_root_mean_squared_error'], \"c.-\")\r\n",
        "ax.legend(('RMSE','VAL RMSE'),fontsize=15)\r\n",
        "ax.set_xlabel(\"Epochs\")\r\n",
        "ax.grid(True)\r\n",
        "\r\n",
        "ax2.set_title(name+' - LOSS')\r\n",
        "ax2.plot(epochs,history.history['loss'], \"r.-\")\r\n",
        "ax2.plot(epochs,history.history['val_loss'], \"c.-\")\r\n",
        "ax2.legend(('LOSS','VAL LOSS'),fontsize=15)\r\n",
        "ax2.set_xlabel(\"Epochs\")\r\n",
        "ax2.grid(True)\r\n",
        "plt.show()\r\n"
      ],
      "execution_count": null,
      "outputs": []
    },
    {
      "cell_type": "code",
      "metadata": {
        "id": "91TTeiQdkXzm"
      },
      "source": [
        "from sklearn.metrics import mean_squared_error\r\n",
        "ypred = model.predict(xvalid)"
      ],
      "execution_count": null,
      "outputs": []
    },
    {
      "cell_type": "code",
      "metadata": {
        "id": "4aZQMb9JkZif"
      },
      "source": [
        "print('MSE =', mean_squared_error(yvalid, ypred, squared=False))\r\n",
        "print('RMSE =', mean_squared_error(yvalid, ypred, squared=True))"
      ],
      "execution_count": null,
      "outputs": []
    },
    {
      "cell_type": "code",
      "metadata": {
        "id": "gHm2k5snkjx9"
      },
      "source": [
        "x = np.reshape(xtest, (xtest.shape[0],xtest.shape[1], 1))\r\n",
        "preds = model.predict(x)"
      ],
      "execution_count": null,
      "outputs": []
    },
    {
      "cell_type": "code",
      "metadata": {
        "id": "cSdz4ZvwkrS8"
      },
      "source": [
        "!rm igti.csv\r\n",
        "ids = pd.read_csv('./test.csv')\r\n",
        "submission = pd.DataFrame({\r\n",
        "    \"ID\": ids.index, \r\n",
        "    \"item_cnt_month\": preds.reshape(-1)\r\n",
        "})\r\n",
        "submission.head()"
      ],
      "execution_count": null,
      "outputs": []
    },
    {
      "cell_type": "code",
      "metadata": {
        "id": "j9lg3Esnk39f"
      },
      "source": [
        "submission.to_csv('igti.csv', index=False)\r\n",
        "!kaggle competitions submit -c competitive-data-science-predict-future-sales -f igti.csv -m \"LSTM Francke Peixoto \""
      ],
      "execution_count": null,
      "outputs": []
    }
  ]
}