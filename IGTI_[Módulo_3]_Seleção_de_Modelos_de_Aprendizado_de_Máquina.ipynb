{
  "nbformat": 4,
  "nbformat_minor": 0,
  "metadata": {
    "colab": {
      "name": "IGTI  - [Módulo 3] -  Seleção de Modelos de Aprendizado de Máquina  ",
      "private_outputs": true,
      "provenance": [],
      "authorship_tag": "ABX9TyOZaUWPk89fFQRHFAdyYGLa",
      "include_colab_link": true
    },
    "kernelspec": {
      "name": "python3",
      "display_name": "Python 3"
    }
  },
  "cells": [
    {
      "cell_type": "markdown",
      "metadata": {
        "id": "view-in-github",
        "colab_type": "text"
      },
      "source": [
        "<a href=\"https://colab.research.google.com/github/franckepeixoto/IGTI-Analista-de-Machine-Learning/blob/main/IGTI_%5BM%C3%B3dulo_3%5D_Sele%C3%A7%C3%A3o_de_Modelos_de_Aprendizado_de_M%C3%A1quina.ipynb\" target=\"_parent\"><img src=\"https://colab.research.google.com/assets/colab-badge.svg\" alt=\"Open In Colab\"/></a>"
      ]
    },
    {
      "cell_type": "code",
      "metadata": {
        "id": "9UUTy6Jr423i"
      },
      "source": [
        "import pandas as pd\r\n",
        "import numpy as np \r\n",
        "from sklearn.ensemble import RandomForestClassifier\r\n",
        "from sklearn.svm import SVC\r\n",
        "from sklearn.model_selection import StratifiedKFold, RandomizedSearchCV, LeaveOneOut, train_test_split,cross_val_score,GridSearchCV\r\n",
        "from scipy.stats import uniform, randint\r\n",
        "from sklearn.metrics import f1_score, make_scorer,accuracy_score"
      ],
      "execution_count": null,
      "outputs": []
    },
    {
      "cell_type": "code",
      "metadata": {
        "id": "aL-ftVtQAPz-"
      },
      "source": [
        "\r\n",
        "random_state = 42\r\n",
        "n_iters = 5\r\n",
        "n_estimators = 10\r\n",
        "\r\n",
        "rfc = RandomForestClassifier(n_estimators = n_estimators,random_state=random_state)\r\n",
        "svc = SVC(random_state=random_state,)\r\n"
      ],
      "execution_count": null,
      "outputs": []
    },
    {
      "cell_type": "code",
      "metadata": {
        "id": "zO0Mmstr6_Xn"
      },
      "source": [
        "df = pd.read_csv(\"https://www.openml.org/data/get_csv/1590565/phpOJxGL9\")\r\n",
        "df.describe().T"
      ],
      "execution_count": null,
      "outputs": []
    },
    {
      "cell_type": "code",
      "metadata": {
        "id": "Jj39Upee-exf"
      },
      "source": [
        "df.V2 = df.V2 .map({\"Male\":1,\"Female\":2})\r\n",
        "print(df.V2.dtype)\r\n",
        "df.V2.value_counts().transpose()"
      ],
      "execution_count": null,
      "outputs": []
    },
    {
      "cell_type": "code",
      "metadata": {
        "id": "njZFSENQ7gsA"
      },
      "source": [
        "y = df.Class.values\r\n",
        "x = df.drop(labels=\"Class\", axis=1).values\r\n",
        "columns = df.columns\r\n",
        "df.shape, y.shape,x.shape"
      ],
      "execution_count": null,
      "outputs": []
    },
    {
      "cell_type": "code",
      "metadata": {
        "id": "NN0ok5ag8iNe"
      },
      "source": [
        "df.Class.value_counts().transpose()"
      ],
      "execution_count": null,
      "outputs": []
    },
    {
      "cell_type": "code",
      "metadata": {
        "id": "ZkS5RXYQ9OjL"
      },
      "source": [
        "xtrain,xtest, ytrain,ytest = train_test_split(x,y,random_state=random_state, test_size=0.25)\r\n",
        "xtrain.shape,xtest.shape, ytrain.shape,ytest.shape"
      ],
      "execution_count": null,
      "outputs": []
    },
    {
      "cell_type": "code",
      "metadata": {
        "id": "czKqZcgK-EwP"
      },
      "source": [
        "rfc.fit(xtrain,ytrain)"
      ],
      "execution_count": null,
      "outputs": []
    },
    {
      "cell_type": "code",
      "metadata": {
        "id": "2cWOET0m-abn"
      },
      "source": [
        "ypred  = rfc.predict(xtest)"
      ],
      "execution_count": null,
      "outputs": []
    },
    {
      "cell_type": "code",
      "metadata": {
        "id": "LYPUHQ2b_wHy"
      },
      "source": [
        "accuracy_score(ytest,ypred)"
      ],
      "execution_count": null,
      "outputs": []
    },
    {
      "cell_type": "code",
      "metadata": {
        "id": "Hf6YoGz9AtAe"
      },
      "source": [
        "scores_cv = cross_val_score(rfc, xtrain, ytrain, cv=5)\r\n",
        "scores_cv, scores_cv.mean(), scores_cv.std()*2"
      ],
      "execution_count": null,
      "outputs": []
    },
    {
      "cell_type": "code",
      "metadata": {
        "id": "zkpCkfwHBn9l"
      },
      "source": [
        "scores_cv = cross_val_score(rfc, xtrain, ytrain, cv=5,scoring=\"recall\")\r\n",
        "scores_cv, scores_cv.mean(), scores_cv.std()*2"
      ],
      "execution_count": null,
      "outputs": []
    },
    {
      "cell_type": "code",
      "metadata": {
        "id": "1JIS2baMCYe0"
      },
      "source": [
        "cv_skfold = StratifiedKFold(n_splits=10)\r\n",
        "scores_cv = cross_val_score(rfc, xtrain, ytrain, cv=cv_skfold,scoring=\"recall\")\r\n",
        "scores_cv, scores_cv.mean(), scores_cv.std()*2"
      ],
      "execution_count": null,
      "outputs": []
    },
    {
      "cell_type": "code",
      "metadata": {
        "id": "50cM9ItnC7Vd"
      },
      "source": [
        "loo = LeaveOneOut()\r\n",
        "scores_cv = cross_val_score(rfc, xtrain, ytrain, cv=loo)\r\n",
        "scores_cv, scores_cv.mean(), scores_cv.std()*2"
      ],
      "execution_count": null,
      "outputs": []
    },
    {
      "cell_type": "markdown",
      "metadata": {
        "id": "sO2e4RxpENGM"
      },
      "source": [
        "Pergunta 1 - O objetivo dessa base é avaliar se uma pessoa vai ser um paciente hepático ou não. A feature que determina a classe nessa base é a “V7”."
      ]
    },
    {
      "cell_type": "code",
      "metadata": {
        "id": "uCPV9Ok7D1fs"
      },
      "source": [
        "print('V7. Sgot Aspartate Aminotransferase')#df.V7.dtype"
      ],
      "execution_count": null,
      "outputs": []
    },
    {
      "cell_type": "markdown",
      "metadata": {
        "id": "fXUCbeWREtEb"
      },
      "source": [
        "Pergunta 2 -  Sobre as informações de número de features e amostras, marque a alternativa CORRETA."
      ]
    },
    {
      "cell_type": "code",
      "metadata": {
        "id": "1VuvI3f4Es0B"
      },
      "source": [
        "df.shape"
      ],
      "execution_count": null,
      "outputs": []
    },
    {
      "cell_type": "markdown",
      "metadata": {
        "id": "MXbfDn6zE9i0"
      },
      "source": [
        "Pergunta 3  - Essa base conta com 3 atributos categóricos. Precisamos fazer o pré processamento desses atributos para que todos sejam numéricos."
      ]
    },
    {
      "cell_type": "code",
      "metadata": {
        "id": "BXIJK1bYFBTk"
      },
      "source": [
        "df.Class.value_counts().transpose()"
      ],
      "execution_count": null,
      "outputs": []
    },
    {
      "cell_type": "markdown",
      "metadata": {
        "id": "E6S_q3w5Fdlb"
      },
      "source": [
        "Pergunta 4 - A base não tem dados faltantes."
      ]
    },
    {
      "cell_type": "code",
      "metadata": {
        "id": "KW2lAeFvFf1A"
      },
      "source": [
        "print(sum(df.isnull().sum())==0 )"
      ],
      "execution_count": null,
      "outputs": []
    },
    {
      "cell_type": "markdown",
      "metadata": {
        "id": "egwacICxF6fk"
      },
      "source": [
        "Pergunta 5 - Sobre o best_score_ encontrado durante a otimização do SVC, marque a alternativa"
      ]
    },
    {
      "cell_type": "code",
      "metadata": {
        "id": "9Fqs39VPGPVZ"
      },
      "source": [
        "distributions = dict(kernel = ['sigmoid', 'rbf'], C = uniform(loc=0, scale=10))\r\n",
        "svc = SVC()\r\n",
        "cv_kfold = StratifiedKFold( n_splits=10)\r\n",
        "f1 = make_scorer(f1_score)\r\n",
        "random_cv = RandomizedSearchCV(svc, distributions, cv = cv_kfold, scoring = f1, random_state = random_state, n_iter = 5)\r\n",
        "random_cv.fit(x, y)"
      ],
      "execution_count": null,
      "outputs": []
    },
    {
      "cell_type": "code",
      "metadata": {
        "id": "XmGItTDvIUGs"
      },
      "source": [
        "random_cv.best_score_"
      ],
      "execution_count": null,
      "outputs": []
    },
    {
      "cell_type": "markdown",
      "metadata": {
        "id": "lUIrigk6IcXC"
      },
      "source": [
        "Pergunta 6 - O best_params_ encontrado durante a otimização do SVC indica que a melhor combinação de parâmetros usa um kernel RBF."
      ]
    },
    {
      "cell_type": "code",
      "metadata": {
        "id": "p4_8wNJmIgmi"
      },
      "source": [
        "random_cv.best_params_"
      ],
      "execution_count": null,
      "outputs": []
    },
    {
      "cell_type": "markdown",
      "metadata": {
        "id": "odp-RrdoIf77"
      },
      "source": [
        "Pergunta 7 - O best_params_ encontrado durante a otimização do SVC indica que C encontrado é aproximadamente 5."
      ]
    },
    {
      "cell_type": "code",
      "metadata": {
        "id": "c83ZhhUcIpmq"
      },
      "source": [
        "random_cv.best_params_"
      ],
      "execution_count": null,
      "outputs": []
    },
    {
      "cell_type": "markdown",
      "metadata": {
        "id": "B47TpFpyIf_K"
      },
      "source": [
        "Pergunta 8  - A melhor combinação de best_params_ encontrado durante a otimização do SVC é:\r\n"
      ]
    },
    {
      "cell_type": "code",
      "metadata": {
        "id": "9FLgQfQDI0EC"
      },
      "source": [
        "random_cv.best_params_"
      ],
      "execution_count": null,
      "outputs": []
    },
    {
      "cell_type": "markdown",
      "metadata": {
        "id": "Tin9p3gHFfSb"
      },
      "source": [
        "Pergunta 9 - Sobre o best_score_ encontrado durante a otimização do Random Forest, marque a alternativa CORRETA."
      ]
    },
    {
      "cell_type": "code",
      "metadata": {
        "id": "7lCRepebOkjB"
      },
      "source": [
        "cv_strat = StratifiedKFold(n_splits = 10)\r\n",
        "f1 = make_scorer(f1_score)\r\n",
        "\r\n",
        "distributions = dict(n_estimators = randint(100, 200),bootstrap = [True, False],criterion = ['gini', 'entropy'])\r\n",
        "rfc = RandomForestClassifier(random_state = 42)\r\n",
        "random_cv = RandomizedSearchCV(rfc, distributions, cv = cv_strat, scoring = f1, random_state = 42, n_iter = 5)\r\n",
        "random_cv.fit(x, y)"
      ],
      "execution_count": null,
      "outputs": []
    },
    {
      "cell_type": "code",
      "metadata": {
        "id": "l7vslfGSPLrP"
      },
      "source": [
        "random_cv.best_score_"
      ],
      "execution_count": null,
      "outputs": []
    },
    {
      "cell_type": "markdown",
      "metadata": {
        "id": "XA80FfgbPgKD"
      },
      "source": [
        "Pergunta 10 - O best_params_ encontrado durante a otimização do Random Forest indica que a melhor combinação de parâmetros usa Boostrap True."
      ]
    },
    {
      "cell_type": "code",
      "metadata": {
        "id": "GIes_HA3Pifn"
      },
      "source": [
        "random_cv.best_params_"
      ],
      "execution_count": null,
      "outputs": []
    },
    {
      "cell_type": "markdown",
      "metadata": {
        "id": "MYkzgSDxPmQo"
      },
      "source": [
        "Pergunta 11 - O best_params_ encontrado durante a otimização do Random Forest indica que a melhor combinação de parâmetros usa Criterion Entropy."
      ]
    },
    {
      "cell_type": "code",
      "metadata": {
        "id": "XrGqQPPePqOI"
      },
      "source": [
        "random_cv.best_params_"
      ],
      "execution_count": null,
      "outputs": []
    },
    {
      "cell_type": "markdown",
      "metadata": {
        "id": "AtnxkXVpPtJA"
      },
      "source": [
        "Pergunta 12 -  O best_params_ encontrado durante a otimização do Random Forest indica que a melhor combinação de parâmetros conta com quantos estimadores?"
      ]
    },
    {
      "cell_type": "code",
      "metadata": {
        "id": "qEtYD5rrPyBQ"
      },
      "source": [
        "random_cv.best_params_"
      ],
      "execution_count": null,
      "outputs": []
    },
    {
      "cell_type": "markdown",
      "metadata": {
        "id": "sZa0fv0yPvrv"
      },
      "source": [
        "Pergunta 13 - Suponha que nossas duas opções para solução do problema sejam o SVC e o Random Forest que foram modelados anteriormente. Além disso, não é possível rodar o experimento novamente com outros parâmetros. Marque a alternativa que justifica de forma CORRETA a escolha do modelo mais adequado."
      ]
    },
    {
      "cell_type": "code",
      "metadata": {
        "id": "SIP143j8SpCc"
      },
      "source": [
        "random_cv.best_score_"
      ],
      "execution_count": null,
      "outputs": []
    },
    {
      "cell_type": "markdown",
      "metadata": {
        "id": "cblzZTmTTVI-"
      },
      "source": [
        "Pergunta 14 -  Como os dois modelos apresentaram resultados semelhantes de f1, e considerando apenas essa métrica, podemos entender que a capacidade de generalização dos modelos deve ser semelhante na prática.\r\n"
      ]
    },
    {
      "cell_type": "code",
      "metadata": {
        "id": "YR2noMocTYXP"
      },
      "source": [
        ""
      ],
      "execution_count": null,
      "outputs": []
    },
    {
      "cell_type": "markdown",
      "metadata": {
        "id": "g97m5xpfTmEe"
      },
      "source": [
        "Pergunta 15 - Os resultados encontrados do random search para o SVC e o Random Forest representam a melhor configuração possível desses modelos para solução do problema proposto.\r\n",
        "Grupo de escolhas da pergunta\r\n"
      ]
    },
    {
      "cell_type": "code",
      "metadata": {
        "id": "AvvknkIcTneo"
      },
      "source": [
        ""
      ],
      "execution_count": null,
      "outputs": []
    }
  ]
}