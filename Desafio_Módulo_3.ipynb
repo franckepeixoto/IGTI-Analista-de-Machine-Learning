{
  "nbformat": 4,
  "nbformat_minor": 0,
  "metadata": {
    "colab": {
      "name": "Desafio - Módulo 3.ipynb",
      "provenance": [],
      "include_colab_link": true
    },
    "kernelspec": {
      "name": "python3",
      "display_name": "Python 3"
    }
  },
  "cells": [
    {
      "cell_type": "markdown",
      "metadata": {
        "id": "view-in-github",
        "colab_type": "text"
      },
      "source": [
        "<a href=\"https://colab.research.google.com/github/franckepeixoto/IGTI-Analista-de-Machine-Learning/blob/main/Desafio_M%C3%B3dulo_3.ipynb\" target=\"_parent\"><img src=\"https://colab.research.google.com/assets/colab-badge.svg\" alt=\"Open In Colab\"/></a>"
      ]
    },
    {
      "cell_type": "code",
      "metadata": {
        "id": "GlledKPymeoM"
      },
      "source": [
        "import pandas as pd #biblioteca para manipulação de dados\r\n",
        "import numpy as np #biblioteca para utilizacao de vetores e matrizes\r\n",
        "import matplotlib.pyplot as plt #bibloteca para plotar graficos\r\n",
        "\r\n",
        "from sklearn.ensemble import RandomForestClassifier\r\n",
        "from sklearn.svm import SVC\r\n",
        "from sklearn.model_selection import StratifiedKFold\r\n",
        "from sklearn.model_selection import RandomizedSearchCV\r\n",
        "from scipy.stats import uniform\r\n",
        "from scipy.stats import randint\r\n",
        "from sklearn.metrics import f1_score, make_scorer\r\n"
      ],
      "execution_count": null,
      "outputs": []
    },
    {
      "cell_type": "code",
      "metadata": {
        "colab": {
          "base_uri": "https://localhost:8080/"
        },
        "id": "UM9ScjXOmSah",
        "outputId": "bfa755b5-b4e8-489c-f7b9-02411224d97d"
      },
      "source": [
        "from google.colab import drive\r\n",
        "drive.mount('/content/gdrive')"
      ],
      "execution_count": null,
      "outputs": [
        {
          "output_type": "stream",
          "text": [
            "Drive already mounted at /content/gdrive; to attempt to forcibly remount, call drive.mount(\"/content/gdrive\", force_remount=True).\n"
          ],
          "name": "stdout"
        }
      ]
    },
    {
      "cell_type": "code",
      "metadata": {
        "colab": {
          "base_uri": "https://localhost:8080/"
        },
        "id": "5IrAn8TZm-h7",
        "outputId": "60c7e017-d76b-4845-f107-ed6919b07c39"
      },
      "source": [
        "df = pd.read_csv('/content/gdrive/MyDrive/IGTI/[Btcp] Machine Learning - nov.2020-fev2021/Módulo 3 - Seleção de Modelos de Aprendizado de Máquina/Desafio - Módulo 3/phpOJxGL9.csv')\r\n",
        "df.info() \r\n",
        "# 2: 583 amostras e 11 features incluindo a classe\r\n",
        "# 4: Verdadeiro"
      ],
      "execution_count": null,
      "outputs": [
        {
          "output_type": "stream",
          "text": [
            "<class 'pandas.core.frame.DataFrame'>\n",
            "RangeIndex: 583 entries, 0 to 582\n",
            "Data columns (total 11 columns):\n",
            " #   Column  Non-Null Count  Dtype  \n",
            "---  ------  --------------  -----  \n",
            " 0   V1      583 non-null    int64  \n",
            " 1   V2      583 non-null    object \n",
            " 2   V3      583 non-null    float64\n",
            " 3   V4      583 non-null    float64\n",
            " 4   V5      583 non-null    int64  \n",
            " 5   V6      583 non-null    int64  \n",
            " 6   V7      583 non-null    int64  \n",
            " 7   V8      583 non-null    float64\n",
            " 8   V9      583 non-null    float64\n",
            " 9   V10     583 non-null    float64\n",
            " 10  Class   583 non-null    int64  \n",
            "dtypes: float64(5), int64(5), object(1)\n",
            "memory usage: 50.2+ KB\n"
          ],
          "name": "stdout"
        }
      ]
    },
    {
      "cell_type": "markdown",
      "metadata": {
        "id": "16NGdMub9v_p"
      },
      "source": [
        "Author: Bendi Venkata Ramana, M. Surendra Prasad Babu, N. B. Venkateswarlu\r\n",
        "Source: [UCI](https://archive.ics.uci.edu/ml/datasets/ILPD+(Indian+Liver+Patient+Dataset)) - 2012\r\n",
        "Please cite: [UCI](https://archive.ics.uci.edu/ml/citation_policy.html)\r\n",
        "\r\n",
        "Indian Liver Patient Dataset\r\n",
        "This data set contains 416 liver patient records and 167 non liver patient records.The data set was collected from north east of Andhra Pradesh, India. The class label divides the patients into 2 groups (liver patient or not). This data set contains 441 male patient records and 142 female patient records.\r\n",
        "\r\n",
        "### Attribute Information\r\n",
        "- V1. Age of the patient. Any patient whose age exceeded 89 is listed as being of age \"90\".\r\n",
        "- V2. Gender of the patient\r\n",
        "- V3. Total Bilirubin\r\n",
        "- V4. Direct Bilirubin\r\n",
        "- V5. Alkphos Alkaline Phosphatase\r\n",
        "- V6. Sgpt Alanine Aminotransferase\r\n",
        "- V7. Sgot Aspartate Aminotransferase\r\n",
        "- V8. Total Proteins\r\n",
        "-V9. Albumin\r\n",
        "- V10. A/G Ratio Albumin and Globulin Ratio\r\n",
        "\r\n",
        "A feature indicating a train-test split has been removed.\r\n",
        "\r\n",
        "### Relevant Papers\r\n",
        "1. Bendi Venkata Ramana, Prof. M. S. Prasad Babu and Prof. N. B. Venkateswarlu, A Critical Comparative Study of Liver Patients from USA and INDIA: An Exploratory Analysis, International Journal of Computer Science Issues, ISSN:1694-0784, May 2012.\r\n",
        "2. Bendi Venkata Ramana, Prof. M. S. Prasad Babu and Prof. N. B. Venkateswarlu, A Critical Study of Selected Classification Algorithms for Liver Disease Diagnosis, International Journal of Database Management Systems (IJDMS), Vol.3, No.2, ISSN : 0975-5705, PP 101-114, May 2011."
      ]
    },
    {
      "cell_type": "code",
      "metadata": {
        "id": "U_acsCXooRDd",
        "colab": {
          "base_uri": "https://localhost:8080/",
          "height": 195
        },
        "outputId": "d4787113-98d5-4903-a76b-2cccde1b3311"
      },
      "source": [
        "df.head(5) # 1: falso"
      ],
      "execution_count": null,
      "outputs": [
        {
          "output_type": "execute_result",
          "data": {
            "text/html": [
              "<div>\n",
              "<style scoped>\n",
              "    .dataframe tbody tr th:only-of-type {\n",
              "        vertical-align: middle;\n",
              "    }\n",
              "\n",
              "    .dataframe tbody tr th {\n",
              "        vertical-align: top;\n",
              "    }\n",
              "\n",
              "    .dataframe thead th {\n",
              "        text-align: right;\n",
              "    }\n",
              "</style>\n",
              "<table border=\"1\" class=\"dataframe\">\n",
              "  <thead>\n",
              "    <tr style=\"text-align: right;\">\n",
              "      <th></th>\n",
              "      <th>V1</th>\n",
              "      <th>V2</th>\n",
              "      <th>V3</th>\n",
              "      <th>V4</th>\n",
              "      <th>V5</th>\n",
              "      <th>V6</th>\n",
              "      <th>V7</th>\n",
              "      <th>V8</th>\n",
              "      <th>V9</th>\n",
              "      <th>V10</th>\n",
              "      <th>Class</th>\n",
              "    </tr>\n",
              "  </thead>\n",
              "  <tbody>\n",
              "    <tr>\n",
              "      <th>0</th>\n",
              "      <td>65</td>\n",
              "      <td>Female</td>\n",
              "      <td>0.7</td>\n",
              "      <td>0.1</td>\n",
              "      <td>187</td>\n",
              "      <td>16</td>\n",
              "      <td>18</td>\n",
              "      <td>6.8</td>\n",
              "      <td>3.3</td>\n",
              "      <td>0.90</td>\n",
              "      <td>1</td>\n",
              "    </tr>\n",
              "    <tr>\n",
              "      <th>1</th>\n",
              "      <td>62</td>\n",
              "      <td>Male</td>\n",
              "      <td>10.9</td>\n",
              "      <td>5.5</td>\n",
              "      <td>699</td>\n",
              "      <td>64</td>\n",
              "      <td>100</td>\n",
              "      <td>7.5</td>\n",
              "      <td>3.2</td>\n",
              "      <td>0.74</td>\n",
              "      <td>1</td>\n",
              "    </tr>\n",
              "    <tr>\n",
              "      <th>2</th>\n",
              "      <td>62</td>\n",
              "      <td>Male</td>\n",
              "      <td>7.3</td>\n",
              "      <td>4.1</td>\n",
              "      <td>490</td>\n",
              "      <td>60</td>\n",
              "      <td>68</td>\n",
              "      <td>7.0</td>\n",
              "      <td>3.3</td>\n",
              "      <td>0.89</td>\n",
              "      <td>1</td>\n",
              "    </tr>\n",
              "    <tr>\n",
              "      <th>3</th>\n",
              "      <td>58</td>\n",
              "      <td>Male</td>\n",
              "      <td>1.0</td>\n",
              "      <td>0.4</td>\n",
              "      <td>182</td>\n",
              "      <td>14</td>\n",
              "      <td>20</td>\n",
              "      <td>6.8</td>\n",
              "      <td>3.4</td>\n",
              "      <td>1.00</td>\n",
              "      <td>1</td>\n",
              "    </tr>\n",
              "    <tr>\n",
              "      <th>4</th>\n",
              "      <td>72</td>\n",
              "      <td>Male</td>\n",
              "      <td>3.9</td>\n",
              "      <td>2.0</td>\n",
              "      <td>195</td>\n",
              "      <td>27</td>\n",
              "      <td>59</td>\n",
              "      <td>7.3</td>\n",
              "      <td>2.4</td>\n",
              "      <td>0.40</td>\n",
              "      <td>1</td>\n",
              "    </tr>\n",
              "  </tbody>\n",
              "</table>\n",
              "</div>"
            ],
            "text/plain": [
              "   V1      V2    V3   V4   V5  V6   V7   V8   V9   V10  Class\n",
              "0  65  Female   0.7  0.1  187  16   18  6.8  3.3  0.90      1\n",
              "1  62    Male  10.9  5.5  699  64  100  7.5  3.2  0.74      1\n",
              "2  62    Male   7.3  4.1  490  60   68  7.0  3.3  0.89      1\n",
              "3  58    Male   1.0  0.4  182  14   20  6.8  3.4  1.00      1\n",
              "4  72    Male   3.9  2.0  195  27   59  7.3  2.4  0.40      1"
            ]
          },
          "metadata": {
            "tags": []
          },
          "execution_count": 50
        }
      ]
    },
    {
      "cell_type": "code",
      "metadata": {
        "id": "_q_7bLbx-es4"
      },
      "source": [
        "# 3: Falso (2 categorias - V2 e Class)\r\n",
        "name_to_class = {\r\n",
        "    'Male': 0,\r\n",
        "    'Female': 1\r\n",
        "}\r\n",
        "\r\n",
        "#substituindo os valores categóricos pelo mapeamento\r\n",
        "df['V2'] = df['V2'].map(name_to_class)"
      ],
      "execution_count": null,
      "outputs": []
    },
    {
      "cell_type": "code",
      "metadata": {
        "id": "HF0HR_C6_2oH"
      },
      "source": [
        "labels = np.array(df['Class'])\r\n",
        "df = df.drop('Class', axis = 1)\r\n",
        "feature_list = list(df.columns)\r\n",
        "data = np.array(df)"
      ],
      "execution_count": null,
      "outputs": []
    },
    {
      "cell_type": "markdown",
      "metadata": {
        "id": "LJ8N0fN8AXaO"
      },
      "source": [
        "- b. Kfold estratificado com 10 conjuntos.\r\n",
        "- c. Métrica de avaliação f1:\r\n",
        "    - i. f1 = make_scorer(f1_score)\r\n",
        "- d. Parâmetro de kernel:\r\n",
        "    - i. Sigmoidal e RBF.\r\n",
        "- e. Parâmetro de regularização C:\r\n",
        "    - i. Distribuição uniforme variando entre 0 e 10\r\n",
        "- f. Random_state = 42.\r\n",
        "- g. Número de iterações = 5.\r\n"
      ]
    },
    {
      "cell_type": "code",
      "metadata": {
        "colab": {
          "base_uri": "https://localhost:8080/"
        },
        "id": "CXiKgD1O-3K3",
        "outputId": "7260de8a-b9cc-459d-bd79-4a3e3e4cf67f"
      },
      "source": [
        "#definindo o tipo de validacao cruzada e o numero de folds\r\n",
        "cv_strat = StratifiedKFold(n_splits = 10)\r\n",
        "\r\n",
        "#definindo a estrategia de score a partir da metrica f1\r\n",
        "f1 = make_scorer(f1_score)\r\n",
        "\r\n",
        "#definindo hiperparâmetros\r\n",
        "distributions = dict(kernel = ['sigmoid', 'rbf'], \r\n",
        "                     C = uniform(loc=0, scale=10))\r\n",
        "\r\n",
        "#instânciando meu classificador\r\n",
        "classifier = SVC()\r\n",
        "\r\n",
        "#instanciando e modelando o grid search com os hiperparametros e a validação definidas.\r\n",
        "random_cv = RandomizedSearchCV(classifier, distributions, cv = cv_strat, scoring = f1, random_state = 42, n_iter = 5)\r\n",
        "random_cv.fit(data, labels)"
      ],
      "execution_count": null,
      "outputs": [
        {
          "output_type": "execute_result",
          "data": {
            "text/plain": [
              "RandomizedSearchCV(cv=StratifiedKFold(n_splits=10, random_state=None, shuffle=False),\n",
              "                   error_score=nan,\n",
              "                   estimator=SVC(C=1.0, break_ties=False, cache_size=200,\n",
              "                                 class_weight=None, coef0=0.0,\n",
              "                                 decision_function_shape='ovr', degree=3,\n",
              "                                 gamma='scale', kernel='rbf', max_iter=-1,\n",
              "                                 probability=False, random_state=None,\n",
              "                                 shrinking=True, tol=0.001, verbose=False),\n",
              "                   iid='deprecated', n_iter=5, n_jobs=None,\n",
              "                   param_distributions={'C': <scipy.stats._distn_infrastructure.rv_frozen object at 0x7fc47971a198>,\n",
              "                                        'kernel': ['sigmoid', 'rbf']},\n",
              "                   pre_dispatch='2*n_jobs', random_state=42, refit=True,\n",
              "                   return_train_score=False, scoring=make_scorer(f1_score),\n",
              "                   verbose=0)"
            ]
          },
          "metadata": {
            "tags": []
          },
          "execution_count": 53
        }
      ]
    },
    {
      "cell_type": "code",
      "metadata": {
        "colab": {
          "base_uri": "https://localhost:8080/"
        },
        "id": "-CD5sPvfBPcY",
        "outputId": "636e3b85-2e16-4b84-9630-888f47d48d1c"
      },
      "source": [
        "print('Resumo de todos os resultados encontrados:\\n\\n', random_cv.cv_results_)\r\n",
        "print('Melhor resultado f1:', random_cv.best_score_)\r\n",
        "print('\\n\\nMelhor configuração de hiperparâmetros:', random_cv.best_params_)\r\n",
        "print( '\\n\\nConfigurações de todos os hiperparâmetros do melhor estimado encontrado pelo GridSearch: \\n', random_cv.best_estimator_)\r\n",
        "# 5: 0,83\r\n",
        "# 6: verdadeiro\r\n",
        "# 7: Falso\r\n",
        "# 8 - rbf com C = 1,834"
      ],
      "execution_count": null,
      "outputs": [
        {
          "output_type": "stream",
          "text": [
            "Resumo de todos os resultados encontrados:\n",
            "\n",
            " {'mean_fit_time': array([0.00986607, 0.01231174, 0.00918591, 0.00920739, 0.00998747]), 'std_fit_time': array([0.00538525, 0.0012999 , 0.00170826, 0.00198094, 0.00043808]), 'mean_score_time': array([0.00169537, 0.00182438, 0.00213833, 0.0018084 , 0.00177338]), 'std_score_time': array([1.23876634e-04, 1.05385759e-04, 7.48525932e-04, 4.69145514e-04,\n",
            "       8.96698869e-05]), 'param_C': masked_array(data=[3.745401188473625, 1.834347898661638,\n",
            "                   5.986584841970366, 4.458327528535912,\n",
            "                   0.5808361216819946],\n",
            "             mask=[False, False, False, False, False],\n",
            "       fill_value='?',\n",
            "            dtype=object), 'param_kernel': masked_array(data=['sigmoid', 'rbf', 'sigmoid', 'sigmoid', 'rbf'],\n",
            "             mask=[False, False, False, False, False],\n",
            "       fill_value='?',\n",
            "            dtype=object), 'params': [{'C': 3.745401188473625, 'kernel': 'sigmoid'}, {'C': 1.834347898661638, 'kernel': 'rbf'}, {'C': 5.986584841970366, 'kernel': 'sigmoid'}, {'C': 4.458327528535912, 'kernel': 'sigmoid'}, {'C': 0.5808361216819946, 'kernel': 'rbf'}], 'split0_test_score': array([0.73563218, 0.83168317, 0.73563218, 0.73563218, 0.83168317]), 'split1_test_score': array([0.73809524, 0.83168317, 0.74074074, 0.72289157, 0.83168317]), 'split2_test_score': array([0.69767442, 0.83168317, 0.69767442, 0.69767442, 0.83168317]), 'split3_test_score': array([0.66666667, 0.84      , 0.66666667, 0.66666667, 0.84      ]), 'split4_test_score': array([0.73809524, 0.84      , 0.73809524, 0.73809524, 0.84      ]), 'split5_test_score': array([0.78571429, 0.84      , 0.78571429, 0.78571429, 0.84      ]), 'split6_test_score': array([0.74358974, 0.82828283, 0.74358974, 0.74358974, 0.82828283]), 'split7_test_score': array([0.65      , 0.82828283, 0.65      , 0.65      , 0.82828283]), 'split8_test_score': array([0.75862069, 0.82828283, 0.77272727, 0.75862069, 0.82828283]), 'split9_test_score': array([0.82222222, 0.82828283, 0.83146067, 0.83146067, 0.82828283]), 'mean_test_score': array([0.73363107, 0.83281808, 0.73623012, 0.73303455, 0.83281808]), 'std_test_score': array([0.04909159, 0.00490793, 0.05166157, 0.05090573, 0.00490793]), 'rank_test_score': array([4, 1, 3, 5, 1], dtype=int32)}\n",
            "Melhor resultado f1: 0.832818081808181\n",
            "\n",
            "\n",
            "Melhor configuração de hiperparâmetros: {'C': 1.834347898661638, 'kernel': 'rbf'}\n",
            "\n",
            "\n",
            "Configurações de todos os hiperparâmetros do melhor estimado encontrado pelo GridSearch: \n",
            " SVC(C=1.834347898661638, break_ties=False, cache_size=200, class_weight=None,\n",
            "    coef0=0.0, decision_function_shape='ovr', degree=3, gamma='scale',\n",
            "    kernel='rbf', max_iter=-1, probability=False, random_state=None,\n",
            "    shrinking=True, tol=0.001, verbose=False)\n"
          ],
          "name": "stdout"
        }
      ]
    },
    {
      "cell_type": "markdown",
      "metadata": {
        "id": "GsdDbcKXBngG"
      },
      "source": [
        "- a. Faça a instanciação do Random Forest fixando o random_state = 42:\r\n",
        "- b. Kfold estratificado com 10 conjuntos.\r\n",
        "- c. Métrica de avaliação f1:\r\n",
        "    - i. f1 = make_scorer(f1_score)\r\n",
        "- d. Parâmetro do número de árvores:\r\n",
        "    - i. Distribuição aleatória inteira de valores entre 100 e 200.\r\n",
        "- e. Parâmetro Bootstrap:\r\n",
        "- i. Verdadeiro e Falso.\r\n",
        "- f. Parâmetro Criterion:\r\n",
        "    - i. Gini e Entropy.\r\n",
        "- g. Random_state = 42.\r\n",
        "- h. Número de iterações = 5."
      ]
    },
    {
      "cell_type": "code",
      "metadata": {
        "colab": {
          "base_uri": "https://localhost:8080/"
        },
        "id": "FWYVbrMQBbeO",
        "outputId": "871110b8-c3fb-40ec-8763-1197d8b75155"
      },
      "source": [
        "#definindo o tipo de validacao cruzada e o numero de folds\r\n",
        "cv_strat = StratifiedKFold(n_splits = 10)\r\n",
        "\r\n",
        "#definindo a estrategia de score a partir da metrica f1\r\n",
        "f1 = make_scorer(f1_score)\r\n",
        "\r\n",
        "#definindo hiperparâmetros\r\n",
        "distributions1 = dict(n_estimators = randint(100, 200),\r\n",
        "                      bootstrap = [True, False],\r\n",
        "                      criterion = ['gini', 'entropy'])\r\n",
        "\r\n",
        "#instânciando meu classificador\r\n",
        "classifier1 = RandomForestClassifier(random_state = 42)\r\n",
        "\r\n",
        "#instanciando e modelando o grid search com os hiperparametros e a validação definidas.\r\n",
        "random_cv1 = RandomizedSearchCV(classifier1, distributions1, cv = cv_strat, scoring = f1, random_state = 42, n_iter = 5)\r\n",
        "random_cv1.fit(data, labels)"
      ],
      "execution_count": null,
      "outputs": [
        {
          "output_type": "execute_result",
          "data": {
            "text/plain": [
              "RandomizedSearchCV(cv=StratifiedKFold(n_splits=10, random_state=None, shuffle=False),\n",
              "                   error_score=nan,\n",
              "                   estimator=RandomForestClassifier(bootstrap=True,\n",
              "                                                    ccp_alpha=0.0,\n",
              "                                                    class_weight=None,\n",
              "                                                    criterion='gini',\n",
              "                                                    max_depth=None,\n",
              "                                                    max_features='auto',\n",
              "                                                    max_leaf_nodes=None,\n",
              "                                                    max_samples=None,\n",
              "                                                    min_impurity_decrease=0.0,\n",
              "                                                    min_impurity_split=None,\n",
              "                                                    min_samples_leaf=1,\n",
              "                                                    min_samples_s...\n",
              "                                                    random_state=42, verbose=0,\n",
              "                                                    warm_start=False),\n",
              "                   iid='deprecated', n_iter=5, n_jobs=None,\n",
              "                   param_distributions={'bootstrap': [True, False],\n",
              "                                        'criterion': ['gini', 'entropy'],\n",
              "                                        'n_estimators': <scipy.stats._distn_infrastructure.rv_frozen object at 0x7fc4796566a0>},\n",
              "                   pre_dispatch='2*n_jobs', random_state=42, refit=True,\n",
              "                   return_train_score=False, scoring=make_scorer(f1_score),\n",
              "                   verbose=0)"
            ]
          },
          "metadata": {
            "tags": []
          },
          "execution_count": 55
        }
      ]
    },
    {
      "cell_type": "code",
      "metadata": {
        "colab": {
          "base_uri": "https://localhost:8080/"
        },
        "id": "JIzJBGG2BeTl",
        "outputId": "6eb7671c-6e65-4ec1-cd8a-5622923d1664"
      },
      "source": [
        "print('Resumo de todos os resultados encontrados:\\n\\n', random_cv1.cv_results_)\r\n",
        "print('Melhor resultado f1:', random_cv1.best_score_)\r\n",
        "print('\\n\\nMelhor configuração de hiperparâmetros:', random_cv1.best_params_)\r\n",
        "print( '\\n\\nConfigurações de todos os hiperparâmetros do melhor estimado encontrado pelo GridSearch: \\n', random_cv1.best_estimator_)\r\n",
        "# 9: 0.80\r\n",
        "# 10: Verdadeiro\r\n",
        "# 11: Falso\r\n",
        "# 12: 171\r\n",
        "# 13: score - SVC: 0.83; RF: 0.80 - SVC tem f1 maior\r\n",
        "# 14: Falso\r\n",
        "# 15: Falso"
      ],
      "execution_count": null,
      "outputs": [
        {
          "output_type": "stream",
          "text": [
            "Resumo de todos os resultados encontrados:\n",
            "\n",
            " {'mean_fit_time': array([0.42393522, 0.32235162, 0.34834077, 0.31967461, 0.36359231]), 'std_fit_time': array([0.00658869, 0.02307251, 0.04495895, 0.01498046, 0.00951614]), 'mean_score_time': array([0.01709874, 0.0159287 , 0.01633255, 0.01443825, 0.01661446]), 'std_score_time': array([0.00264987, 0.00307396, 0.00337636, 0.00048406, 0.00040602]), 'param_bootstrap': masked_array(data=[True, True, True, True, False],\n",
            "             mask=[False, False, False, False, False],\n",
            "       fill_value='?',\n",
            "            dtype=object), 'param_criterion': masked_array(data=['entropy', 'gini', 'gini', 'gini', 'gini'],\n",
            "             mask=[False, False, False, False, False],\n",
            "       fill_value='?',\n",
            "            dtype=object), 'param_n_estimators': masked_array(data=[192, 171, 182, 174, 199],\n",
            "             mask=[False, False, False, False, False],\n",
            "       fill_value='?',\n",
            "            dtype=object), 'params': [{'bootstrap': True, 'criterion': 'entropy', 'n_estimators': 192}, {'bootstrap': True, 'criterion': 'gini', 'n_estimators': 171}, {'bootstrap': True, 'criterion': 'gini', 'n_estimators': 182}, {'bootstrap': True, 'criterion': 'gini', 'n_estimators': 174}, {'bootstrap': False, 'criterion': 'gini', 'n_estimators': 199}], 'split0_test_score': array([0.82105263, 0.8172043 , 0.80434783, 0.8172043 , 0.79120879]), 'split1_test_score': array([0.80434783, 0.79569892, 0.79569892, 0.79569892, 0.80434783]), 'split2_test_score': array([0.80851064, 0.82105263, 0.82105263, 0.82105263, 0.82978723]), 'split3_test_score': array([0.8372093 , 0.87640449, 0.87640449, 0.87640449, 0.8372093 ]), 'split4_test_score': array([0.8       , 0.79069767, 0.79069767, 0.79069767, 0.75294118]), 'split5_test_score': array([0.7804878 , 0.79518072, 0.7804878 , 0.7804878 , 0.775     ]), 'split6_test_score': array([0.76923077, 0.76923077, 0.74358974, 0.75949367, 0.73684211]), 'split7_test_score': array([0.69767442, 0.70588235, 0.70588235, 0.70588235, 0.65853659]), 'split8_test_score': array([0.79120879, 0.79120879, 0.81318681, 0.8       , 0.81318681]), 'split9_test_score': array([0.8172043 , 0.83870968, 0.85106383, 0.83870968, 0.81318681]), 'mean_test_score': array([0.79269265, 0.80012703, 0.79824121, 0.79856315, 0.78122466]), 'std_test_score': array([0.03681898, 0.0425271 , 0.04645024, 0.04363404, 0.05102059]), 'rank_test_score': array([4, 1, 3, 2, 5], dtype=int32)}\n",
            "Melhor resultado f1: 0.8001270339877683\n",
            "\n",
            "\n",
            "Melhor configuração de hiperparâmetros: {'bootstrap': True, 'criterion': 'gini', 'n_estimators': 171}\n",
            "\n",
            "\n",
            "Configurações de todos os hiperparâmetros do melhor estimado encontrado pelo GridSearch: \n",
            " RandomForestClassifier(bootstrap=True, ccp_alpha=0.0, class_weight=None,\n",
            "                       criterion='gini', max_depth=None, max_features='auto',\n",
            "                       max_leaf_nodes=None, max_samples=None,\n",
            "                       min_impurity_decrease=0.0, min_impurity_split=None,\n",
            "                       min_samples_leaf=1, min_samples_split=2,\n",
            "                       min_weight_fraction_leaf=0.0, n_estimators=171,\n",
            "                       n_jobs=None, oob_score=False, random_state=42, verbose=0,\n",
            "                       warm_start=False)\n"
          ],
          "name": "stdout"
        }
      ]
    }
  ]
}