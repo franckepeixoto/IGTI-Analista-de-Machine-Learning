{
  "nbformat": 4,
  "nbformat_minor": 0,
  "metadata": {
    "colab": {
      "name": " IGTI: Desafio Modelos Preditivos e Séries Temporais (Módulo 2)",
      "provenance": [],
      "authorship_tag": "ABX9TyOEwNK1L2Gx59y9YVNIiijx",
      "include_colab_link": true
    },
    "kernelspec": {
      "name": "python3",
      "display_name": "Python 3"
    }
  },
  "cells": [
    {
      "cell_type": "markdown",
      "metadata": {
        "id": "view-in-github",
        "colab_type": "text"
      },
      "source": [
        "<a href=\"https://colab.research.google.com/github/franckepeixoto/IGTI-Analista-de-Machine-Learning/blob/main/IGTI_Desafio_Modelos_Preditivos_e_S%C3%A9ries_Temporais_(M%C3%B3dulo_2).ipynb\" target=\"_parent\"><img src=\"https://colab.research.google.com/assets/colab-badge.svg\" alt=\"Open In Colab\"/></a>"
      ]
    },
    {
      "cell_type": "markdown",
      "metadata": {
        "id": "u3L7oVRA9VDf"
      },
      "source": [
        "# Objetivos\r\n",
        "> * Análise exploratória de dados (EDA - Exploratory Data Analysis)\r\n",
        "> * Comparação e treinamento de modelos de classificação"
      ]
    },
    {
      "cell_type": "markdown",
      "metadata": {
        "id": "qXnuwue89pw9"
      },
      "source": [
        "## Enunciado\r\n",
        "*Neste desafio, serão abordados conceitos apresentados durante a disciplina Modelos Preditivos e Séries Temporais (MPT).*\r\n",
        "> Será utilizado o dataset **Banknote authetication**,\r\n",
        "disponível no UCI Machine Learning Repository \r\n",
        "\r\n",
        "<img src=\"https://storage.googleapis.com/kaggle-datasets-images/631969/1124426/f0ef7741a1a189f4c089103520b29832/dataset-cover.jpg?t=2020-05-02-13-31-16\" height=\"100px\" align=\"left\" hspace=\"4px\" alt=\"New\"></img>\r\n",
        "\r\n",
        "[**Banknote Authentication Dataset**](https://archive.ics.uci.edu/ml/datasets/banknote+authentication)"
      ]
    },
    {
      "cell_type": "markdown",
      "metadata": {
        "id": "QrOMPhl1_yDW"
      },
      "source": [
        "Este dataset consiste de atributos contínuos\r\n",
        "> * variance\r\n",
        "> * skewness\r\n",
        "> * curtosis\r\n",
        "> * entropy\r\n",
        "\r\n",
        "Extraídos de imagens de **cédulas reais** e **falsificadas** através de uma etapa de\r\n",
        "processamento de sinais **(transformação de Wavelet)**, além da indicação se o exemplo é de uma cédula **genuína** (class = **0**) ou **falsificada** (class = **1**).\r\n"
      ]
    },
    {
      "cell_type": "markdown",
      "metadata": {
        "id": "zLvW9pH8_Ccu"
      },
      "source": [
        "# Atividades"
      ]
    },
    {
      "cell_type": "markdown",
      "metadata": {
        "id": "Vty0xkzqAb0T"
      },
      "source": [
        "### Carregar e dividir os dados; e  implementação dos algoritmos\r\n",
        "Divida o dataset utilizando a função train_test_split, conforme:\r\n",
        "* a. Conjunto de treino (70%)\r\n",
        "* b. Conjunto de teste (30%)\r\n",
        "* c. random_state=1"
      ]
    },
    {
      "cell_type": "code",
      "metadata": {
        "colab": {
          "base_uri": "https://localhost:8080/",
          "height": 111
        },
        "id": "Nr774cjqAdSB",
        "outputId": "f51b7c2f-8c81-4c52-e50a-c4c811a3451d"
      },
      "source": [
        "import numpy as np\r\n",
        "import pandas as pd\r\n",
        "names = ['variance','skewness','curtosis','entropy','class']\r\n",
        "dataset = pd.read_csv('https://pycourse.s3.amazonaws.com/banknote_authentication.txt', header=None, names=names) \r\n",
        "dataset.tail(2)"
      ],
      "execution_count": 36,
      "outputs": [
        {
          "output_type": "execute_result",
          "data": {
            "text/html": [
              "<div>\n",
              "<style scoped>\n",
              "    .dataframe tbody tr th:only-of-type {\n",
              "        vertical-align: middle;\n",
              "    }\n",
              "\n",
              "    .dataframe tbody tr th {\n",
              "        vertical-align: top;\n",
              "    }\n",
              "\n",
              "    .dataframe thead th {\n",
              "        text-align: right;\n",
              "    }\n",
              "</style>\n",
              "<table border=\"1\" class=\"dataframe\">\n",
              "  <thead>\n",
              "    <tr style=\"text-align: right;\">\n",
              "      <th></th>\n",
              "      <th>variance</th>\n",
              "      <th>skewness</th>\n",
              "      <th>curtosis</th>\n",
              "      <th>entropy</th>\n",
              "      <th>class</th>\n",
              "    </tr>\n",
              "  </thead>\n",
              "  <tbody>\n",
              "    <tr>\n",
              "      <th>1370</th>\n",
              "      <td>-3.5637</td>\n",
              "      <td>-8.38270</td>\n",
              "      <td>12.3930</td>\n",
              "      <td>-1.2823</td>\n",
              "      <td>1</td>\n",
              "    </tr>\n",
              "    <tr>\n",
              "      <th>1371</th>\n",
              "      <td>-2.5419</td>\n",
              "      <td>-0.65804</td>\n",
              "      <td>2.6842</td>\n",
              "      <td>1.1952</td>\n",
              "      <td>1</td>\n",
              "    </tr>\n",
              "  </tbody>\n",
              "</table>\n",
              "</div>"
            ],
            "text/plain": [
              "      variance  skewness  curtosis  entropy  class\n",
              "1370   -3.5637  -8.38270   12.3930  -1.2823      1\n",
              "1371   -2.5419  -0.65804    2.6842   1.1952      1"
            ]
          },
          "metadata": {
            "tags": []
          },
          "execution_count": 36
        }
      ]
    },
    {
      "cell_type": "markdown",
      "metadata": {
        "id": "hXXet2iGAZks"
      },
      "source": [
        "*Utilize a variável **class** como saída e as demais como entrada dos modelos*"
      ]
    },
    {
      "cell_type": "code",
      "metadata": {
        "colab": {
          "base_uri": "https://localhost:8080/"
        },
        "id": "qvzuMXRGBtH-",
        "outputId": "414fa86b-ded3-4e53-aca9-934b49f0ba96"
      },
      "source": [
        "from sklearn.model_selection import train_test_split\r\n",
        "x = dataset.iloc[:,:-1]\r\n",
        "index_class = len(dataset.columns)-1\r\n",
        "y = dataset.iloc[:,index_class]\r\n",
        "print(\"y \\t =\\t\",dataset.columns[index_class])\r\n",
        "xtrain, xtest, ytrain, ytest = train_test_split(x, y, test_size=0.3, random_state=1)\r\n",
        "print(\"train(x) =\\t\",xtrain.shape,\"\\ntest (x) =\\t\", xtest.shape,\"\\ntrain(y) =\\t\",ytrain.shape,\"\\ntest (y) =\\t\",ytest.shape)"
      ],
      "execution_count": 37,
      "outputs": [
        {
          "output_type": "stream",
          "text": [
            "y \t =\t class\n",
            "train(x) =\t (960, 4) \n",
            "test (x) =\t (412, 4) \n",
            "train(y) =\t (960,) \n",
            "test (y) =\t (412,)\n"
          ],
          "name": "stdout"
        }
      ]
    },
    {
      "cell_type": "markdown",
      "metadata": {
        "id": "BvZxt96nErXW"
      },
      "source": [
        "Para implementação dos algoritmos, utilize as seguintes definições **(do sklearn)**:\r\n",
        "* a. Algoritmo KNN\r\n",
        "* b. Algoritmo Árvore de Decisão (Decision Tree)\r\n",
        "* c. Algoritmo Floresta Aleatória (Random Forest)\r\n",
        "* d. Algoritmo SVM\r\n",
        "* e. Algoritmo Rede MLP"
      ]
    },
    {
      "cell_type": "code",
      "metadata": {
        "id": "QghVXimsErG5"
      },
      "source": [
        "from sklearn.neighbors import KNeighborsClassifier\r\n",
        "from sklearn.tree import DecisionTreeClassifier\r\n",
        "from sklearn.ensemble import RandomForestClassifier\r\n",
        "from sklearn.svm import SVC\r\n",
        "from sklearn.neural_network import MLPClassifier\r\n",
        "\r\n",
        "random_state = 1\r\n",
        "\r\n",
        "knn = KNeighborsClassifier(n_neighbors=5)\r\n",
        "arvore = DecisionTreeClassifier(random_state=random_state)\r\n",
        "floresta = RandomForestClassifier(max_depth=8, random_state=random_state)\r\n",
        "svm = SVC(gamma='auto',kernel='rbf', random_state=random_state)\r\n",
        "mlp = MLPClassifier(hidden_layer_sizes=(2,), solver='lbfgs',random_state=random_state)"
      ],
      "execution_count": 38,
      "outputs": []
    },
    {
      "cell_type": "markdown",
      "metadata": {
        "id": "7dc0xDOHGLf5"
      },
      "source": [
        "### Perguntas e Respostas "
      ]
    },
    {
      "cell_type": "markdown",
      "metadata": {
        "id": "juMfhVKtGZT_"
      },
      "source": [
        "Qual o tamanho desse dataset (número de linhas, número de colunas)?"
      ]
    },
    {
      "cell_type": "code",
      "metadata": {
        "colab": {
          "base_uri": "https://localhost:8080/"
        },
        "id": "Qmr-i2nMGTz2",
        "outputId": "722e3f56-123b-45d3-84d4-a19636f107c0"
      },
      "source": [
        "dataset.shape"
      ],
      "execution_count": 39,
      "outputs": [
        {
          "output_type": "execute_result",
          "data": {
            "text/plain": [
              "(1372, 5)"
            ]
          },
          "metadata": {
            "tags": []
          },
          "execution_count": 39
        }
      ]
    },
    {
      "cell_type": "markdown",
      "metadata": {
        "id": "ZUp4kqUGGiLP"
      },
      "source": [
        "Qual variável possui o maior range (diferença entre valor máximo e mínimo)?"
      ]
    },
    {
      "cell_type": "code",
      "metadata": {
        "colab": {
          "base_uri": "https://localhost:8080/",
          "height": 204
        },
        "id": "wzaCYwRaGl83",
        "outputId": "d358e3cd-8bf5-43e5-85a7-554bbd89082e"
      },
      "source": [
        "describe = dataset.describe().loc[['max','min']]\r\n",
        "describe.loc['range']= describe.loc['max'] - describe.loc['min']\r\n",
        "describe.loc['range'].reset_index().sort_values('range', ascending=False) "
      ],
      "execution_count": 118,
      "outputs": [
        {
          "output_type": "execute_result",
          "data": {
            "text/html": [
              "<div>\n",
              "<style scoped>\n",
              "    .dataframe tbody tr th:only-of-type {\n",
              "        vertical-align: middle;\n",
              "    }\n",
              "\n",
              "    .dataframe tbody tr th {\n",
              "        vertical-align: top;\n",
              "    }\n",
              "\n",
              "    .dataframe thead th {\n",
              "        text-align: right;\n",
              "    }\n",
              "</style>\n",
              "<table border=\"1\" class=\"dataframe\">\n",
              "  <thead>\n",
              "    <tr style=\"text-align: right;\">\n",
              "      <th></th>\n",
              "      <th>index</th>\n",
              "      <th>range</th>\n",
              "    </tr>\n",
              "  </thead>\n",
              "  <tbody>\n",
              "    <tr>\n",
              "      <th>1</th>\n",
              "      <td>skewness</td>\n",
              "      <td>26.7247</td>\n",
              "    </tr>\n",
              "    <tr>\n",
              "      <th>2</th>\n",
              "      <td>curtosis</td>\n",
              "      <td>23.2135</td>\n",
              "    </tr>\n",
              "    <tr>\n",
              "      <th>0</th>\n",
              "      <td>variance</td>\n",
              "      <td>13.8669</td>\n",
              "    </tr>\n",
              "    <tr>\n",
              "      <th>3</th>\n",
              "      <td>entropy</td>\n",
              "      <td>10.9977</td>\n",
              "    </tr>\n",
              "    <tr>\n",
              "      <th>4</th>\n",
              "      <td>class</td>\n",
              "      <td>1.0000</td>\n",
              "    </tr>\n",
              "  </tbody>\n",
              "</table>\n",
              "</div>"
            ],
            "text/plain": [
              "      index    range\n",
              "1  skewness  26.7247\n",
              "2  curtosis  23.2135\n",
              "0  variance  13.8669\n",
              "3   entropy  10.9977\n",
              "4     class   1.0000"
            ]
          },
          "metadata": {
            "tags": []
          },
          "execution_count": 118
        }
      ]
    },
    {
      "cell_type": "markdown",
      "metadata": {
        "id": "Zh7eObK3Giae"
      },
      "source": [
        "Qual a média da coluna skewness?"
      ]
    },
    {
      "cell_type": "code",
      "metadata": {
        "colab": {
          "base_uri": "https://localhost:8080/"
        },
        "id": "Rf2qFuazJV68",
        "outputId": "18930067-4fbc-42bb-f662-b3710641b5e8"
      },
      "source": [
        "dataset.skewness.mean()"
      ],
      "execution_count": 69,
      "outputs": [
        {
          "output_type": "execute_result",
          "data": {
            "text/plain": [
              "1.9223531206393603"
            ]
          },
          "metadata": {
            "tags": []
          },
          "execution_count": 69
        }
      ]
    },
    {
      "cell_type": "markdown",
      "metadata": {
        "id": "5BKnB7I-JdkI"
      },
      "source": [
        "Qual a média da coluna entropy?"
      ]
    },
    {
      "cell_type": "code",
      "metadata": {
        "colab": {
          "base_uri": "https://localhost:8080/"
        },
        "id": "4ovydMsHJeHf",
        "outputId": "9a865a43-b910-4c97-9a2f-2bd9305f4a6d"
      },
      "source": [
        "dataset.entropy.mean()"
      ],
      "execution_count": 71,
      "outputs": [
        {
          "output_type": "execute_result",
          "data": {
            "text/plain": [
              "-1.191656520043731"
            ]
          },
          "metadata": {
            "tags": []
          },
          "execution_count": 71
        }
      ]
    },
    {
      "cell_type": "markdown",
      "metadata": {
        "id": "JdH71oFzJwAA"
      },
      "source": [
        "Qual a mediana da coluna variance?"
      ]
    },
    {
      "cell_type": "code",
      "metadata": {
        "colab": {
          "base_uri": "https://localhost:8080/"
        },
        "id": "pOUGnVawJyvp",
        "outputId": "93fc27f2-1e8c-4f98-b4ea-aada76dc98be"
      },
      "source": [
        "dataset.variance.median()"
      ],
      "execution_count": 73,
      "outputs": [
        {
          "output_type": "execute_result",
          "data": {
            "text/plain": [
              "0.49618"
            ]
          },
          "metadata": {
            "tags": []
          },
          "execution_count": 73
        }
      ]
    },
    {
      "cell_type": "markdown",
      "metadata": {
        "id": "zCNu1o4aJ3aB"
      },
      "source": [
        "Qual a desvio padrão da coluna curtosis?"
      ]
    },
    {
      "cell_type": "code",
      "metadata": {
        "colab": {
          "base_uri": "https://localhost:8080/"
        },
        "id": "eoAjuOScJ6Ln",
        "outputId": "65a0ca75-3e40-48f2-a796-8d4fbb864bde"
      },
      "source": [
        "dataset.curtosis.std()"
      ],
      "execution_count": 75,
      "outputs": [
        {
          "output_type": "execute_result",
          "data": {
            "text/plain": [
              "4.310030090106595"
            ]
          },
          "metadata": {
            "tags": []
          },
          "execution_count": 75
        }
      ]
    },
    {
      "cell_type": "markdown",
      "metadata": {
        "id": "nYi3TQDCKDV5"
      },
      "source": [
        "Qual a porcentagem de exemplos do dataset que são cédulas falsas (class=1)?"
      ]
    },
    {
      "cell_type": "code",
      "metadata": {
        "colab": {
          "base_uri": "https://localhost:8080/"
        },
        "id": "vFSlW0nbKGdI",
        "outputId": "fc153bf6-48c7-4c46-8965-fbc0a3cc541c"
      },
      "source": [
        "total = len(dataset['class'])\r\n",
        "(len(dataset[dataset['class']==1]['class'])/total)*100"
      ],
      "execution_count": 82,
      "outputs": [
        {
          "output_type": "execute_result",
          "data": {
            "text/plain": [
              "44.460641399416915"
            ]
          },
          "metadata": {
            "tags": []
          },
          "execution_count": 82
        }
      ]
    },
    {
      "cell_type": "markdown",
      "metadata": {
        "id": "dPrV-9V8KDpX"
      },
      "source": [
        "Qual o valor da correlação de Pearson entre as variáveis skewness e curtosis?"
      ]
    },
    {
      "cell_type": "code",
      "metadata": {
        "colab": {
          "base_uri": "https://localhost:8080/"
        },
        "id": "SKwq2TdXKuAx",
        "outputId": "5ee5d9a8-9849-4d2a-e777-76feace2a1fc"
      },
      "source": [
        "corr = dataset[['skewness','curtosis']].corr(method='pearson')\r\n",
        "corr[corr<1].values[1][0]"
      ],
      "execution_count": 92,
      "outputs": [
        {
          "output_type": "execute_result",
          "data": {
            "text/plain": [
              "-0.786895224306578"
            ]
          },
          "metadata": {
            "tags": []
          },
          "execution_count": 92
        }
      ]
    },
    {
      "cell_type": "markdown",
      "metadata": {
        "id": "qD1nw-4pKDzY"
      },
      "source": [
        "Qual a acurácia do KNN no conjunto de teste?"
      ]
    },
    {
      "cell_type": "code",
      "metadata": {
        "colab": {
          "base_uri": "https://localhost:8080/"
        },
        "id": "O2NGWnv3Ljng",
        "outputId": "2e7cdbe7-8eee-4399-9a3e-bc401210385c"
      },
      "source": [
        "from sklearn.metrics import accuracy_score\r\n",
        "knn.fit(xtrain,ytrain)\r\n",
        "previsoes = knn.predict(xtest)\r\n",
        "accuracy_score(ytest, previsoes)"
      ],
      "execution_count": 94,
      "outputs": [
        {
          "output_type": "execute_result",
          "data": {
            "text/plain": [
              "0.9975728155339806"
            ]
          },
          "metadata": {
            "tags": []
          },
          "execution_count": 94
        }
      ]
    },
    {
      "cell_type": "markdown",
      "metadata": {
        "id": "SDWhzrZ5LXnI"
      },
      "source": [
        "Qual a acurácia da Árvore de Decisão no conjunto de teste?"
      ]
    },
    {
      "cell_type": "code",
      "metadata": {
        "colab": {
          "base_uri": "https://localhost:8080/"
        },
        "id": "CcgK7mk-MBkB",
        "outputId": "85639d1a-14f8-4794-82d1-bb1f129e2957"
      },
      "source": [
        "arvore.fit(xtrain,ytrain)\r\n",
        "previsoes = arvore.predict(xtest)\r\n",
        "accuracy_score(ytest, previsoes)"
      ],
      "execution_count": 96,
      "outputs": [
        {
          "output_type": "execute_result",
          "data": {
            "text/plain": [
              "0.9878640776699029"
            ]
          },
          "metadata": {
            "tags": []
          },
          "execution_count": 96
        }
      ]
    },
    {
      "cell_type": "markdown",
      "metadata": {
        "id": "rbEkMzVqLXqA"
      },
      "source": [
        "Qual a acurácia do Random Forest no conjunto de teste?"
      ]
    },
    {
      "cell_type": "code",
      "metadata": {
        "colab": {
          "base_uri": "https://localhost:8080/"
        },
        "id": "3OkofH7GMT_b",
        "outputId": "963a4d8f-127f-48cf-fd37-31469abbe052"
      },
      "source": [
        "floresta.fit(xtrain,ytrain)\r\n",
        "previsoes = floresta.predict(xtest)\r\n",
        "accuracy_score(ytest, previsoes)"
      ],
      "execution_count": 97,
      "outputs": [
        {
          "output_type": "execute_result",
          "data": {
            "text/plain": [
              "0.9951456310679612"
            ]
          },
          "metadata": {
            "tags": []
          },
          "execution_count": 97
        }
      ]
    },
    {
      "cell_type": "markdown",
      "metadata": {
        "id": "XDL9fpRQLXs_"
      },
      "source": [
        "Analisando o valor da importância relativa das features do Random Forest (atributo feature_importances_), qual feature melhor contribuiu para a predição de class?"
      ]
    },
    {
      "cell_type": "code",
      "metadata": {
        "colab": {
          "base_uri": "https://localhost:8080/",
          "height": 173
        },
        "id": "Osr1KFiZMleS",
        "outputId": "f79d5d85-fb49-4b81-e505-01df6465792e"
      },
      "source": [
        "evidencia = pd.DataFrame({'score': floresta.feature_importances_ },index=xtrain.columns)\r\n",
        "evidencia.sort_values('score', ascending=False)"
      ],
      "execution_count": 109,
      "outputs": [
        {
          "output_type": "execute_result",
          "data": {
            "text/html": [
              "<div>\n",
              "<style scoped>\n",
              "    .dataframe tbody tr th:only-of-type {\n",
              "        vertical-align: middle;\n",
              "    }\n",
              "\n",
              "    .dataframe tbody tr th {\n",
              "        vertical-align: top;\n",
              "    }\n",
              "\n",
              "    .dataframe thead th {\n",
              "        text-align: right;\n",
              "    }\n",
              "</style>\n",
              "<table border=\"1\" class=\"dataframe\">\n",
              "  <thead>\n",
              "    <tr style=\"text-align: right;\">\n",
              "      <th></th>\n",
              "      <th>score</th>\n",
              "    </tr>\n",
              "  </thead>\n",
              "  <tbody>\n",
              "    <tr>\n",
              "      <th>variance</th>\n",
              "      <td>0.560667</td>\n",
              "    </tr>\n",
              "    <tr>\n",
              "      <th>skewness</th>\n",
              "      <td>0.240586</td>\n",
              "    </tr>\n",
              "    <tr>\n",
              "      <th>curtosis</th>\n",
              "      <td>0.140228</td>\n",
              "    </tr>\n",
              "    <tr>\n",
              "      <th>entropy</th>\n",
              "      <td>0.058519</td>\n",
              "    </tr>\n",
              "  </tbody>\n",
              "</table>\n",
              "</div>"
            ],
            "text/plain": [
              "             score\n",
              "variance  0.560667\n",
              "skewness  0.240586\n",
              "curtosis  0.140228\n",
              "entropy   0.058519"
            ]
          },
          "metadata": {
            "tags": []
          },
          "execution_count": 109
        }
      ]
    },
    {
      "cell_type": "markdown",
      "metadata": {
        "id": "nUo2BCzuN3SL"
      },
      "source": [
        "Qual o valor da importância relativa da feature skewness?"
      ]
    },
    {
      "cell_type": "code",
      "metadata": {
        "colab": {
          "base_uri": "https://localhost:8080/"
        },
        "id": "osQvZHVqN2o9",
        "outputId": "d58a4e11-e283-4615-c9aa-dfeaf32afd38"
      },
      "source": [
        "evidencia.loc['skewness']"
      ],
      "execution_count": 111,
      "outputs": [
        {
          "output_type": "execute_result",
          "data": {
            "text/plain": [
              "score    0.240586\n",
              "Name: skewness, dtype: float64"
            ]
          },
          "metadata": {
            "tags": []
          },
          "execution_count": 111
        }
      ]
    },
    {
      "cell_type": "code",
      "metadata": {
        "id": "X8j3MnTCOCuh"
      },
      "source": [
        "Qual a acurácia do SVM no conjunto de teste?"
      ],
      "execution_count": null,
      "outputs": []
    },
    {
      "cell_type": "code",
      "metadata": {
        "colab": {
          "base_uri": "https://localhost:8080/"
        },
        "id": "EfpcAT71OGEK",
        "outputId": "ca8189a4-f14e-4f70-847f-1b41ed141174"
      },
      "source": [
        "svm.fit(xtrain,ytrain)\r\n",
        "previsoes = svm.predict(xtest)\r\n",
        "accuracy_score(ytest, previsoes)"
      ],
      "execution_count": 112,
      "outputs": [
        {
          "output_type": "execute_result",
          "data": {
            "text/plain": [
              "1.0"
            ]
          },
          "metadata": {
            "tags": []
          },
          "execution_count": 112
        }
      ]
    },
    {
      "cell_type": "markdown",
      "metadata": {
        "id": "IiNUkcjHOLzW"
      },
      "source": [
        "Qual a acurácia da rede MLP no conjunto de teste?\r\n"
      ]
    },
    {
      "cell_type": "code",
      "metadata": {
        "colab": {
          "base_uri": "https://localhost:8080/"
        },
        "id": "qhOc6xPWOLTC",
        "outputId": "86378953-f121-40b8-e3d7-4b97abe91a2d"
      },
      "source": [
        "mlp.fit(xtrain,ytrain)\r\n",
        "previsoes = mlp.predict(xtest)\r\n",
        "accuracy_score(ytest, previsoes)"
      ],
      "execution_count": 114,
      "outputs": [
        {
          "output_type": "execute_result",
          "data": {
            "text/plain": [
              "1.0"
            ]
          },
          "metadata": {
            "tags": []
          },
          "execution_count": 114
        }
      ]
    }
  ]
}