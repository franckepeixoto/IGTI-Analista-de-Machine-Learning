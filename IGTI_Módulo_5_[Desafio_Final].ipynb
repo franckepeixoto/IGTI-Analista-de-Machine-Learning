{
  "nbformat": 4,
  "nbformat_minor": 0,
  "metadata": {
    "colab": {
      "name": "IGTI - Módulo 5 [Desafio Final]",
      "provenance": [],
      "authorship_tag": "ABX9TyPlecx9R3eWtFYjt9O7kFgG",
      "include_colab_link": true
    },
    "kernelspec": {
      "name": "python3",
      "display_name": "Python 3"
    }
  },
  "cells": [
    {
      "cell_type": "markdown",
      "metadata": {
        "id": "view-in-github",
        "colab_type": "text"
      },
      "source": [
        "<a href=\"https://colab.research.google.com/github/franckepeixoto/IGTI-Analista-de-Machine-Learning/blob/main/IGTI_M%C3%B3dulo_5_%5BDesafio_Final%5D.ipynb\" target=\"_parent\"><img src=\"https://colab.research.google.com/assets/colab-badge.svg\" alt=\"Open In Colab\"/></a>"
      ]
    },
    {
      "cell_type": "markdown",
      "metadata": {
        "id": "PEVw5_UT68qz"
      },
      "source": [
        "#### **Enunciado**\r\n",
        "Neste desafio final, vamos empregar boa parte dos conceitos mostrados no decorrer de\r\n",
        "todos os módulos do **Bootcamp** para a análise e a classificação de veículos do conhecido\r\n",
        "dataset **“cars”**. \r\n",
        "\r\n",
        "> Esse dataset contém um conjunto de informações sobre vários veículos\r\n",
        "pesquisados. \r\n",
        "\r\n",
        ">Existem dados, por exemplo, sobre a potência do veículo, sobre a origem e\r\n",
        "cilindradas cúbicas. \r\n",
        "\r\n",
        "____\r\n",
        "Para essa análise, vamos empregar os conceitos de redução da dimensionalidade com o **PCA**, clusterização com o **K-Means** e **Classificações** com algoritmos supervisionados."
      ]
    },
    {
      "cell_type": "markdown",
      "metadata": {
        "id": "XYR3KdiN_pwa"
      },
      "source": [
        "1. Acessar o link abaixo e realizar o download do arquivo **cars.csv**."
      ]
    },
    {
      "cell_type": "code",
      "metadata": {
        "colab": {
          "base_uri": "https://localhost:8080/",
          "height": 204
        },
        "id": "jPVgT3TI61rL",
        "outputId": "9ba7ad80-0467-41bc-a4e5-7cb1911108ca"
      },
      "source": [
        "import numpy as np\r\n",
        "import pandas as pd\r\n",
        "import requests\r\n",
        "def transpose(d):\r\n",
        "  return pd.DataFrame(d).transpose()\r\n",
        "url ='https://drive.google.com/uc?export=download&id=1Gjumb68_WrOOJr-7YUKH3yFk6rNJrHH2'\r\n",
        "cars = pd.read_csv(url)\r\n",
        "cars_original = cars.copy()\r\n",
        "cars.describe().T"
      ],
      "execution_count": 164,
      "outputs": [
        {
          "output_type": "execute_result",
          "data": {
            "text/html": [
              "<div>\n",
              "<style scoped>\n",
              "    .dataframe tbody tr th:only-of-type {\n",
              "        vertical-align: middle;\n",
              "    }\n",
              "\n",
              "    .dataframe tbody tr th {\n",
              "        vertical-align: top;\n",
              "    }\n",
              "\n",
              "    .dataframe thead th {\n",
              "        text-align: right;\n",
              "    }\n",
              "</style>\n",
              "<table border=\"1\" class=\"dataframe\">\n",
              "  <thead>\n",
              "    <tr style=\"text-align: right;\">\n",
              "      <th></th>\n",
              "      <th>count</th>\n",
              "      <th>mean</th>\n",
              "      <th>std</th>\n",
              "      <th>min</th>\n",
              "      <th>25%</th>\n",
              "      <th>50%</th>\n",
              "      <th>75%</th>\n",
              "      <th>max</th>\n",
              "    </tr>\n",
              "  </thead>\n",
              "  <tbody>\n",
              "    <tr>\n",
              "      <th>mpg</th>\n",
              "      <td>261.0</td>\n",
              "      <td>23.144828</td>\n",
              "      <td>7.823570</td>\n",
              "      <td>10.0</td>\n",
              "      <td>16.9</td>\n",
              "      <td>22.0</td>\n",
              "      <td>28.8</td>\n",
              "      <td>46.6</td>\n",
              "    </tr>\n",
              "    <tr>\n",
              "      <th>cylinders</th>\n",
              "      <td>261.0</td>\n",
              "      <td>5.590038</td>\n",
              "      <td>1.733310</td>\n",
              "      <td>3.0</td>\n",
              "      <td>4.0</td>\n",
              "      <td>6.0</td>\n",
              "      <td>8.0</td>\n",
              "      <td>8.0</td>\n",
              "    </tr>\n",
              "    <tr>\n",
              "      <th>hp</th>\n",
              "      <td>261.0</td>\n",
              "      <td>106.360153</td>\n",
              "      <td>40.499959</td>\n",
              "      <td>46.0</td>\n",
              "      <td>75.0</td>\n",
              "      <td>95.0</td>\n",
              "      <td>138.0</td>\n",
              "      <td>230.0</td>\n",
              "    </tr>\n",
              "    <tr>\n",
              "      <th>time-to-60</th>\n",
              "      <td>261.0</td>\n",
              "      <td>15.547893</td>\n",
              "      <td>2.910625</td>\n",
              "      <td>8.0</td>\n",
              "      <td>14.0</td>\n",
              "      <td>16.0</td>\n",
              "      <td>17.0</td>\n",
              "      <td>25.0</td>\n",
              "    </tr>\n",
              "    <tr>\n",
              "      <th>year</th>\n",
              "      <td>261.0</td>\n",
              "      <td>1976.819923</td>\n",
              "      <td>3.637696</td>\n",
              "      <td>1971.0</td>\n",
              "      <td>1974.0</td>\n",
              "      <td>1977.0</td>\n",
              "      <td>1980.0</td>\n",
              "      <td>1983.0</td>\n",
              "    </tr>\n",
              "  </tbody>\n",
              "</table>\n",
              "</div>"
            ],
            "text/plain": [
              "            count         mean        std  ...     50%     75%     max\n",
              "mpg         261.0    23.144828   7.823570  ...    22.0    28.8    46.6\n",
              "cylinders   261.0     5.590038   1.733310  ...     6.0     8.0     8.0\n",
              "hp          261.0   106.360153  40.499959  ...    95.0   138.0   230.0\n",
              "time-to-60  261.0    15.547893   2.910625  ...    16.0    17.0    25.0\n",
              "year        261.0  1976.819923   3.637696  ...  1977.0  1980.0  1983.0\n",
              "\n",
              "[5 rows x 8 columns]"
            ]
          },
          "metadata": {
            "tags": []
          },
          "execution_count": 164
        }
      ]
    },
    {
      "cell_type": "code",
      "metadata": {
        "colab": {
          "base_uri": "https://localhost:8080/"
        },
        "id": "Tq0WE9oz_CGj",
        "outputId": "bc356a50-3e3c-4632-ff9a-46801d275e22"
      },
      "source": [
        "cars.info()"
      ],
      "execution_count": 165,
      "outputs": [
        {
          "output_type": "stream",
          "text": [
            "<class 'pandas.core.frame.DataFrame'>\n",
            "RangeIndex: 261 entries, 0 to 260\n",
            "Data columns (total 8 columns):\n",
            " #   Column       Non-Null Count  Dtype  \n",
            "---  ------       --------------  -----  \n",
            " 0   mpg          261 non-null    float64\n",
            " 1   cylinders    261 non-null    int64  \n",
            " 2   cubicinches  261 non-null    object \n",
            " 3   hp           261 non-null    int64  \n",
            " 4   weightlbs    261 non-null    object \n",
            " 5   time-to-60   261 non-null    int64  \n",
            " 6   year         261 non-null    int64  \n",
            " 7   brand        261 non-null    object \n",
            "dtypes: float64(1), int64(4), object(3)\n",
            "memory usage: 16.4+ KB\n"
          ],
          "name": "stdout"
        }
      ]
    },
    {
      "cell_type": "code",
      "metadata": {
        "colab": {
          "base_uri": "https://localhost:8080/",
          "height": 142
        },
        "id": "550ePCh0A-sN",
        "outputId": "8ee0f0c3-26cc-438c-ebf3-7bb2d936277b"
      },
      "source": [
        "cars.tail(3)"
      ],
      "execution_count": 166,
      "outputs": [
        {
          "output_type": "execute_result",
          "data": {
            "text/html": [
              "<div>\n",
              "<style scoped>\n",
              "    .dataframe tbody tr th:only-of-type {\n",
              "        vertical-align: middle;\n",
              "    }\n",
              "\n",
              "    .dataframe tbody tr th {\n",
              "        vertical-align: top;\n",
              "    }\n",
              "\n",
              "    .dataframe thead th {\n",
              "        text-align: right;\n",
              "    }\n",
              "</style>\n",
              "<table border=\"1\" class=\"dataframe\">\n",
              "  <thead>\n",
              "    <tr style=\"text-align: right;\">\n",
              "      <th></th>\n",
              "      <th>mpg</th>\n",
              "      <th>cylinders</th>\n",
              "      <th>cubicinches</th>\n",
              "      <th>hp</th>\n",
              "      <th>weightlbs</th>\n",
              "      <th>time-to-60</th>\n",
              "      <th>year</th>\n",
              "      <th>brand</th>\n",
              "    </tr>\n",
              "  </thead>\n",
              "  <tbody>\n",
              "    <tr>\n",
              "      <th>258</th>\n",
              "      <td>22.0</td>\n",
              "      <td>6</td>\n",
              "      <td>232</td>\n",
              "      <td>112</td>\n",
              "      <td>2835</td>\n",
              "      <td>15</td>\n",
              "      <td>1983</td>\n",
              "      <td>US.</td>\n",
              "    </tr>\n",
              "    <tr>\n",
              "      <th>259</th>\n",
              "      <td>18.0</td>\n",
              "      <td>6</td>\n",
              "      <td>232</td>\n",
              "      <td>100</td>\n",
              "      <td>3288</td>\n",
              "      <td>16</td>\n",
              "      <td>1972</td>\n",
              "      <td>US.</td>\n",
              "    </tr>\n",
              "    <tr>\n",
              "      <th>260</th>\n",
              "      <td>22.0</td>\n",
              "      <td>6</td>\n",
              "      <td>250</td>\n",
              "      <td>105</td>\n",
              "      <td>3353</td>\n",
              "      <td>15</td>\n",
              "      <td>1977</td>\n",
              "      <td>US.</td>\n",
              "    </tr>\n",
              "  </tbody>\n",
              "</table>\n",
              "</div>"
            ],
            "text/plain": [
              "      mpg  cylinders cubicinches   hp weightlbs  time-to-60  year brand\n",
              "258  22.0          6         232  112      2835          15  1983   US.\n",
              "259  18.0          6         232  100      3288          16  1972   US.\n",
              "260  22.0          6         250  105      3353          15  1977   US."
            ]
          },
          "metadata": {
            "tags": []
          },
          "execution_count": 166
        }
      ]
    },
    {
      "cell_type": "markdown",
      "metadata": {
        "id": "9wthJu-e_vfy"
      },
      "source": [
        "2. Para a implementação dos algoritmos, utilizear as definições abaixo:"
      ]
    },
    {
      "cell_type": "code",
      "metadata": {
        "id": "dyE0JQxp_RfS"
      },
      "source": [
        "from sklearn.preprocessing import StandardScaler\r\n",
        "from sklearn.decomposition import PCA\r\n",
        "from sklearn.cluster import KMeans\r\n",
        "from sklearn.model_selection import train_test_split\r\n",
        "from sklearn.tree import DecisionTreeClassifier\r\n",
        "from sklearn.linear_model import LogisticRegression\r\n",
        "\r\n",
        "random_state = 42\r\n",
        "\r\n",
        "scaler = StandardScaler()\r\n",
        "pca = PCA(n_components=7)\r\n",
        "kmeans = KMeans(n_clusters=3,random_state=random_state)\r\n",
        "dtc = DecisionTreeClassifier(random_state=random_state)\r\n",
        "lr = LogisticRegression(random_state=random_state) \r\n",
        "\r\n"
      ],
      "execution_count": 167,
      "outputs": []
    },
    {
      "cell_type": "markdown",
      "metadata": {
        "id": "SXBsGCNVDQXP"
      },
      "source": [
        "3. Para as questões que envolvem a construção de modelos supervisionados, você\r\n",
        "deve utilizar o dataset original para definir a eficiência dos veículos.\r\n",
        "\r\n",
        " Além disso, deveutilizar as variáveis:  **['cylinders' ,'cubicinches' ,'hp' ,'weightlbs' ,'timeto-60']** como entrada. \r\n",
        " \r\n",
        " A saída deve ser a classificação de eficiência do veículo.\r\n",
        " "
      ]
    },
    {
      "cell_type": "code",
      "metadata": {
        "id": "ajjyO84OHfcs"
      },
      "source": [
        "#cars = cars[['cylinders' ,'cubicinches' ,'hp' ,'weightlbs' ,'time-to-60']]"
      ],
      "execution_count": 168,
      "outputs": []
    },
    {
      "cell_type": "markdown",
      "metadata": {
        "id": "Jff0HlWOD6Tr"
      },
      "source": [
        "1 .Após a utilização da biblioteca pandas para a leitura dos dados sobre os valores lidos, é CORRETO afirmar que:"
      ]
    },
    {
      "cell_type": "code",
      "metadata": {
        "colab": {
          "base_uri": "https://localhost:8080/",
          "height": 80
        },
        "id": "DJBou0-Y79ra",
        "outputId": "8ff2bba0-95a6-4ebd-ff58-baee270a3d43"
      },
      "source": [
        "transpose(cars.isna().sum())"
      ],
      "execution_count": 169,
      "outputs": [
        {
          "output_type": "execute_result",
          "data": {
            "text/html": [
              "<div>\n",
              "<style scoped>\n",
              "    .dataframe tbody tr th:only-of-type {\n",
              "        vertical-align: middle;\n",
              "    }\n",
              "\n",
              "    .dataframe tbody tr th {\n",
              "        vertical-align: top;\n",
              "    }\n",
              "\n",
              "    .dataframe thead th {\n",
              "        text-align: right;\n",
              "    }\n",
              "</style>\n",
              "<table border=\"1\" class=\"dataframe\">\n",
              "  <thead>\n",
              "    <tr style=\"text-align: right;\">\n",
              "      <th></th>\n",
              "      <th>mpg</th>\n",
              "      <th>cylinders</th>\n",
              "      <th>cubicinches</th>\n",
              "      <th>hp</th>\n",
              "      <th>weightlbs</th>\n",
              "      <th>time-to-60</th>\n",
              "      <th>year</th>\n",
              "      <th>brand</th>\n",
              "    </tr>\n",
              "  </thead>\n",
              "  <tbody>\n",
              "    <tr>\n",
              "      <th>0</th>\n",
              "      <td>0</td>\n",
              "      <td>0</td>\n",
              "      <td>0</td>\n",
              "      <td>0</td>\n",
              "      <td>0</td>\n",
              "      <td>0</td>\n",
              "      <td>0</td>\n",
              "      <td>0</td>\n",
              "    </tr>\n",
              "  </tbody>\n",
              "</table>\n",
              "</div>"
            ],
            "text/plain": [
              "   mpg  cylinders  cubicinches  hp  weightlbs  time-to-60  year  brand\n",
              "0    0          0            0   0          0           0     0      0"
            ]
          },
          "metadata": {
            "tags": []
          },
          "execution_count": 169
        }
      ]
    },
    {
      "cell_type": "code",
      "metadata": {
        "colab": {
          "base_uri": "https://localhost:8080/",
          "height": 80
        },
        "id": "Sh5V6-m5Eric",
        "outputId": "b8a8cde8-26af-4dff-81a4-6daf2530f5ac"
      },
      "source": [
        "transpose(cars.dtypes)"
      ],
      "execution_count": 170,
      "outputs": [
        {
          "output_type": "execute_result",
          "data": {
            "text/html": [
              "<div>\n",
              "<style scoped>\n",
              "    .dataframe tbody tr th:only-of-type {\n",
              "        vertical-align: middle;\n",
              "    }\n",
              "\n",
              "    .dataframe tbody tr th {\n",
              "        vertical-align: top;\n",
              "    }\n",
              "\n",
              "    .dataframe thead th {\n",
              "        text-align: right;\n",
              "    }\n",
              "</style>\n",
              "<table border=\"1\" class=\"dataframe\">\n",
              "  <thead>\n",
              "    <tr style=\"text-align: right;\">\n",
              "      <th></th>\n",
              "      <th>mpg</th>\n",
              "      <th>cylinders</th>\n",
              "      <th>cubicinches</th>\n",
              "      <th>hp</th>\n",
              "      <th>weightlbs</th>\n",
              "      <th>time-to-60</th>\n",
              "      <th>year</th>\n",
              "      <th>brand</th>\n",
              "    </tr>\n",
              "  </thead>\n",
              "  <tbody>\n",
              "    <tr>\n",
              "      <th>0</th>\n",
              "      <td>float64</td>\n",
              "      <td>int64</td>\n",
              "      <td>object</td>\n",
              "      <td>int64</td>\n",
              "      <td>object</td>\n",
              "      <td>int64</td>\n",
              "      <td>int64</td>\n",
              "      <td>object</td>\n",
              "    </tr>\n",
              "  </tbody>\n",
              "</table>\n",
              "</div>"
            ],
            "text/plain": [
              "       mpg cylinders cubicinches     hp weightlbs time-to-60   year   brand\n",
              "0  float64     int64      object  int64    object      int64  int64  object"
            ]
          },
          "metadata": {
            "tags": []
          },
          "execution_count": 170
        }
      ]
    },
    {
      "cell_type": "markdown",
      "metadata": {
        "id": "ukUfafZgE3I7"
      },
      "source": [
        "2. Realize a transformação das colunas **“cubicinches”** e “weightlbs” do tipo **“string”** para o tipo numérico utilizando o **pd.to_numeric()**, utilizando o parâmetro  errors='coerce'. Após essa transformação, é CORRETO afirmar:"
      ]
    },
    {
      "cell_type": "code",
      "metadata": {
        "colab": {
          "base_uri": "https://localhost:8080/",
          "height": 80
        },
        "id": "dZ0V6JjCE8y7",
        "outputId": "ca8036a7-f62a-4488-e8ca-e29c9bd2bbf0"
      },
      "source": [
        "cars.cubicinches =  pd.to_numeric(cars.cubicinches,errors='coerce')\r\n",
        "transpose(cars.isna().sum())"
      ],
      "execution_count": 171,
      "outputs": [
        {
          "output_type": "execute_result",
          "data": {
            "text/html": [
              "<div>\n",
              "<style scoped>\n",
              "    .dataframe tbody tr th:only-of-type {\n",
              "        vertical-align: middle;\n",
              "    }\n",
              "\n",
              "    .dataframe tbody tr th {\n",
              "        vertical-align: top;\n",
              "    }\n",
              "\n",
              "    .dataframe thead th {\n",
              "        text-align: right;\n",
              "    }\n",
              "</style>\n",
              "<table border=\"1\" class=\"dataframe\">\n",
              "  <thead>\n",
              "    <tr style=\"text-align: right;\">\n",
              "      <th></th>\n",
              "      <th>mpg</th>\n",
              "      <th>cylinders</th>\n",
              "      <th>cubicinches</th>\n",
              "      <th>hp</th>\n",
              "      <th>weightlbs</th>\n",
              "      <th>time-to-60</th>\n",
              "      <th>year</th>\n",
              "      <th>brand</th>\n",
              "    </tr>\n",
              "  </thead>\n",
              "  <tbody>\n",
              "    <tr>\n",
              "      <th>0</th>\n",
              "      <td>0</td>\n",
              "      <td>0</td>\n",
              "      <td>2</td>\n",
              "      <td>0</td>\n",
              "      <td>0</td>\n",
              "      <td>0</td>\n",
              "      <td>0</td>\n",
              "      <td>0</td>\n",
              "    </tr>\n",
              "  </tbody>\n",
              "</table>\n",
              "</div>"
            ],
            "text/plain": [
              "   mpg  cylinders  cubicinches  hp  weightlbs  time-to-60  year  brand\n",
              "0    0          0            2   0          0           0     0      0"
            ]
          },
          "metadata": {
            "tags": []
          },
          "execution_count": 171
        }
      ]
    },
    {
      "cell_type": "markdown",
      "metadata": {
        "id": "xaTDPoutFrUd"
      },
      "source": [
        "3. Indique quais eram os índices dos valores presentes no dataset que **“forçaram”** o pandas a compreender a variável **“cubicinches”** como string."
      ]
    },
    {
      "cell_type": "code",
      "metadata": {
        "colab": {
          "base_uri": "https://localhost:8080/"
        },
        "id": "e1cHYqwrFPdJ",
        "outputId": "f580890f-5f88-444e-cdb9-06b30f33413c"
      },
      "source": [
        "#coerce =  Análise inválida será definida como NaN.\r\n",
        "cars_original[cars_original.cubicinches==' '].index"
      ],
      "execution_count": 172,
      "outputs": [
        {
          "output_type": "execute_result",
          "data": {
            "text/plain": [
              "Int64Index([40, 180], dtype='int64')"
            ]
          },
          "metadata": {
            "tags": []
          },
          "execution_count": 172
        }
      ]
    },
    {
      "cell_type": "markdown",
      "metadata": {
        "id": "Vz_IafQuHEfF"
      },
      "source": [
        "4. Após a transformação das variáveis “string” para os valores numéricos, quantos valores nulos (células no dataframe) passaram a existir no dataset?"
      ]
    },
    {
      "cell_type": "code",
      "metadata": {
        "colab": {
          "base_uri": "https://localhost:8080/",
          "height": 80
        },
        "id": "5UlPN2EoHF5F",
        "outputId": "4e3ec0f7-3da8-42ab-8fa5-3357c3ab5c3e"
      },
      "source": [
        "cars.weightlbs =  pd.to_numeric(cars.weightlbs,errors='coerce')\r\n",
        "\r\n",
        "transpose(cars.isna().sum())"
      ],
      "execution_count": 173,
      "outputs": [
        {
          "output_type": "execute_result",
          "data": {
            "text/html": [
              "<div>\n",
              "<style scoped>\n",
              "    .dataframe tbody tr th:only-of-type {\n",
              "        vertical-align: middle;\n",
              "    }\n",
              "\n",
              "    .dataframe tbody tr th {\n",
              "        vertical-align: top;\n",
              "    }\n",
              "\n",
              "    .dataframe thead th {\n",
              "        text-align: right;\n",
              "    }\n",
              "</style>\n",
              "<table border=\"1\" class=\"dataframe\">\n",
              "  <thead>\n",
              "    <tr style=\"text-align: right;\">\n",
              "      <th></th>\n",
              "      <th>mpg</th>\n",
              "      <th>cylinders</th>\n",
              "      <th>cubicinches</th>\n",
              "      <th>hp</th>\n",
              "      <th>weightlbs</th>\n",
              "      <th>time-to-60</th>\n",
              "      <th>year</th>\n",
              "      <th>brand</th>\n",
              "    </tr>\n",
              "  </thead>\n",
              "  <tbody>\n",
              "    <tr>\n",
              "      <th>0</th>\n",
              "      <td>0</td>\n",
              "      <td>0</td>\n",
              "      <td>2</td>\n",
              "      <td>0</td>\n",
              "      <td>3</td>\n",
              "      <td>0</td>\n",
              "      <td>0</td>\n",
              "      <td>0</td>\n",
              "    </tr>\n",
              "  </tbody>\n",
              "</table>\n",
              "</div>"
            ],
            "text/plain": [
              "   mpg  cylinders  cubicinches  hp  weightlbs  time-to-60  year  brand\n",
              "0    0          0            2   0          3           0     0      0"
            ]
          },
          "metadata": {
            "tags": []
          },
          "execution_count": 173
        }
      ]
    },
    {
      "cell_type": "markdown",
      "metadata": {
        "id": "MHhuHC7vHosk"
      },
      "source": [
        "5. Substitua os valores nulos introduzidos no dataset após a transformação pelo valor médio das colunas.  Qual é o novo valor médio da coluna **“weightlbs”**?"
      ]
    },
    {
      "cell_type": "code",
      "metadata": {
        "colab": {
          "base_uri": "https://localhost:8080/"
        },
        "id": "1bJEUAtMHGiU",
        "outputId": "cae60c7b-589c-49c7-9af2-a6f96b3403f1"
      },
      "source": [
        "cars.loc[cars.cubicinches.isna(),'cubicinches'] =  cars.cubicinches.mean()\r\n",
        "cars.loc[cars.weightlbs.isna(),'weightlbs'] =  cars.weightlbs.mean()\r\n",
        "\r\n",
        "cars.weightlbs.mean()"
      ],
      "execution_count": 174,
      "outputs": [
        {
          "output_type": "execute_result",
          "data": {
            "text/plain": [
              "3009.8333333333335"
            ]
          },
          "metadata": {
            "tags": []
          },
          "execution_count": 174
        }
      ]
    },
    {
      "cell_type": "markdown",
      "metadata": {
        "id": "RN4IzANOI_9m"
      },
      "source": [
        "6. Após substituir os valores nulos pela média das colunas, selecione as colunas **['mpg', 'cylinders', 'cubicinches', 'hp', 'weightlbs', 'time-to-60', 'year']**. Qual é o valor da mediana para a característica 'mpg'?"
      ]
    },
    {
      "cell_type": "code",
      "metadata": {
        "colab": {
          "base_uri": "https://localhost:8080/"
        },
        "id": "wWfSxf6AJRQt",
        "outputId": "2fe1f82b-34d5-48bd-f344-b68ebafd17b9"
      },
      "source": [
        "cars.mpg.median()"
      ],
      "execution_count": 175,
      "outputs": [
        {
          "output_type": "execute_result",
          "data": {
            "text/plain": [
              "22.0"
            ]
          },
          "metadata": {
            "tags": []
          },
          "execution_count": 175
        }
      ]
    },
    {
      "cell_type": "markdown",
      "metadata": {
        "id": "q39pOMJjJYO9"
      },
      "source": [
        "7. Qual é a afirmação CORRETA sobre o valor de 14,00 para a variável “time-to-60”?"
      ]
    },
    {
      "cell_type": "code",
      "metadata": {
        "colab": {
          "base_uri": "https://localhost:8080/",
          "height": 80
        },
        "id": "7QeRibUbJaJ9",
        "outputId": "fd9af0b3-4164-4159-fcf1-13e0daf8f62b"
      },
      "source": [
        "transpose(cars['time-to-60'].describe())\r\n"
      ],
      "execution_count": 176,
      "outputs": [
        {
          "output_type": "execute_result",
          "data": {
            "text/html": [
              "<div>\n",
              "<style scoped>\n",
              "    .dataframe tbody tr th:only-of-type {\n",
              "        vertical-align: middle;\n",
              "    }\n",
              "\n",
              "    .dataframe tbody tr th {\n",
              "        vertical-align: top;\n",
              "    }\n",
              "\n",
              "    .dataframe thead th {\n",
              "        text-align: right;\n",
              "    }\n",
              "</style>\n",
              "<table border=\"1\" class=\"dataframe\">\n",
              "  <thead>\n",
              "    <tr style=\"text-align: right;\">\n",
              "      <th></th>\n",
              "      <th>count</th>\n",
              "      <th>mean</th>\n",
              "      <th>std</th>\n",
              "      <th>min</th>\n",
              "      <th>25%</th>\n",
              "      <th>50%</th>\n",
              "      <th>75%</th>\n",
              "      <th>max</th>\n",
              "    </tr>\n",
              "  </thead>\n",
              "  <tbody>\n",
              "    <tr>\n",
              "      <th>time-to-60</th>\n",
              "      <td>261.0</td>\n",
              "      <td>15.547893</td>\n",
              "      <td>2.910625</td>\n",
              "      <td>8.0</td>\n",
              "      <td>14.0</td>\n",
              "      <td>16.0</td>\n",
              "      <td>17.0</td>\n",
              "      <td>25.0</td>\n",
              "    </tr>\n",
              "  </tbody>\n",
              "</table>\n",
              "</div>"
            ],
            "text/plain": [
              "            count       mean       std  min   25%   50%   75%   max\n",
              "time-to-60  261.0  15.547893  2.910625  8.0  14.0  16.0  17.0  25.0"
            ]
          },
          "metadata": {
            "tags": []
          },
          "execution_count": 176
        }
      ]
    },
    {
      "cell_type": "markdown",
      "metadata": {
        "id": "-pbQ0-PRKTA9"
      },
      "source": [
        "8. Sobre o coeficiente de correlação de Pearson entre as variáveis “cylinders” e “mpg”, é correto afirmar, EXCETO:"
      ]
    },
    {
      "cell_type": "code",
      "metadata": {
        "colab": {
          "base_uri": "https://localhost:8080/",
          "height": 111
        },
        "id": "zam2x763KWjd",
        "outputId": "f76de27d-2fa9-4071-e6db-8379435e61eb"
      },
      "source": [
        "cars[['cylinders','mpg']].corr()"
      ],
      "execution_count": 177,
      "outputs": [
        {
          "output_type": "execute_result",
          "data": {
            "text/html": [
              "<div>\n",
              "<style scoped>\n",
              "    .dataframe tbody tr th:only-of-type {\n",
              "        vertical-align: middle;\n",
              "    }\n",
              "\n",
              "    .dataframe tbody tr th {\n",
              "        vertical-align: top;\n",
              "    }\n",
              "\n",
              "    .dataframe thead th {\n",
              "        text-align: right;\n",
              "    }\n",
              "</style>\n",
              "<table border=\"1\" class=\"dataframe\">\n",
              "  <thead>\n",
              "    <tr style=\"text-align: right;\">\n",
              "      <th></th>\n",
              "      <th>cylinders</th>\n",
              "      <th>mpg</th>\n",
              "    </tr>\n",
              "  </thead>\n",
              "  <tbody>\n",
              "    <tr>\n",
              "      <th>cylinders</th>\n",
              "      <td>1.00000</td>\n",
              "      <td>-0.77671</td>\n",
              "    </tr>\n",
              "    <tr>\n",
              "      <th>mpg</th>\n",
              "      <td>-0.77671</td>\n",
              "      <td>1.00000</td>\n",
              "    </tr>\n",
              "  </tbody>\n",
              "</table>\n",
              "</div>"
            ],
            "text/plain": [
              "           cylinders      mpg\n",
              "cylinders    1.00000 -0.77671\n",
              "mpg         -0.77671  1.00000"
            ]
          },
          "metadata": {
            "tags": []
          },
          "execution_count": 177
        }
      ]
    },
    {
      "cell_type": "markdown",
      "metadata": {
        "id": "6gSrYy-7K3N_"
      },
      "source": [
        "9. Sobre o boxplot da variável “hp”, é correto afirmar, EXCETO:\r\n",
        "Grupo de escolhas da pergunta\r\n"
      ]
    },
    {
      "cell_type": "code",
      "metadata": {
        "colab": {
          "base_uri": "https://localhost:8080/",
          "height": 282
        },
        "id": "ud12y8brK4ru",
        "outputId": "a45fb816-9dea-4de1-f68c-1637a282a3b7"
      },
      "source": [
        "cars.hp.plot.box()"
      ],
      "execution_count": 178,
      "outputs": [
        {
          "output_type": "execute_result",
          "data": {
            "text/plain": [
              "<matplotlib.axes._subplots.AxesSubplot at 0x7f48a37568d0>"
            ]
          },
          "metadata": {
            "tags": []
          },
          "execution_count": 178
        },
        {
          "output_type": "display_data",
          "data": {
            "image/png": "[encoded data removed]",
            "text/plain": [
              "<Figure size 432x288 with 1 Axes>"
            ]
          },
          "metadata": {
            "tags": [],
            "needs_background": "light"
          }
        }
      ]
    },
    {
      "cell_type": "markdown",
      "metadata": {
        "id": "6TqknrXgLYSN"
      },
      "source": [
        "10. Após normalizado, utilizando a função StandardScaler(), qual é o maior valor para a variável “hp”?"
      ]
    },
    {
      "cell_type": "code",
      "metadata": {
        "colab": {
          "base_uri": "https://localhost:8080/"
        },
        "id": "oUFTxzUkLbP2",
        "outputId": "67c11c06-e8e2-45c6-cd22-654c051d62a3"
      },
      "source": [
        "print('Antes:\\t',cars.hp.max())\r\n",
        "cars.hp = scaler.fit_transform(cars.hp.values.reshape(-1,1))\r\n",
        "print('Depois:\\t',cars.hp.max())"
      ],
      "execution_count": 179,
      "outputs": [
        {
          "output_type": "stream",
          "text": [
            "Antes:\t 230\n",
            "Depois:\t 3.05870398977614\n"
          ],
          "name": "stdout"
        }
      ]
    },
    {
      "cell_type": "markdown",
      "metadata": {
        "id": "RcTBIEpKMpmf"
      },
      "source": [
        "11. Aplicando o PCA, conforme a definição acima, qual é o valor da variância explicada com pela primeira componente principal?"
      ]
    },
    {
      "cell_type": "code",
      "metadata": {
        "colab": {
          "base_uri": "https://localhost:8080/"
        },
        "id": "-7LPoUMRMpRX",
        "outputId": "2695f88e-571b-4f03-a5eb-71bf8692ff99"
      },
      "source": [
        "pca.fit(cars[cars.columns[:-1]])\r\n",
        "pca.explained_variance_\r\n",
        "pca.components_"
      ],
      "execution_count": 180,
      "outputs": [
        {
          "output_type": "execute_result",
          "data": {
            "text/plain": [
              "array([[-7.54290397e-03,  1.81683306e-03,  1.18045838e-01,\n",
              "         1.00629347e-03,  9.92975269e-01, -1.63313644e-03,\n",
              "        -1.19153729e-03],\n",
              "       [-1.96355544e-02,  1.35560601e-02,  9.91942502e-01,\n",
              "         7.19468026e-03, -1.18182122e-01, -3.15535453e-02,\n",
              "        -2.15950892e-02],\n",
              "       [ 8.36629255e-01, -1.31787086e-03,  3.16138097e-02,\n",
              "        -1.77279432e-02,  3.40719256e-03,  8.64910315e-02,\n",
              "         5.39670022e-01],\n",
              "       [-5.22848327e-01,  1.29868904e-02,  2.06788708e-03,\n",
              "         4.55282298e-03, -3.50915446e-03, -1.62481900e-01,\n",
              "         8.36673940e-01],\n",
              "       [-1.61776932e-01, -1.85589127e-03,  3.02877827e-02,\n",
              "        -1.20905261e-01, -2.99365701e-03,  9.74879806e-01,\n",
              "         8.88242682e-02],\n",
              "       [-8.14832542e-03, -9.82250976e-01,  1.27806847e-02,\n",
              "         1.85634032e-01,  7.30148101e-05,  1.82502615e-02,\n",
              "         1.26573238e-02],\n",
              "       [-7.03686992e-04,  1.86606838e-01, -5.55415524e-03,\n",
              "         9.74953404e-01, -4.59576621e-04,  1.19987220e-01,\n",
              "         1.46717486e-02]])"
            ]
          },
          "metadata": {
            "tags": []
          },
          "execution_count": 180
        }
      ]
    },
    {
      "cell_type": "markdown",
      "metadata": {
        "id": "evgMiDX3Po4P"
      },
      "source": [
        "12. Utilize os três primeiros componentes principais para construir o K-means com um número de 3 clusters. Sobre os clusters, é INCORRETO afirmar que:"
      ]
    },
    {
      "cell_type": "code",
      "metadata": {
        "colab": {
          "base_uri": "https://localhost:8080/"
        },
        "id": "VvTrQ-snPqwR",
        "outputId": "6911b8f5-03a9-403f-845a-a713d02c07b6"
      },
      "source": [
        "k = kmeans.fit(pca.components_[:3])\r\n",
        "k.cluster_centers_"
      ],
      "execution_count": 182,
      "outputs": [
        {
          "output_type": "execute_result",
          "data": {
            "text/plain": [
              "array([[-0.01963555,  0.01355606,  0.9919425 ,  0.00719468, -0.11818212,\n",
              "        -0.03155355, -0.02159509],\n",
              "       [-0.0075429 ,  0.00181683,  0.11804584,  0.00100629,  0.99297527,\n",
              "        -0.00163314, -0.00119154],\n",
              "       [ 0.83662926, -0.00131787,  0.03161381, -0.01772794,  0.00340719,\n",
              "         0.08649103,  0.53967002]])"
            ]
          },
          "metadata": {
            "tags": []
          },
          "execution_count": 182
        }
      ]
    },
    {
      "cell_type": "markdown",
      "metadata": {
        "id": "h3PcggVFRGCH"
      },
      "source": [
        "13. Após todo o processamento realizado nos itens anteriores, crie uma coluna que contenha a variável de eficiência do veículo. Veículos que percorrem mais de 25 milhas com um galão (“mpg”>25) devem ser considerados eficientes. Utilize as colunas ['cylinders' ,'cubicinches'            ,'hp' ,'weightlbs','time-to-60'] como entradas e como saída a coluna de eficiência criada.\r\n",
        "\r\n",
        "Utilizando a árvore de decisão como mostrado, qual é a acurácia do modelo?"
      ]
    },
    {
      "cell_type": "code",
      "metadata": {
        "id": "6UlBD7ezRJ0n"
      },
      "source": [
        "cars['eficientes'] = 0\r\n",
        "cars.loc[cars.mpg>25,'eficientes']=1\r\n",
        "x = cars[['cylinders' ,'cubicinches' ,'hp' ,'weightlbs','time-to-60']]\r\n",
        "x = scaler.transform(x)\r\n",
        "y =  cars['eficientes']\r\n",
        "xtrain, xtest, ytrain, ytest = train_test_split(x, y, test_size=0.3,random_state=random_state)"
      ],
      "execution_count": 200,
      "outputs": []
    },
    {
      "cell_type": "code",
      "metadata": {
        "colab": {
          "base_uri": "https://localhost:8080/"
        },
        "id": "75JAzbfmSBbQ",
        "outputId": "69b3cea4-c8b2-4519-f687-5b11ee3c43cc"
      },
      "source": [
        "from sklearn.metrics import accuracy_score\r\n",
        "dtc = DecisionTreeClassifier(random_state=random_state)\r\n",
        "dtc = dtc.fit(xtrain,ytrain)\r\n",
        "predicts  = dtc.predict(xtest)\r\n",
        "accuracy_score(ytest,predicts)"
      ],
      "execution_count": 201,
      "outputs": [
        {
          "output_type": "execute_result",
          "data": {
            "text/plain": [
              "0.8734177215189873"
            ]
          },
          "metadata": {
            "tags": []
          },
          "execution_count": 201
        }
      ]
    },
    {
      "cell_type": "markdown",
      "metadata": {
        "id": "bwdVkhUxTrbx"
      },
      "source": [
        "14. Sobre a matriz de confusão obtida após a aplicação da árvore de decisão, como mostrado anteriormente, é INCORRETO afirmar:"
      ]
    },
    {
      "cell_type": "code",
      "metadata": {
        "colab": {
          "base_uri": "https://localhost:8080/"
        },
        "id": "4d-G3uPLTuFo",
        "outputId": "9b34be3b-20c5-45de-98c2-645ef81f06ff"
      },
      "source": [
        "from sklearn.metrics import confusion_matrix\r\n",
        "verdadeiro_negativo, falso_positivo, falso_negativo, verdadeiro_positivo = confusion_matrix(ytest,predicts).ravel()\r\n",
        "print('verdadeiro_negativo:\\t',verdadeiro_negativo)\r\n",
        "print('falso_positivo:\\t\\t',falso_positivo)\r\n",
        "print('falso_negativo:\\t\\t',falso_negativo)\r\n",
        "print('verdadeiro_positivo:\\t',verdadeiro_positivo)"
      ],
      "execution_count": 202,
      "outputs": [
        {
          "output_type": "stream",
          "text": [
            "verdadeiro_negativo:\t 33\n",
            "falso_positivo:\t\t 8\n",
            "falso_negativo:\t\t 2\n",
            "verdadeiro_positivo:\t 36\n"
          ],
          "name": "stdout"
        }
      ]
    },
    {
      "cell_type": "markdown",
      "metadata": {
        "id": "UylYT-7vVN5j"
      },
      "source": [
        "15. Utilizando a mesma divisão de dados entre treinamento e teste empregada para a análise anterior, aplique o modelo de regressão logística como mostrado na descrição do trabalho.\r\n",
        "\r\n",
        "\r\n",
        "Comparando os resultados obtidos com o modelo de árvore de decisão, é INCORRETO afirmar que:"
      ]
    },
    {
      "cell_type": "code",
      "metadata": {
        "colab": {
          "base_uri": "https://localhost:8080/"
        },
        "id": "PMePhAHVVRIB",
        "outputId": "5f632348-141f-4c13-aa07-69c4adbc3f40"
      },
      "source": [
        "lr = LogisticRegression(random_state=random_state) \r\n",
        "lr = lr.fit(xtrain,ytrain)\r\n",
        "predicts  = lr.predict(xtest)\r\n",
        "accuracy_score(ytest,predicts)"
      ],
      "execution_count": 204,
      "outputs": [
        {
          "output_type": "execute_result",
          "data": {
            "text/plain": [
              "0.8227848101265823"
            ]
          },
          "metadata": {
            "tags": []
          },
          "execution_count": 204
        }
      ]
    }
  ]
}